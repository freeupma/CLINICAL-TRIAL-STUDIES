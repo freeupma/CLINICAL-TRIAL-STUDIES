{
  "nbformat": 4,
  "nbformat_minor": 0,
  "metadata": {
    "colab": {
      "provenance": []
    },
    "kernelspec": {
      "name": "python3",
      "display_name": "Python 3"
    },
    "language_info": {
      "name": "python"
    }
  },
  "cells": [
    {
      "cell_type": "markdown",
      "source": [
        "#**A Machine Learning Model to Predict Whether a Clinical Trial Study Will Be Completed or Terminated**"
      ],
      "metadata": {
        "id": "cAEJbZlTmLk1"
      }
    },
    {
      "cell_type": "markdown",
      "source": [
        "##**1. Statement of the Problem**\n",
        "\n",
        "\n",
        "In the field of clinical research, the timely and efficient completion of clinical trials is of paramount importance for the development of new treatments and therapies. However, the factors influencing the termination or successful completion of different clinical trial phases are complex and multifaceted. Currently, there exists a need for a reliable predictive model leveraging Machine Learning techniques to anticipate the outcomes of clinical trials. Given a comprehensive dataset encompassing crucial parameters such as NCT number, study title, study status, conditions, interventions, phases, enrollment, study type, study design, start date, completion dates, and various other relevant attributes, the challenge is to develop an accurate and robust machine learning model. This model should predict with precision whether a clinical trial will be terminated prematurely or completed successfully based on the provided dataset. The predictive analysis is expected to consider diverse variables including study demographics, trial specifics, and organizational aspects (such as sponsors and collaborators) to provide actionable insights. This model will aid researchers, sponsors, and regulatory bodies in optimizing resource allocation, improving decision-making, and ensuring the successful progression of clinical trials."
      ],
      "metadata": {
        "id": "x2hv_wp3nZaF"
      }
    },
    {
      "cell_type": "markdown",
      "source": [
        "###1.1 Objectives\n",
        "\n",
        "#a) Main objective\n",
        "\n",
        "To develop a machine learning model for clinical studies to help predict the completion or termination of clinical trials.\n",
        "\n",
        "#b) Specific objectives\n",
        "\n",
        "* To establish the type of clinical studies conducted.\n",
        "* To obtain the number of clinical trial studies in each phase(Phase1 to Phase 3).\n",
        "* To find the most studied diseases\n",
        "* To find out the top sponsors of the clinical studies.\n",
        "\n",
        "\n",
        "*   To find out the statuses of the registered clinical studies\n",
        "*   To establish the most commonly used method of clinical studies\n",
        "\n"
      ],
      "metadata": {
        "id": "m8FS3fnAnaoP"
      }
    },
    {
      "cell_type": "markdown",
      "source": [
        "### 1.2 Defining the Metric for Success"
      ],
      "metadata": {
        "id": "TJ7sSzsvnpqa"
      }
    },
    {
      "cell_type": "markdown",
      "source": [
        "\n",
        "\n",
        "*   Perform Exploratory Data Analysis on the dataset.\n",
        "\n",
        "*   Project will be considered successful if we achieve an F1 score of 1.\n",
        "   \n",
        "\n"
      ],
      "metadata": {
        "id": "5urRuZ8PgYW-"
      }
    },
    {
      "cell_type": "markdown",
      "source": [
        "###1.3 Understanding the Variables"
      ],
      "metadata": {
        "id": "5cN6x9LKnto_"
      }
    },
    {
      "cell_type": "markdown",
      "source": [
        "The dataset contains records under 30 atrributes.\n",
        "\n",
        "1. **NCT Number:** The unique identifier assigned to a clinical trial when registered on ClinicalTrials.gov.\n",
        "2. **Study Title:** The formal title of the clinical trial, describing the research, the population studied, and the purpose of the study.\n",
        "\n",
        "3. **Study URL:** The web address where detailed information about the clinical trial can be accessed online.\n",
        "\n",
        "4. **Acronym:** An abbreviation formed from the initial letters of each word in the study title.\n",
        "\n",
        "5. **Study Status:** Indicates the current status of the clinical trial, such as recruiting, active, completed, terminated, or withdrawn.\n",
        "\n",
        "6. **Brief Summary:** A concise description of the clinical trial's purpose, methods, and goals.\n",
        "\n",
        "7. **Study Results:** Specifies whether the trial has reported its results and, if so, provides a summary of the outcomes.\n",
        "\n",
        "8. **Conditions:** Describes the medical conditions or diseases the clinical trial aims to address or study.\n",
        "\n",
        "9. **Interventions:** Details the treatments, drugs, procedures, or other interventions being tested in the trial.\n",
        "\n",
        "10. **Primary Outcome Measures:** Specifies the main objectives of the study, such as specific measurements or observations used to evaluate the trial's primary effectiveness or success.\n",
        "\n",
        "11. **Secondary Outcome Measures:** Additional measurements or observations, beyond the primary outcome, used to assess other aspects of the intervention's impact or safety.\n",
        "\n",
        "12. **Sponsors:** The individual, organization, company, or institution responsible for initiating, managing, and financing the clinical trial.\n",
        "\n",
        "13. **Collaborators:** Other entities, such as institutions or research groups, involved in the clinical trial alongside the primary sponsor.\n",
        "\n",
        "14. **Sex:** Indicates the gender of the participants involved in the trial.\n",
        "\n",
        "15. **Age:** Specifies the age range or demographic characteristics of the participants eligible for the clinical trial.\n",
        "\n",
        "16. **Phases:** Indicates the stage of the clinical trial (Phase 0, Phase 1, Phase 2, Phase 3, or Phase 4) and its purpose (testing safety, efficacy, or comparing to standard treatments).\n",
        "\n",
        "17. **Enrollment:** The number of participants planned or enrolled in the clinical trial.\n",
        "\n",
        "18. **Funder Type:** Describes the type of funding source for the trial, such as government, industry, academic, or non-profit organizations.\n",
        "\n",
        "19. **Study Type:** Specifies the type of clinical trial, such as interventional (testing treatments) or observational (observing participants without intervention).\n",
        "\n",
        "20. **Study Design:** The overall plan for the clinical trial, including its structure, duration, and methodology.\n",
        "\n",
        "21. **Start Date:** The date when the clinical trial officially began.\n",
        "\n",
        "22. **Primary Completion Date:** The anticipated date when the final participant's data for the primary outcome measure is collected.\n",
        "\n",
        "23. **Completion Date:** The anticipated or actual date when the clinical trial concludes, including data analysis and reporting.\n",
        "\n",
        "24. **Locations:** The geographical locations (hospitals, clinics, countries, etc.) where the clinical trial is conducted.\n",
        "\n",
        "25. **Study Documents:** Any additional documents or files related to the clinical trial, which might include protocols, informed consent forms, or publications.\n",
        "\n",
        "26. **Other Outcome Measures:** Includes any secondary or additional measurements, assessments, or observations made during the clinical trial that are not specified as primary or secondary outcome measures.\n",
        "\n",
        "27.  **Other IDS:** Contain additional identification numbers or codes related to the clinical trial, which could be used for tracking purposes in databases or systems\n",
        "\n",
        "28.  **First Posted:** The date when the clinical trial was first publicly registered or posted on a clinical trials registry.\n",
        "\n",
        "29.  **Results First Posted:** The first time when the results or outcome data of the clinical trial were made publicly available.\n",
        "\n",
        "30.  **Last Update Posted:** This is the most recent date when any updates or changes to the clinical trial information, including changes in the protocol, participant eligibility criteria, or outcome measures, were made publicly available."
      ],
      "metadata": {
        "id": "RilzZv3FgnE4"
      }
    },
    {
      "cell_type": "markdown",
      "source": [
        "### 1.4 Recording the Experimental Design\n",
        "\n",
        "Perform the following operations:\n",
        "\n",
        "* Define the research question\n",
        "* Load data and preview the dataset\n",
        "* Data cleaning\n",
        "* Perform univariate, bivariate analysis\n",
        "* Implement the solution\n",
        "* Challenge the solution"
      ],
      "metadata": {
        "id": "ivZeliipn7iP"
      }
    },
    {
      "cell_type": "markdown",
      "source": [
        "### 1.5 Data Relevance\n",
        "\n",
        "\n",
        "The dataset is relevant for this analysis. It summarizes the outcomes of 161,863 clinical trial studies. The datasets provide a complete overview of the information required to develop a ML model to predict the termination or completion of clinical trials.\n",
        "\n",
        "The dataset was extracted from [ClinicalTrials.gov](https://clinicaltrials.gov/).\n"
      ],
      "metadata": {
        "id": "QQb6dqeQoLRr"
      }
    },
    {
      "cell_type": "markdown",
      "source": [
        "##**2. Load the Dataset**"
      ],
      "metadata": {
        "id": "yYI4TCdQo_nR"
      }
    },
    {
      "cell_type": "code",
      "source": [
        "#Import the required libraries\n",
        "\n",
        "import pandas as pd\n",
        "import numpy as np\n",
        "from matplotlib import pyplot as plt\n",
        "%matplotlib inline\n",
        "import matplotlib\n",
        "import seaborn as sns\n",
        "from plotly.subplots import make_subplots\n",
        "import plotly.graph_objects as go\n",
        "import glob\n",
        "\n",
        "\n",
        "\n",
        "import warnings\n",
        "\n",
        "# Filter out specific warnings (e.g., FutureWarnings)\n",
        "warnings.filterwarnings('ignore', category=FutureWarning)\n"
      ],
      "metadata": {
        "id": "vEfsa5325G1Z"
      },
      "execution_count": null,
      "outputs": []
    },
    {
      "cell_type": "code",
      "source": [
        "from google.colab import drive\n",
        "drive.mount('/content/drive')"
      ],
      "metadata": {
        "colab": {
          "base_uri": "https://localhost:8080/"
        },
        "id": "zQDxmNxQPank",
        "outputId": "e6d04f5f-eee3-4167-8f40-b6af4a80fe8b"
      },
      "execution_count": null,
      "outputs": [
        {
          "output_type": "stream",
          "name": "stdout",
          "text": [
            "Drive already mounted at /content/drive; to attempt to forcibly remount, call drive.mount(\"/content/drive\", force_remount=True).\n"
          ]
        }
      ]
    },
    {
      "cell_type": "code",
      "source": [
        "import pandas as pd\n",
        "# Path to the directory containing your CSV files\n",
        "csv_directory = '/content/drive/MyDrive/DTE'\n",
        "\n",
        "# List all CSV files in the directory\n",
        "\n",
        "# The global module searches for files that match a specific file pattern/name\n",
        "\n",
        "# It can be used to search CSV files and for text in files.\n",
        "csv_files = glob.glob(f'{csv_directory}/*.csv')\n",
        "\n",
        "# Initialize an empty list to store individual dataframes\n",
        "dfs = []\n",
        "\n",
        "# Read each CSV file and append it to the list\n",
        "for csv_file in csv_files:\n",
        "    df = pd.read_csv(csv_file)\n",
        "    dfs.append(df)\n",
        "\n",
        "# Concatenate all dataframes into one\n",
        "# If True, do not use the index values along the concatenation axis\n",
        "# The resulting axis will be labeled 0, …, n - 1\n",
        "combined_df = pd.concat(dfs, ignore_index=True)\n",
        "\n",
        "# Save the combined dataframe to a new CSV file\n",
        "combined_df.to_csv('combined_file.csv', index=False)\n",
        "\n",
        "print('CSV files combined successfully and saved as combined_file.csv')"
      ],
      "metadata": {
        "colab": {
          "base_uri": "https://localhost:8080/"
        },
        "id": "WtPvlL0bkTrN",
        "outputId": "7cd23865-3b04-47b9-a274-ac4aa423c68c"
      },
      "execution_count": null,
      "outputs": [
        {
          "output_type": "stream",
          "name": "stdout",
          "text": [
            "CSV files combined successfully and saved as combined_file.csv\n"
          ]
        }
      ]
    },
    {
      "cell_type": "code",
      "source": [
        "# Replace spaces with underscores in column names\n",
        "\n",
        "combined_df.columns = combined_df.columns.str.replace(' ', '_')\n",
        "combined_df.head(5)\n"
      ],
      "metadata": {
        "colab": {
          "base_uri": "https://localhost:8080/",
          "height": 568
        },
        "id": "tyOyQxSAADLg",
        "outputId": "7afa756a-c904-4ec7-a278-a992eb6e2eff"
      },
      "execution_count": null,
      "outputs": [
        {
          "output_type": "execute_result",
          "data": {
            "text/plain": [
              "    NCT_Number                                        Study_Title  \\\n",
              "0  NCT01976325         Evaluating the Ottawa Malaria Decision Aid   \n",
              "1  NCT00914225  Effect of Bednets and a Water Purification Dev...   \n",
              "2  NCT05605925  Ivermectin-artemisinin Combination Therapy for...   \n",
              "3  NCT01464125  Fosmidomycin and Azithromycin for Acute Uncomp...   \n",
              "4  NCT02557425  Prophylaxis Against Malaria to Enhance Child D...   \n",
              "\n",
              "                                      Study_URL  Acronym Study_Status  \\\n",
              "0  https://clinicaltrials.gov/study/NCT01976325     OMDA      UNKNOWN   \n",
              "1  https://clinicaltrials.gov/study/NCT00914225      ITN    COMPLETED   \n",
              "2  https://clinicaltrials.gov/study/NCT05605925    IVIME   RECRUITING   \n",
              "3  https://clinicaltrials.gov/study/NCT01464125    JP011      UNKNOWN   \n",
              "4  https://clinicaltrials.gov/study/NCT02557425  PROTECT    COMPLETED   \n",
              "\n",
              "                                       Brief_Summary Study_Results  \\\n",
              "0  BRIEF SUMMARY\\n\\nCanadians often visit areas w...            NO   \n",
              "1  In many areas of the world most severely affec...            NO   \n",
              "2  Malaria remains a leading cause of morbidity a...            NO   \n",
              "3  The aim of this study is to evaluate the role ...            NO   \n",
              "4  Each year, \\~85.3 million pregnant women are a...            NO   \n",
              "\n",
              "                                          Conditions  \\\n",
              "0                                            Malaria   \n",
              "1  HIV Infections|Human Immunodeficiency Virus|Ma...   \n",
              "2                                            Malaria   \n",
              "3                                            Malaria   \n",
              "4                     Neurobehavioral Manifestations   \n",
              "\n",
              "                                    Interventions  \\\n",
              "0              OTHER: Ottawa Malaria Decision Aid   \n",
              "1           OTHER: Bednets and Water Purification   \n",
              "2  DRUG: Artemether/lumefantrine|DRUG: Ivermectin   \n",
              "3           DRUG: Fosmidomycin|DRUG: Azithromycin   \n",
              "4               OTHER: No intervention in PROTECT   \n",
              "\n",
              "                            Primary_Outcome_Measures  ...  \\\n",
              "0  Travellers' Knowledge Score, The traveller's k...  ...   \n",
              "1  To determine the effect of LLIN and a simple m...  ...   \n",
              "2  Malaria transmission rates in a household, Mal...  ...   \n",
              "3  day 28 cure rate of >95%, Efficacy of fosmidom...  ...   \n",
              "4  Z-scores for Overall cognitive ability, 12 mon...  ...   \n",
              "\n",
              "                                        Study_Design           Other_IDs  \\\n",
              "0  Allocation: RANDOMIZED|Intervention Model: PAR...         2010462-01H   \n",
              "1          Observational Model: |Time Perspective: p    35464-B|SSC#1554   \n",
              "2  Allocation: RANDOMIZED|Intervention Model: PAR...  MAKSHSREC-2021-237   \n",
              "3  Allocation: NON_RANDOMIZED|Intervention Model:...               JP011   \n",
              "4          Observational Model: |Time Perspective: p          1506994146   \n",
              "\n",
              "   Start_Date Primary_Completion_Date Completion_Date First_Posted  \\\n",
              "0     2014-01                 2015-11         2015-11   2013-11-05   \n",
              "1     2009-09                 2011-12         2011-12   2009-06-04   \n",
              "2  2022-08-04              2022-12-31      2022-12-31   2022-11-04   \n",
              "3     2008-11                 2009-10         2011-12   2011-11-03   \n",
              "4     2015-10              2021-08-05      2021-08-05   2015-09-23   \n",
              "\n",
              "  Results_First_Posted  Last_Update_Posted  \\\n",
              "0                  NaN          2015-04-16   \n",
              "1                  NaN          2015-05-29   \n",
              "2                  NaN          2022-11-04   \n",
              "3                  NaN          2011-11-03   \n",
              "4                  NaN          2021-08-25   \n",
              "\n",
              "                                           Locations Study_Documents  \n",
              "0  National Capital Region Occupational Health Cl...             NaN  \n",
              "1  Kisii Provincial Hospital, Kisii, Kenya|Kisumu...             NaN  \n",
              "2           ST. Paul's Health Center, Kasese, Uganda             NaN  \n",
              "3       Mahidol University, Bangkok, 10400, Thailand             NaN  \n",
              "4           Tororo District Hospital, Tororo, Uganda             NaN  \n",
              "\n",
              "[5 rows x 30 columns]"
            ],
            "text/html": [
              "\n",
              "  <div id=\"df-4882c92a-8818-402b-99ed-176d0cf5d459\" class=\"colab-df-container\">\n",
              "    <div>\n",
              "<style scoped>\n",
              "    .dataframe tbody tr th:only-of-type {\n",
              "        vertical-align: middle;\n",
              "    }\n",
              "\n",
              "    .dataframe tbody tr th {\n",
              "        vertical-align: top;\n",
              "    }\n",
              "\n",
              "    .dataframe thead th {\n",
              "        text-align: right;\n",
              "    }\n",
              "</style>\n",
              "<table border=\"1\" class=\"dataframe\">\n",
              "  <thead>\n",
              "    <tr style=\"text-align: right;\">\n",
              "      <th></th>\n",
              "      <th>NCT_Number</th>\n",
              "      <th>Study_Title</th>\n",
              "      <th>Study_URL</th>\n",
              "      <th>Acronym</th>\n",
              "      <th>Study_Status</th>\n",
              "      <th>Brief_Summary</th>\n",
              "      <th>Study_Results</th>\n",
              "      <th>Conditions</th>\n",
              "      <th>Interventions</th>\n",
              "      <th>Primary_Outcome_Measures</th>\n",
              "      <th>...</th>\n",
              "      <th>Study_Design</th>\n",
              "      <th>Other_IDs</th>\n",
              "      <th>Start_Date</th>\n",
              "      <th>Primary_Completion_Date</th>\n",
              "      <th>Completion_Date</th>\n",
              "      <th>First_Posted</th>\n",
              "      <th>Results_First_Posted</th>\n",
              "      <th>Last_Update_Posted</th>\n",
              "      <th>Locations</th>\n",
              "      <th>Study_Documents</th>\n",
              "    </tr>\n",
              "  </thead>\n",
              "  <tbody>\n",
              "    <tr>\n",
              "      <th>0</th>\n",
              "      <td>NCT01976325</td>\n",
              "      <td>Evaluating the Ottawa Malaria Decision Aid</td>\n",
              "      <td>https://clinicaltrials.gov/study/NCT01976325</td>\n",
              "      <td>OMDA</td>\n",
              "      <td>UNKNOWN</td>\n",
              "      <td>BRIEF SUMMARY\\n\\nCanadians often visit areas w...</td>\n",
              "      <td>NO</td>\n",
              "      <td>Malaria</td>\n",
              "      <td>OTHER: Ottawa Malaria Decision Aid</td>\n",
              "      <td>Travellers' Knowledge Score, The traveller's k...</td>\n",
              "      <td>...</td>\n",
              "      <td>Allocation: RANDOMIZED|Intervention Model: PAR...</td>\n",
              "      <td>2010462-01H</td>\n",
              "      <td>2014-01</td>\n",
              "      <td>2015-11</td>\n",
              "      <td>2015-11</td>\n",
              "      <td>2013-11-05</td>\n",
              "      <td>NaN</td>\n",
              "      <td>2015-04-16</td>\n",
              "      <td>National Capital Region Occupational Health Cl...</td>\n",
              "      <td>NaN</td>\n",
              "    </tr>\n",
              "    <tr>\n",
              "      <th>1</th>\n",
              "      <td>NCT00914225</td>\n",
              "      <td>Effect of Bednets and a Water Purification Dev...</td>\n",
              "      <td>https://clinicaltrials.gov/study/NCT00914225</td>\n",
              "      <td>ITN</td>\n",
              "      <td>COMPLETED</td>\n",
              "      <td>In many areas of the world most severely affec...</td>\n",
              "      <td>NO</td>\n",
              "      <td>HIV Infections|Human Immunodeficiency Virus|Ma...</td>\n",
              "      <td>OTHER: Bednets and Water Purification</td>\n",
              "      <td>To determine the effect of LLIN and a simple m...</td>\n",
              "      <td>...</td>\n",
              "      <td>Observational Model: |Time Perspective: p</td>\n",
              "      <td>35464-B|SSC#1554</td>\n",
              "      <td>2009-09</td>\n",
              "      <td>2011-12</td>\n",
              "      <td>2011-12</td>\n",
              "      <td>2009-06-04</td>\n",
              "      <td>NaN</td>\n",
              "      <td>2015-05-29</td>\n",
              "      <td>Kisii Provincial Hospital, Kisii, Kenya|Kisumu...</td>\n",
              "      <td>NaN</td>\n",
              "    </tr>\n",
              "    <tr>\n",
              "      <th>2</th>\n",
              "      <td>NCT05605925</td>\n",
              "      <td>Ivermectin-artemisinin Combination Therapy for...</td>\n",
              "      <td>https://clinicaltrials.gov/study/NCT05605925</td>\n",
              "      <td>IVIME</td>\n",
              "      <td>RECRUITING</td>\n",
              "      <td>Malaria remains a leading cause of morbidity a...</td>\n",
              "      <td>NO</td>\n",
              "      <td>Malaria</td>\n",
              "      <td>DRUG: Artemether/lumefantrine|DRUG: Ivermectin</td>\n",
              "      <td>Malaria transmission rates in a household, Mal...</td>\n",
              "      <td>...</td>\n",
              "      <td>Allocation: RANDOMIZED|Intervention Model: PAR...</td>\n",
              "      <td>MAKSHSREC-2021-237</td>\n",
              "      <td>2022-08-04</td>\n",
              "      <td>2022-12-31</td>\n",
              "      <td>2022-12-31</td>\n",
              "      <td>2022-11-04</td>\n",
              "      <td>NaN</td>\n",
              "      <td>2022-11-04</td>\n",
              "      <td>ST. Paul's Health Center, Kasese, Uganda</td>\n",
              "      <td>NaN</td>\n",
              "    </tr>\n",
              "    <tr>\n",
              "      <th>3</th>\n",
              "      <td>NCT01464125</td>\n",
              "      <td>Fosmidomycin and Azithromycin for Acute Uncomp...</td>\n",
              "      <td>https://clinicaltrials.gov/study/NCT01464125</td>\n",
              "      <td>JP011</td>\n",
              "      <td>UNKNOWN</td>\n",
              "      <td>The aim of this study is to evaluate the role ...</td>\n",
              "      <td>NO</td>\n",
              "      <td>Malaria</td>\n",
              "      <td>DRUG: Fosmidomycin|DRUG: Azithromycin</td>\n",
              "      <td>day 28 cure rate of &gt;95%, Efficacy of fosmidom...</td>\n",
              "      <td>...</td>\n",
              "      <td>Allocation: NON_RANDOMIZED|Intervention Model:...</td>\n",
              "      <td>JP011</td>\n",
              "      <td>2008-11</td>\n",
              "      <td>2009-10</td>\n",
              "      <td>2011-12</td>\n",
              "      <td>2011-11-03</td>\n",
              "      <td>NaN</td>\n",
              "      <td>2011-11-03</td>\n",
              "      <td>Mahidol University, Bangkok, 10400, Thailand</td>\n",
              "      <td>NaN</td>\n",
              "    </tr>\n",
              "    <tr>\n",
              "      <th>4</th>\n",
              "      <td>NCT02557425</td>\n",
              "      <td>Prophylaxis Against Malaria to Enhance Child D...</td>\n",
              "      <td>https://clinicaltrials.gov/study/NCT02557425</td>\n",
              "      <td>PROTECT</td>\n",
              "      <td>COMPLETED</td>\n",
              "      <td>Each year, \\~85.3 million pregnant women are a...</td>\n",
              "      <td>NO</td>\n",
              "      <td>Neurobehavioral Manifestations</td>\n",
              "      <td>OTHER: No intervention in PROTECT</td>\n",
              "      <td>Z-scores for Overall cognitive ability, 12 mon...</td>\n",
              "      <td>...</td>\n",
              "      <td>Observational Model: |Time Perspective: p</td>\n",
              "      <td>1506994146</td>\n",
              "      <td>2015-10</td>\n",
              "      <td>2021-08-05</td>\n",
              "      <td>2021-08-05</td>\n",
              "      <td>2015-09-23</td>\n",
              "      <td>NaN</td>\n",
              "      <td>2021-08-25</td>\n",
              "      <td>Tororo District Hospital, Tororo, Uganda</td>\n",
              "      <td>NaN</td>\n",
              "    </tr>\n",
              "  </tbody>\n",
              "</table>\n",
              "<p>5 rows × 30 columns</p>\n",
              "</div>\n",
              "    <div class=\"colab-df-buttons\">\n",
              "\n",
              "  <div class=\"colab-df-container\">\n",
              "    <button class=\"colab-df-convert\" onclick=\"convertToInteractive('df-4882c92a-8818-402b-99ed-176d0cf5d459')\"\n",
              "            title=\"Convert this dataframe to an interactive table.\"\n",
              "            style=\"display:none;\">\n",
              "\n",
              "  <svg xmlns=\"http://www.w3.org/2000/svg\" height=\"24px\" viewBox=\"0 -960 960 960\">\n",
              "    <path d=\"M120-120v-720h720v720H120Zm60-500h600v-160H180v160Zm220 220h160v-160H400v160Zm0 220h160v-160H400v160ZM180-400h160v-160H180v160Zm440 0h160v-160H620v160ZM180-180h160v-160H180v160Zm440 0h160v-160H620v160Z\"/>\n",
              "  </svg>\n",
              "    </button>\n",
              "\n",
              "  <style>\n",
              "    .colab-df-container {\n",
              "      display:flex;\n",
              "      gap: 12px;\n",
              "    }\n",
              "\n",
              "    .colab-df-convert {\n",
              "      background-color: #E8F0FE;\n",
              "      border: none;\n",
              "      border-radius: 50%;\n",
              "      cursor: pointer;\n",
              "      display: none;\n",
              "      fill: #1967D2;\n",
              "      height: 32px;\n",
              "      padding: 0 0 0 0;\n",
              "      width: 32px;\n",
              "    }\n",
              "\n",
              "    .colab-df-convert:hover {\n",
              "      background-color: #E2EBFA;\n",
              "      box-shadow: 0px 1px 2px rgba(60, 64, 67, 0.3), 0px 1px 3px 1px rgba(60, 64, 67, 0.15);\n",
              "      fill: #174EA6;\n",
              "    }\n",
              "\n",
              "    .colab-df-buttons div {\n",
              "      margin-bottom: 4px;\n",
              "    }\n",
              "\n",
              "    [theme=dark] .colab-df-convert {\n",
              "      background-color: #3B4455;\n",
              "      fill: #D2E3FC;\n",
              "    }\n",
              "\n",
              "    [theme=dark] .colab-df-convert:hover {\n",
              "      background-color: #434B5C;\n",
              "      box-shadow: 0px 1px 3px 1px rgba(0, 0, 0, 0.15);\n",
              "      filter: drop-shadow(0px 1px 2px rgba(0, 0, 0, 0.3));\n",
              "      fill: #FFFFFF;\n",
              "    }\n",
              "  </style>\n",
              "\n",
              "    <script>\n",
              "      const buttonEl =\n",
              "        document.querySelector('#df-4882c92a-8818-402b-99ed-176d0cf5d459 button.colab-df-convert');\n",
              "      buttonEl.style.display =\n",
              "        google.colab.kernel.accessAllowed ? 'block' : 'none';\n",
              "\n",
              "      async function convertToInteractive(key) {\n",
              "        const element = document.querySelector('#df-4882c92a-8818-402b-99ed-176d0cf5d459');\n",
              "        const dataTable =\n",
              "          await google.colab.kernel.invokeFunction('convertToInteractive',\n",
              "                                                    [key], {});\n",
              "        if (!dataTable) return;\n",
              "\n",
              "        const docLinkHtml = 'Like what you see? Visit the ' +\n",
              "          '<a target=\"_blank\" href=https://colab.research.google.com/notebooks/data_table.ipynb>data table notebook</a>'\n",
              "          + ' to learn more about interactive tables.';\n",
              "        element.innerHTML = '';\n",
              "        dataTable['output_type'] = 'display_data';\n",
              "        await google.colab.output.renderOutput(dataTable, element);\n",
              "        const docLink = document.createElement('div');\n",
              "        docLink.innerHTML = docLinkHtml;\n",
              "        element.appendChild(docLink);\n",
              "      }\n",
              "    </script>\n",
              "  </div>\n",
              "\n",
              "\n",
              "<div id=\"df-ad4d35e0-b68c-4cdb-9a5c-df2d4698a0c9\">\n",
              "  <button class=\"colab-df-quickchart\" onclick=\"quickchart('df-ad4d35e0-b68c-4cdb-9a5c-df2d4698a0c9')\"\n",
              "            title=\"Suggest charts.\"\n",
              "            style=\"display:none;\">\n",
              "\n",
              "<svg xmlns=\"http://www.w3.org/2000/svg\" height=\"24px\"viewBox=\"0 0 24 24\"\n",
              "     width=\"24px\">\n",
              "    <g>\n",
              "        <path d=\"M19 3H5c-1.1 0-2 .9-2 2v14c0 1.1.9 2 2 2h14c1.1 0 2-.9 2-2V5c0-1.1-.9-2-2-2zM9 17H7v-7h2v7zm4 0h-2V7h2v10zm4 0h-2v-4h2v4z\"/>\n",
              "    </g>\n",
              "</svg>\n",
              "  </button>\n",
              "\n",
              "<style>\n",
              "  .colab-df-quickchart {\n",
              "      --bg-color: #E8F0FE;\n",
              "      --fill-color: #1967D2;\n",
              "      --hover-bg-color: #E2EBFA;\n",
              "      --hover-fill-color: #174EA6;\n",
              "      --disabled-fill-color: #AAA;\n",
              "      --disabled-bg-color: #DDD;\n",
              "  }\n",
              "\n",
              "  [theme=dark] .colab-df-quickchart {\n",
              "      --bg-color: #3B4455;\n",
              "      --fill-color: #D2E3FC;\n",
              "      --hover-bg-color: #434B5C;\n",
              "      --hover-fill-color: #FFFFFF;\n",
              "      --disabled-bg-color: #3B4455;\n",
              "      --disabled-fill-color: #666;\n",
              "  }\n",
              "\n",
              "  .colab-df-quickchart {\n",
              "    background-color: var(--bg-color);\n",
              "    border: none;\n",
              "    border-radius: 50%;\n",
              "    cursor: pointer;\n",
              "    display: none;\n",
              "    fill: var(--fill-color);\n",
              "    height: 32px;\n",
              "    padding: 0;\n",
              "    width: 32px;\n",
              "  }\n",
              "\n",
              "  .colab-df-quickchart:hover {\n",
              "    background-color: var(--hover-bg-color);\n",
              "    box-shadow: 0 1px 2px rgba(60, 64, 67, 0.3), 0 1px 3px 1px rgba(60, 64, 67, 0.15);\n",
              "    fill: var(--button-hover-fill-color);\n",
              "  }\n",
              "\n",
              "  .colab-df-quickchart-complete:disabled,\n",
              "  .colab-df-quickchart-complete:disabled:hover {\n",
              "    background-color: var(--disabled-bg-color);\n",
              "    fill: var(--disabled-fill-color);\n",
              "    box-shadow: none;\n",
              "  }\n",
              "\n",
              "  .colab-df-spinner {\n",
              "    border: 2px solid var(--fill-color);\n",
              "    border-color: transparent;\n",
              "    border-bottom-color: var(--fill-color);\n",
              "    animation:\n",
              "      spin 1s steps(1) infinite;\n",
              "  }\n",
              "\n",
              "  @keyframes spin {\n",
              "    0% {\n",
              "      border-color: transparent;\n",
              "      border-bottom-color: var(--fill-color);\n",
              "      border-left-color: var(--fill-color);\n",
              "    }\n",
              "    20% {\n",
              "      border-color: transparent;\n",
              "      border-left-color: var(--fill-color);\n",
              "      border-top-color: var(--fill-color);\n",
              "    }\n",
              "    30% {\n",
              "      border-color: transparent;\n",
              "      border-left-color: var(--fill-color);\n",
              "      border-top-color: var(--fill-color);\n",
              "      border-right-color: var(--fill-color);\n",
              "    }\n",
              "    40% {\n",
              "      border-color: transparent;\n",
              "      border-right-color: var(--fill-color);\n",
              "      border-top-color: var(--fill-color);\n",
              "    }\n",
              "    60% {\n",
              "      border-color: transparent;\n",
              "      border-right-color: var(--fill-color);\n",
              "    }\n",
              "    80% {\n",
              "      border-color: transparent;\n",
              "      border-right-color: var(--fill-color);\n",
              "      border-bottom-color: var(--fill-color);\n",
              "    }\n",
              "    90% {\n",
              "      border-color: transparent;\n",
              "      border-bottom-color: var(--fill-color);\n",
              "    }\n",
              "  }\n",
              "</style>\n",
              "\n",
              "  <script>\n",
              "    async function quickchart(key) {\n",
              "      const quickchartButtonEl =\n",
              "        document.querySelector('#' + key + ' button');\n",
              "      quickchartButtonEl.disabled = true;  // To prevent multiple clicks.\n",
              "      quickchartButtonEl.classList.add('colab-df-spinner');\n",
              "      try {\n",
              "        const charts = await google.colab.kernel.invokeFunction(\n",
              "            'suggestCharts', [key], {});\n",
              "      } catch (error) {\n",
              "        console.error('Error during call to suggestCharts:', error);\n",
              "      }\n",
              "      quickchartButtonEl.classList.remove('colab-df-spinner');\n",
              "      quickchartButtonEl.classList.add('colab-df-quickchart-complete');\n",
              "    }\n",
              "    (() => {\n",
              "      let quickchartButtonEl =\n",
              "        document.querySelector('#df-ad4d35e0-b68c-4cdb-9a5c-df2d4698a0c9 button');\n",
              "      quickchartButtonEl.style.display =\n",
              "        google.colab.kernel.accessAllowed ? 'block' : 'none';\n",
              "    })();\n",
              "  </script>\n",
              "</div>\n",
              "    </div>\n",
              "  </div>\n"
            ]
          },
          "metadata": {},
          "execution_count": 5
        }
      ]
    },
    {
      "cell_type": "markdown",
      "source": [
        "**Observation**\n",
        "\n",
        "* Replaced the white spaces with underscores on the column."
      ],
      "metadata": {
        "id": "ko6EXaX5B6SJ"
      }
    },
    {
      "cell_type": "code",
      "source": [
        "#A list of all columns\n",
        "combined_df.columns"
      ],
      "metadata": {
        "colab": {
          "base_uri": "https://localhost:8080/"
        },
        "id": "PIFseCe9eGZg",
        "outputId": "4bbbbed9-79a2-495a-f565-5907e034934e"
      },
      "execution_count": null,
      "outputs": [
        {
          "output_type": "execute_result",
          "data": {
            "text/plain": [
              "Index(['NCT_Number', 'Study_Title', 'Study_URL', 'Acronym', 'Study_Status',\n",
              "       'Brief_Summary', 'Study_Results', 'Conditions', 'Interventions',\n",
              "       'Primary_Outcome_Measures', 'Secondary_Outcome_Measures',\n",
              "       'Other_Outcome_Measures', 'Sponsor', 'Collaborators', 'Sex', 'Age',\n",
              "       'Phases', 'Enrollment', 'Funder_Type', 'Study_Type', 'Study_Design',\n",
              "       'Other_IDs', 'Start_Date', 'Primary_Completion_Date', 'Completion_Date',\n",
              "       'First_Posted', 'Results_First_Posted', 'Last_Update_Posted',\n",
              "       'Locations', 'Study_Documents'],\n",
              "      dtype='object')"
            ]
          },
          "metadata": {},
          "execution_count": 6
        }
      ]
    },
    {
      "cell_type": "markdown",
      "source": [
        "##**3. Exploratory Data Analysis**\n",
        "\n",
        "> EDA is used to investigate the dataset and summarize the key insights. It gives the basic understanding of the data, it's distribution, and relationship between variables. Graphs and python functions are used to explore the data. There will be two type of analysis; univariate and bivariate analysis. We will perform the following:\n",
        "\n",
        "**2.1) Understanding Your Variables**\n",
        "\n",
        "\n",
        "> 2.1.1) Head of the dataset\n",
        "\n",
        "> 2.1.2) The shape of the dataset\n",
        "\n",
        "> 2.1.3) List the types of the columns\n",
        "\n",
        "> 2.1.4) Summary of the dataset\n",
        "\n",
        "\n",
        "**2.2) Data Cleaning**\n",
        "\n",
        ">2.2.1) Check for duplicates\n",
        "\n",
        ">2.2.2) Check for NULL values\n",
        "\n"
      ],
      "metadata": {
        "id": "nlU2ZQpvqe-J"
      }
    },
    {
      "cell_type": "markdown",
      "source": [
        "**2.1.1) Head of the dataset**"
      ],
      "metadata": {
        "id": "SIJ24YkO-7TG"
      }
    },
    {
      "cell_type": "code",
      "source": [
        "# Display the top 5 rows\n",
        "combined_df.head()"
      ],
      "metadata": {
        "colab": {
          "base_uri": "https://localhost:8080/",
          "height": 568
        },
        "id": "8-0-PdZd__nc",
        "outputId": "4df4501d-9389-4a5b-fe38-2ed2b4af8ebb"
      },
      "execution_count": null,
      "outputs": [
        {
          "output_type": "execute_result",
          "data": {
            "text/plain": [
              "    NCT_Number                                        Study_Title  \\\n",
              "0  NCT01976325         Evaluating the Ottawa Malaria Decision Aid   \n",
              "1  NCT00914225  Effect of Bednets and a Water Purification Dev...   \n",
              "2  NCT05605925  Ivermectin-artemisinin Combination Therapy for...   \n",
              "3  NCT01464125  Fosmidomycin and Azithromycin for Acute Uncomp...   \n",
              "4  NCT02557425  Prophylaxis Against Malaria to Enhance Child D...   \n",
              "\n",
              "                                      Study_URL  Acronym Study_Status  \\\n",
              "0  https://clinicaltrials.gov/study/NCT01976325     OMDA      UNKNOWN   \n",
              "1  https://clinicaltrials.gov/study/NCT00914225      ITN    COMPLETED   \n",
              "2  https://clinicaltrials.gov/study/NCT05605925    IVIME   RECRUITING   \n",
              "3  https://clinicaltrials.gov/study/NCT01464125    JP011      UNKNOWN   \n",
              "4  https://clinicaltrials.gov/study/NCT02557425  PROTECT    COMPLETED   \n",
              "\n",
              "                                       Brief_Summary Study_Results  \\\n",
              "0  BRIEF SUMMARY\\n\\nCanadians often visit areas w...            NO   \n",
              "1  In many areas of the world most severely affec...            NO   \n",
              "2  Malaria remains a leading cause of morbidity a...            NO   \n",
              "3  The aim of this study is to evaluate the role ...            NO   \n",
              "4  Each year, \\~85.3 million pregnant women are a...            NO   \n",
              "\n",
              "                                          Conditions  \\\n",
              "0                                            Malaria   \n",
              "1  HIV Infections|Human Immunodeficiency Virus|Ma...   \n",
              "2                                            Malaria   \n",
              "3                                            Malaria   \n",
              "4                     Neurobehavioral Manifestations   \n",
              "\n",
              "                                    Interventions  \\\n",
              "0              OTHER: Ottawa Malaria Decision Aid   \n",
              "1           OTHER: Bednets and Water Purification   \n",
              "2  DRUG: Artemether/lumefantrine|DRUG: Ivermectin   \n",
              "3           DRUG: Fosmidomycin|DRUG: Azithromycin   \n",
              "4               OTHER: No intervention in PROTECT   \n",
              "\n",
              "                            Primary_Outcome_Measures  ...  \\\n",
              "0  Travellers' Knowledge Score, The traveller's k...  ...   \n",
              "1  To determine the effect of LLIN and a simple m...  ...   \n",
              "2  Malaria transmission rates in a household, Mal...  ...   \n",
              "3  day 28 cure rate of >95%, Efficacy of fosmidom...  ...   \n",
              "4  Z-scores for Overall cognitive ability, 12 mon...  ...   \n",
              "\n",
              "                                        Study_Design           Other_IDs  \\\n",
              "0  Allocation: RANDOMIZED|Intervention Model: PAR...         2010462-01H   \n",
              "1          Observational Model: |Time Perspective: p    35464-B|SSC#1554   \n",
              "2  Allocation: RANDOMIZED|Intervention Model: PAR...  MAKSHSREC-2021-237   \n",
              "3  Allocation: NON_RANDOMIZED|Intervention Model:...               JP011   \n",
              "4          Observational Model: |Time Perspective: p          1506994146   \n",
              "\n",
              "   Start_Date Primary_Completion_Date Completion_Date First_Posted  \\\n",
              "0     2014-01                 2015-11         2015-11   2013-11-05   \n",
              "1     2009-09                 2011-12         2011-12   2009-06-04   \n",
              "2  2022-08-04              2022-12-31      2022-12-31   2022-11-04   \n",
              "3     2008-11                 2009-10         2011-12   2011-11-03   \n",
              "4     2015-10              2021-08-05      2021-08-05   2015-09-23   \n",
              "\n",
              "  Results_First_Posted  Last_Update_Posted  \\\n",
              "0                  NaN          2015-04-16   \n",
              "1                  NaN          2015-05-29   \n",
              "2                  NaN          2022-11-04   \n",
              "3                  NaN          2011-11-03   \n",
              "4                  NaN          2021-08-25   \n",
              "\n",
              "                                           Locations Study_Documents  \n",
              "0  National Capital Region Occupational Health Cl...             NaN  \n",
              "1  Kisii Provincial Hospital, Kisii, Kenya|Kisumu...             NaN  \n",
              "2           ST. Paul's Health Center, Kasese, Uganda             NaN  \n",
              "3       Mahidol University, Bangkok, 10400, Thailand             NaN  \n",
              "4           Tororo District Hospital, Tororo, Uganda             NaN  \n",
              "\n",
              "[5 rows x 30 columns]"
            ],
            "text/html": [
              "\n",
              "  <div id=\"df-c630c6ca-6c57-436e-840d-76b7af4f9cab\" class=\"colab-df-container\">\n",
              "    <div>\n",
              "<style scoped>\n",
              "    .dataframe tbody tr th:only-of-type {\n",
              "        vertical-align: middle;\n",
              "    }\n",
              "\n",
              "    .dataframe tbody tr th {\n",
              "        vertical-align: top;\n",
              "    }\n",
              "\n",
              "    .dataframe thead th {\n",
              "        text-align: right;\n",
              "    }\n",
              "</style>\n",
              "<table border=\"1\" class=\"dataframe\">\n",
              "  <thead>\n",
              "    <tr style=\"text-align: right;\">\n",
              "      <th></th>\n",
              "      <th>NCT_Number</th>\n",
              "      <th>Study_Title</th>\n",
              "      <th>Study_URL</th>\n",
              "      <th>Acronym</th>\n",
              "      <th>Study_Status</th>\n",
              "      <th>Brief_Summary</th>\n",
              "      <th>Study_Results</th>\n",
              "      <th>Conditions</th>\n",
              "      <th>Interventions</th>\n",
              "      <th>Primary_Outcome_Measures</th>\n",
              "      <th>...</th>\n",
              "      <th>Study_Design</th>\n",
              "      <th>Other_IDs</th>\n",
              "      <th>Start_Date</th>\n",
              "      <th>Primary_Completion_Date</th>\n",
              "      <th>Completion_Date</th>\n",
              "      <th>First_Posted</th>\n",
              "      <th>Results_First_Posted</th>\n",
              "      <th>Last_Update_Posted</th>\n",
              "      <th>Locations</th>\n",
              "      <th>Study_Documents</th>\n",
              "    </tr>\n",
              "  </thead>\n",
              "  <tbody>\n",
              "    <tr>\n",
              "      <th>0</th>\n",
              "      <td>NCT01976325</td>\n",
              "      <td>Evaluating the Ottawa Malaria Decision Aid</td>\n",
              "      <td>https://clinicaltrials.gov/study/NCT01976325</td>\n",
              "      <td>OMDA</td>\n",
              "      <td>UNKNOWN</td>\n",
              "      <td>BRIEF SUMMARY\\n\\nCanadians often visit areas w...</td>\n",
              "      <td>NO</td>\n",
              "      <td>Malaria</td>\n",
              "      <td>OTHER: Ottawa Malaria Decision Aid</td>\n",
              "      <td>Travellers' Knowledge Score, The traveller's k...</td>\n",
              "      <td>...</td>\n",
              "      <td>Allocation: RANDOMIZED|Intervention Model: PAR...</td>\n",
              "      <td>2010462-01H</td>\n",
              "      <td>2014-01</td>\n",
              "      <td>2015-11</td>\n",
              "      <td>2015-11</td>\n",
              "      <td>2013-11-05</td>\n",
              "      <td>NaN</td>\n",
              "      <td>2015-04-16</td>\n",
              "      <td>National Capital Region Occupational Health Cl...</td>\n",
              "      <td>NaN</td>\n",
              "    </tr>\n",
              "    <tr>\n",
              "      <th>1</th>\n",
              "      <td>NCT00914225</td>\n",
              "      <td>Effect of Bednets and a Water Purification Dev...</td>\n",
              "      <td>https://clinicaltrials.gov/study/NCT00914225</td>\n",
              "      <td>ITN</td>\n",
              "      <td>COMPLETED</td>\n",
              "      <td>In many areas of the world most severely affec...</td>\n",
              "      <td>NO</td>\n",
              "      <td>HIV Infections|Human Immunodeficiency Virus|Ma...</td>\n",
              "      <td>OTHER: Bednets and Water Purification</td>\n",
              "      <td>To determine the effect of LLIN and a simple m...</td>\n",
              "      <td>...</td>\n",
              "      <td>Observational Model: |Time Perspective: p</td>\n",
              "      <td>35464-B|SSC#1554</td>\n",
              "      <td>2009-09</td>\n",
              "      <td>2011-12</td>\n",
              "      <td>2011-12</td>\n",
              "      <td>2009-06-04</td>\n",
              "      <td>NaN</td>\n",
              "      <td>2015-05-29</td>\n",
              "      <td>Kisii Provincial Hospital, Kisii, Kenya|Kisumu...</td>\n",
              "      <td>NaN</td>\n",
              "    </tr>\n",
              "    <tr>\n",
              "      <th>2</th>\n",
              "      <td>NCT05605925</td>\n",
              "      <td>Ivermectin-artemisinin Combination Therapy for...</td>\n",
              "      <td>https://clinicaltrials.gov/study/NCT05605925</td>\n",
              "      <td>IVIME</td>\n",
              "      <td>RECRUITING</td>\n",
              "      <td>Malaria remains a leading cause of morbidity a...</td>\n",
              "      <td>NO</td>\n",
              "      <td>Malaria</td>\n",
              "      <td>DRUG: Artemether/lumefantrine|DRUG: Ivermectin</td>\n",
              "      <td>Malaria transmission rates in a household, Mal...</td>\n",
              "      <td>...</td>\n",
              "      <td>Allocation: RANDOMIZED|Intervention Model: PAR...</td>\n",
              "      <td>MAKSHSREC-2021-237</td>\n",
              "      <td>2022-08-04</td>\n",
              "      <td>2022-12-31</td>\n",
              "      <td>2022-12-31</td>\n",
              "      <td>2022-11-04</td>\n",
              "      <td>NaN</td>\n",
              "      <td>2022-11-04</td>\n",
              "      <td>ST. Paul's Health Center, Kasese, Uganda</td>\n",
              "      <td>NaN</td>\n",
              "    </tr>\n",
              "    <tr>\n",
              "      <th>3</th>\n",
              "      <td>NCT01464125</td>\n",
              "      <td>Fosmidomycin and Azithromycin for Acute Uncomp...</td>\n",
              "      <td>https://clinicaltrials.gov/study/NCT01464125</td>\n",
              "      <td>JP011</td>\n",
              "      <td>UNKNOWN</td>\n",
              "      <td>The aim of this study is to evaluate the role ...</td>\n",
              "      <td>NO</td>\n",
              "      <td>Malaria</td>\n",
              "      <td>DRUG: Fosmidomycin|DRUG: Azithromycin</td>\n",
              "      <td>day 28 cure rate of &gt;95%, Efficacy of fosmidom...</td>\n",
              "      <td>...</td>\n",
              "      <td>Allocation: NON_RANDOMIZED|Intervention Model:...</td>\n",
              "      <td>JP011</td>\n",
              "      <td>2008-11</td>\n",
              "      <td>2009-10</td>\n",
              "      <td>2011-12</td>\n",
              "      <td>2011-11-03</td>\n",
              "      <td>NaN</td>\n",
              "      <td>2011-11-03</td>\n",
              "      <td>Mahidol University, Bangkok, 10400, Thailand</td>\n",
              "      <td>NaN</td>\n",
              "    </tr>\n",
              "    <tr>\n",
              "      <th>4</th>\n",
              "      <td>NCT02557425</td>\n",
              "      <td>Prophylaxis Against Malaria to Enhance Child D...</td>\n",
              "      <td>https://clinicaltrials.gov/study/NCT02557425</td>\n",
              "      <td>PROTECT</td>\n",
              "      <td>COMPLETED</td>\n",
              "      <td>Each year, \\~85.3 million pregnant women are a...</td>\n",
              "      <td>NO</td>\n",
              "      <td>Neurobehavioral Manifestations</td>\n",
              "      <td>OTHER: No intervention in PROTECT</td>\n",
              "      <td>Z-scores for Overall cognitive ability, 12 mon...</td>\n",
              "      <td>...</td>\n",
              "      <td>Observational Model: |Time Perspective: p</td>\n",
              "      <td>1506994146</td>\n",
              "      <td>2015-10</td>\n",
              "      <td>2021-08-05</td>\n",
              "      <td>2021-08-05</td>\n",
              "      <td>2015-09-23</td>\n",
              "      <td>NaN</td>\n",
              "      <td>2021-08-25</td>\n",
              "      <td>Tororo District Hospital, Tororo, Uganda</td>\n",
              "      <td>NaN</td>\n",
              "    </tr>\n",
              "  </tbody>\n",
              "</table>\n",
              "<p>5 rows × 30 columns</p>\n",
              "</div>\n",
              "    <div class=\"colab-df-buttons\">\n",
              "\n",
              "  <div class=\"colab-df-container\">\n",
              "    <button class=\"colab-df-convert\" onclick=\"convertToInteractive('df-c630c6ca-6c57-436e-840d-76b7af4f9cab')\"\n",
              "            title=\"Convert this dataframe to an interactive table.\"\n",
              "            style=\"display:none;\">\n",
              "\n",
              "  <svg xmlns=\"http://www.w3.org/2000/svg\" height=\"24px\" viewBox=\"0 -960 960 960\">\n",
              "    <path d=\"M120-120v-720h720v720H120Zm60-500h600v-160H180v160Zm220 220h160v-160H400v160Zm0 220h160v-160H400v160ZM180-400h160v-160H180v160Zm440 0h160v-160H620v160ZM180-180h160v-160H180v160Zm440 0h160v-160H620v160Z\"/>\n",
              "  </svg>\n",
              "    </button>\n",
              "\n",
              "  <style>\n",
              "    .colab-df-container {\n",
              "      display:flex;\n",
              "      gap: 12px;\n",
              "    }\n",
              "\n",
              "    .colab-df-convert {\n",
              "      background-color: #E8F0FE;\n",
              "      border: none;\n",
              "      border-radius: 50%;\n",
              "      cursor: pointer;\n",
              "      display: none;\n",
              "      fill: #1967D2;\n",
              "      height: 32px;\n",
              "      padding: 0 0 0 0;\n",
              "      width: 32px;\n",
              "    }\n",
              "\n",
              "    .colab-df-convert:hover {\n",
              "      background-color: #E2EBFA;\n",
              "      box-shadow: 0px 1px 2px rgba(60, 64, 67, 0.3), 0px 1px 3px 1px rgba(60, 64, 67, 0.15);\n",
              "      fill: #174EA6;\n",
              "    }\n",
              "\n",
              "    .colab-df-buttons div {\n",
              "      margin-bottom: 4px;\n",
              "    }\n",
              "\n",
              "    [theme=dark] .colab-df-convert {\n",
              "      background-color: #3B4455;\n",
              "      fill: #D2E3FC;\n",
              "    }\n",
              "\n",
              "    [theme=dark] .colab-df-convert:hover {\n",
              "      background-color: #434B5C;\n",
              "      box-shadow: 0px 1px 3px 1px rgba(0, 0, 0, 0.15);\n",
              "      filter: drop-shadow(0px 1px 2px rgba(0, 0, 0, 0.3));\n",
              "      fill: #FFFFFF;\n",
              "    }\n",
              "  </style>\n",
              "\n",
              "    <script>\n",
              "      const buttonEl =\n",
              "        document.querySelector('#df-c630c6ca-6c57-436e-840d-76b7af4f9cab button.colab-df-convert');\n",
              "      buttonEl.style.display =\n",
              "        google.colab.kernel.accessAllowed ? 'block' : 'none';\n",
              "\n",
              "      async function convertToInteractive(key) {\n",
              "        const element = document.querySelector('#df-c630c6ca-6c57-436e-840d-76b7af4f9cab');\n",
              "        const dataTable =\n",
              "          await google.colab.kernel.invokeFunction('convertToInteractive',\n",
              "                                                    [key], {});\n",
              "        if (!dataTable) return;\n",
              "\n",
              "        const docLinkHtml = 'Like what you see? Visit the ' +\n",
              "          '<a target=\"_blank\" href=https://colab.research.google.com/notebooks/data_table.ipynb>data table notebook</a>'\n",
              "          + ' to learn more about interactive tables.';\n",
              "        element.innerHTML = '';\n",
              "        dataTable['output_type'] = 'display_data';\n",
              "        await google.colab.output.renderOutput(dataTable, element);\n",
              "        const docLink = document.createElement('div');\n",
              "        docLink.innerHTML = docLinkHtml;\n",
              "        element.appendChild(docLink);\n",
              "      }\n",
              "    </script>\n",
              "  </div>\n",
              "\n",
              "\n",
              "<div id=\"df-474fea4a-d71b-40e5-b0f3-df8775908fbd\">\n",
              "  <button class=\"colab-df-quickchart\" onclick=\"quickchart('df-474fea4a-d71b-40e5-b0f3-df8775908fbd')\"\n",
              "            title=\"Suggest charts.\"\n",
              "            style=\"display:none;\">\n",
              "\n",
              "<svg xmlns=\"http://www.w3.org/2000/svg\" height=\"24px\"viewBox=\"0 0 24 24\"\n",
              "     width=\"24px\">\n",
              "    <g>\n",
              "        <path d=\"M19 3H5c-1.1 0-2 .9-2 2v14c0 1.1.9 2 2 2h14c1.1 0 2-.9 2-2V5c0-1.1-.9-2-2-2zM9 17H7v-7h2v7zm4 0h-2V7h2v10zm4 0h-2v-4h2v4z\"/>\n",
              "    </g>\n",
              "</svg>\n",
              "  </button>\n",
              "\n",
              "<style>\n",
              "  .colab-df-quickchart {\n",
              "      --bg-color: #E8F0FE;\n",
              "      --fill-color: #1967D2;\n",
              "      --hover-bg-color: #E2EBFA;\n",
              "      --hover-fill-color: #174EA6;\n",
              "      --disabled-fill-color: #AAA;\n",
              "      --disabled-bg-color: #DDD;\n",
              "  }\n",
              "\n",
              "  [theme=dark] .colab-df-quickchart {\n",
              "      --bg-color: #3B4455;\n",
              "      --fill-color: #D2E3FC;\n",
              "      --hover-bg-color: #434B5C;\n",
              "      --hover-fill-color: #FFFFFF;\n",
              "      --disabled-bg-color: #3B4455;\n",
              "      --disabled-fill-color: #666;\n",
              "  }\n",
              "\n",
              "  .colab-df-quickchart {\n",
              "    background-color: var(--bg-color);\n",
              "    border: none;\n",
              "    border-radius: 50%;\n",
              "    cursor: pointer;\n",
              "    display: none;\n",
              "    fill: var(--fill-color);\n",
              "    height: 32px;\n",
              "    padding: 0;\n",
              "    width: 32px;\n",
              "  }\n",
              "\n",
              "  .colab-df-quickchart:hover {\n",
              "    background-color: var(--hover-bg-color);\n",
              "    box-shadow: 0 1px 2px rgba(60, 64, 67, 0.3), 0 1px 3px 1px rgba(60, 64, 67, 0.15);\n",
              "    fill: var(--button-hover-fill-color);\n",
              "  }\n",
              "\n",
              "  .colab-df-quickchart-complete:disabled,\n",
              "  .colab-df-quickchart-complete:disabled:hover {\n",
              "    background-color: var(--disabled-bg-color);\n",
              "    fill: var(--disabled-fill-color);\n",
              "    box-shadow: none;\n",
              "  }\n",
              "\n",
              "  .colab-df-spinner {\n",
              "    border: 2px solid var(--fill-color);\n",
              "    border-color: transparent;\n",
              "    border-bottom-color: var(--fill-color);\n",
              "    animation:\n",
              "      spin 1s steps(1) infinite;\n",
              "  }\n",
              "\n",
              "  @keyframes spin {\n",
              "    0% {\n",
              "      border-color: transparent;\n",
              "      border-bottom-color: var(--fill-color);\n",
              "      border-left-color: var(--fill-color);\n",
              "    }\n",
              "    20% {\n",
              "      border-color: transparent;\n",
              "      border-left-color: var(--fill-color);\n",
              "      border-top-color: var(--fill-color);\n",
              "    }\n",
              "    30% {\n",
              "      border-color: transparent;\n",
              "      border-left-color: var(--fill-color);\n",
              "      border-top-color: var(--fill-color);\n",
              "      border-right-color: var(--fill-color);\n",
              "    }\n",
              "    40% {\n",
              "      border-color: transparent;\n",
              "      border-right-color: var(--fill-color);\n",
              "      border-top-color: var(--fill-color);\n",
              "    }\n",
              "    60% {\n",
              "      border-color: transparent;\n",
              "      border-right-color: var(--fill-color);\n",
              "    }\n",
              "    80% {\n",
              "      border-color: transparent;\n",
              "      border-right-color: var(--fill-color);\n",
              "      border-bottom-color: var(--fill-color);\n",
              "    }\n",
              "    90% {\n",
              "      border-color: transparent;\n",
              "      border-bottom-color: var(--fill-color);\n",
              "    }\n",
              "  }\n",
              "</style>\n",
              "\n",
              "  <script>\n",
              "    async function quickchart(key) {\n",
              "      const quickchartButtonEl =\n",
              "        document.querySelector('#' + key + ' button');\n",
              "      quickchartButtonEl.disabled = true;  // To prevent multiple clicks.\n",
              "      quickchartButtonEl.classList.add('colab-df-spinner');\n",
              "      try {\n",
              "        const charts = await google.colab.kernel.invokeFunction(\n",
              "            'suggestCharts', [key], {});\n",
              "      } catch (error) {\n",
              "        console.error('Error during call to suggestCharts:', error);\n",
              "      }\n",
              "      quickchartButtonEl.classList.remove('colab-df-spinner');\n",
              "      quickchartButtonEl.classList.add('colab-df-quickchart-complete');\n",
              "    }\n",
              "    (() => {\n",
              "      let quickchartButtonEl =\n",
              "        document.querySelector('#df-474fea4a-d71b-40e5-b0f3-df8775908fbd button');\n",
              "      quickchartButtonEl.style.display =\n",
              "        google.colab.kernel.accessAllowed ? 'block' : 'none';\n",
              "    })();\n",
              "  </script>\n",
              "</div>\n",
              "    </div>\n",
              "  </div>\n"
            ]
          },
          "metadata": {},
          "execution_count": 7
        }
      ]
    },
    {
      "cell_type": "markdown",
      "source": [
        "**2.1.2) Shape of the dataset**"
      ],
      "metadata": {
        "id": "YWGr4yuMA4SP"
      }
    },
    {
      "cell_type": "code",
      "source": [
        "combined_df.shape"
      ],
      "metadata": {
        "colab": {
          "base_uri": "https://localhost:8080/"
        },
        "id": "Sbqr7syfA5pz",
        "outputId": "61554acf-17a2-4311-c4bc-0c076017508e"
      },
      "execution_count": null,
      "outputs": [
        {
          "output_type": "execute_result",
          "data": {
            "text/plain": [
              "(161863, 30)"
            ]
          },
          "metadata": {},
          "execution_count": 8
        }
      ]
    },
    {
      "cell_type": "markdown",
      "source": [
        "**Observation**\n",
        "\n",
        "* The dataset contains 30 columns and 161,863 rows"
      ],
      "metadata": {
        "id": "C6saQPxZBg9L"
      }
    },
    {
      "cell_type": "markdown",
      "source": [
        "**2.1.3) List of the data types of the columns**"
      ],
      "metadata": {
        "id": "4AzL2VnnBUvP"
      }
    },
    {
      "cell_type": "code",
      "source": [
        "combined_df.dtypes"
      ],
      "metadata": {
        "colab": {
          "base_uri": "https://localhost:8080/"
        },
        "id": "nBaEyyh0B3Nu",
        "outputId": "cdc48e56-7ce7-4bdf-df3e-9f2b0e4ead4d"
      },
      "execution_count": null,
      "outputs": [
        {
          "output_type": "execute_result",
          "data": {
            "text/plain": [
              "NCT_Number                     object\n",
              "Study_Title                    object\n",
              "Study_URL                      object\n",
              "Acronym                        object\n",
              "Study_Status                   object\n",
              "Brief_Summary                  object\n",
              "Study_Results                  object\n",
              "Conditions                     object\n",
              "Interventions                  object\n",
              "Primary_Outcome_Measures       object\n",
              "Secondary_Outcome_Measures     object\n",
              "Other_Outcome_Measures         object\n",
              "Sponsor                        object\n",
              "Collaborators                  object\n",
              "Sex                            object\n",
              "Age                            object\n",
              "Phases                         object\n",
              "Enrollment                    float64\n",
              "Funder_Type                    object\n",
              "Study_Type                     object\n",
              "Study_Design                   object\n",
              "Other_IDs                      object\n",
              "Start_Date                     object\n",
              "Primary_Completion_Date        object\n",
              "Completion_Date                object\n",
              "First_Posted                   object\n",
              "Results_First_Posted           object\n",
              "Last_Update_Posted             object\n",
              "Locations                      object\n",
              "Study_Documents                object\n",
              "dtype: object"
            ]
          },
          "metadata": {},
          "execution_count": 9
        }
      ]
    },
    {
      "cell_type": "markdown",
      "source": [
        "**Observation**\n",
        "\n",
        "* 29 columns are objects(strings) while the Enrollment column is in float format\n",
        "* We need to put the dates in the correct data type(datetime) and Enrollement into integer form."
      ],
      "metadata": {
        "id": "OmcAjr-HCAj-"
      }
    },
    {
      "cell_type": "markdown",
      "source": [
        "**2.1.4) Statistical Summary of the dataset**"
      ],
      "metadata": {
        "id": "81Tj5z0vCujN"
      }
    },
    {
      "cell_type": "code",
      "source": [
        "#Statistical summary of the numerical column(Enrollment)\n",
        "combined_df.describe()"
      ],
      "metadata": {
        "colab": {
          "base_uri": "https://localhost:8080/",
          "height": 300
        },
        "id": "IbrBrpeZDQXx",
        "outputId": "d44c1fb7-961f-4e9b-e50a-6ed2c9dd56bd"
      },
      "execution_count": null,
      "outputs": [
        {
          "output_type": "execute_result",
          "data": {
            "text/plain": [
              "         Enrollment\n",
              "count  1.583940e+05\n",
              "mean   9.374003e+03\n",
              "std    7.689174e+05\n",
              "min    0.000000e+00\n",
              "25%    3.000000e+01\n",
              "50%    7.600000e+01\n",
              "75%    2.340000e+02\n",
              "max    1.888141e+08"
            ],
            "text/html": [
              "\n",
              "  <div id=\"df-31c9a5bd-af8d-4517-9c17-1d3f2d976f6f\" class=\"colab-df-container\">\n",
              "    <div>\n",
              "<style scoped>\n",
              "    .dataframe tbody tr th:only-of-type {\n",
              "        vertical-align: middle;\n",
              "    }\n",
              "\n",
              "    .dataframe tbody tr th {\n",
              "        vertical-align: top;\n",
              "    }\n",
              "\n",
              "    .dataframe thead th {\n",
              "        text-align: right;\n",
              "    }\n",
              "</style>\n",
              "<table border=\"1\" class=\"dataframe\">\n",
              "  <thead>\n",
              "    <tr style=\"text-align: right;\">\n",
              "      <th></th>\n",
              "      <th>Enrollment</th>\n",
              "    </tr>\n",
              "  </thead>\n",
              "  <tbody>\n",
              "    <tr>\n",
              "      <th>count</th>\n",
              "      <td>1.583940e+05</td>\n",
              "    </tr>\n",
              "    <tr>\n",
              "      <th>mean</th>\n",
              "      <td>9.374003e+03</td>\n",
              "    </tr>\n",
              "    <tr>\n",
              "      <th>std</th>\n",
              "      <td>7.689174e+05</td>\n",
              "    </tr>\n",
              "    <tr>\n",
              "      <th>min</th>\n",
              "      <td>0.000000e+00</td>\n",
              "    </tr>\n",
              "    <tr>\n",
              "      <th>25%</th>\n",
              "      <td>3.000000e+01</td>\n",
              "    </tr>\n",
              "    <tr>\n",
              "      <th>50%</th>\n",
              "      <td>7.600000e+01</td>\n",
              "    </tr>\n",
              "    <tr>\n",
              "      <th>75%</th>\n",
              "      <td>2.340000e+02</td>\n",
              "    </tr>\n",
              "    <tr>\n",
              "      <th>max</th>\n",
              "      <td>1.888141e+08</td>\n",
              "    </tr>\n",
              "  </tbody>\n",
              "</table>\n",
              "</div>\n",
              "    <div class=\"colab-df-buttons\">\n",
              "\n",
              "  <div class=\"colab-df-container\">\n",
              "    <button class=\"colab-df-convert\" onclick=\"convertToInteractive('df-31c9a5bd-af8d-4517-9c17-1d3f2d976f6f')\"\n",
              "            title=\"Convert this dataframe to an interactive table.\"\n",
              "            style=\"display:none;\">\n",
              "\n",
              "  <svg xmlns=\"http://www.w3.org/2000/svg\" height=\"24px\" viewBox=\"0 -960 960 960\">\n",
              "    <path d=\"M120-120v-720h720v720H120Zm60-500h600v-160H180v160Zm220 220h160v-160H400v160Zm0 220h160v-160H400v160ZM180-400h160v-160H180v160Zm440 0h160v-160H620v160ZM180-180h160v-160H180v160Zm440 0h160v-160H620v160Z\"/>\n",
              "  </svg>\n",
              "    </button>\n",
              "\n",
              "  <style>\n",
              "    .colab-df-container {\n",
              "      display:flex;\n",
              "      gap: 12px;\n",
              "    }\n",
              "\n",
              "    .colab-df-convert {\n",
              "      background-color: #E8F0FE;\n",
              "      border: none;\n",
              "      border-radius: 50%;\n",
              "      cursor: pointer;\n",
              "      display: none;\n",
              "      fill: #1967D2;\n",
              "      height: 32px;\n",
              "      padding: 0 0 0 0;\n",
              "      width: 32px;\n",
              "    }\n",
              "\n",
              "    .colab-df-convert:hover {\n",
              "      background-color: #E2EBFA;\n",
              "      box-shadow: 0px 1px 2px rgba(60, 64, 67, 0.3), 0px 1px 3px 1px rgba(60, 64, 67, 0.15);\n",
              "      fill: #174EA6;\n",
              "    }\n",
              "\n",
              "    .colab-df-buttons div {\n",
              "      margin-bottom: 4px;\n",
              "    }\n",
              "\n",
              "    [theme=dark] .colab-df-convert {\n",
              "      background-color: #3B4455;\n",
              "      fill: #D2E3FC;\n",
              "    }\n",
              "\n",
              "    [theme=dark] .colab-df-convert:hover {\n",
              "      background-color: #434B5C;\n",
              "      box-shadow: 0px 1px 3px 1px rgba(0, 0, 0, 0.15);\n",
              "      filter: drop-shadow(0px 1px 2px rgba(0, 0, 0, 0.3));\n",
              "      fill: #FFFFFF;\n",
              "    }\n",
              "  </style>\n",
              "\n",
              "    <script>\n",
              "      const buttonEl =\n",
              "        document.querySelector('#df-31c9a5bd-af8d-4517-9c17-1d3f2d976f6f button.colab-df-convert');\n",
              "      buttonEl.style.display =\n",
              "        google.colab.kernel.accessAllowed ? 'block' : 'none';\n",
              "\n",
              "      async function convertToInteractive(key) {\n",
              "        const element = document.querySelector('#df-31c9a5bd-af8d-4517-9c17-1d3f2d976f6f');\n",
              "        const dataTable =\n",
              "          await google.colab.kernel.invokeFunction('convertToInteractive',\n",
              "                                                    [key], {});\n",
              "        if (!dataTable) return;\n",
              "\n",
              "        const docLinkHtml = 'Like what you see? Visit the ' +\n",
              "          '<a target=\"_blank\" href=https://colab.research.google.com/notebooks/data_table.ipynb>data table notebook</a>'\n",
              "          + ' to learn more about interactive tables.';\n",
              "        element.innerHTML = '';\n",
              "        dataTable['output_type'] = 'display_data';\n",
              "        await google.colab.output.renderOutput(dataTable, element);\n",
              "        const docLink = document.createElement('div');\n",
              "        docLink.innerHTML = docLinkHtml;\n",
              "        element.appendChild(docLink);\n",
              "      }\n",
              "    </script>\n",
              "  </div>\n",
              "\n",
              "\n",
              "<div id=\"df-90490fa5-33a4-4b8e-8192-66e121aa8b9c\">\n",
              "  <button class=\"colab-df-quickchart\" onclick=\"quickchart('df-90490fa5-33a4-4b8e-8192-66e121aa8b9c')\"\n",
              "            title=\"Suggest charts.\"\n",
              "            style=\"display:none;\">\n",
              "\n",
              "<svg xmlns=\"http://www.w3.org/2000/svg\" height=\"24px\"viewBox=\"0 0 24 24\"\n",
              "     width=\"24px\">\n",
              "    <g>\n",
              "        <path d=\"M19 3H5c-1.1 0-2 .9-2 2v14c0 1.1.9 2 2 2h14c1.1 0 2-.9 2-2V5c0-1.1-.9-2-2-2zM9 17H7v-7h2v7zm4 0h-2V7h2v10zm4 0h-2v-4h2v4z\"/>\n",
              "    </g>\n",
              "</svg>\n",
              "  </button>\n",
              "\n",
              "<style>\n",
              "  .colab-df-quickchart {\n",
              "      --bg-color: #E8F0FE;\n",
              "      --fill-color: #1967D2;\n",
              "      --hover-bg-color: #E2EBFA;\n",
              "      --hover-fill-color: #174EA6;\n",
              "      --disabled-fill-color: #AAA;\n",
              "      --disabled-bg-color: #DDD;\n",
              "  }\n",
              "\n",
              "  [theme=dark] .colab-df-quickchart {\n",
              "      --bg-color: #3B4455;\n",
              "      --fill-color: #D2E3FC;\n",
              "      --hover-bg-color: #434B5C;\n",
              "      --hover-fill-color: #FFFFFF;\n",
              "      --disabled-bg-color: #3B4455;\n",
              "      --disabled-fill-color: #666;\n",
              "  }\n",
              "\n",
              "  .colab-df-quickchart {\n",
              "    background-color: var(--bg-color);\n",
              "    border: none;\n",
              "    border-radius: 50%;\n",
              "    cursor: pointer;\n",
              "    display: none;\n",
              "    fill: var(--fill-color);\n",
              "    height: 32px;\n",
              "    padding: 0;\n",
              "    width: 32px;\n",
              "  }\n",
              "\n",
              "  .colab-df-quickchart:hover {\n",
              "    background-color: var(--hover-bg-color);\n",
              "    box-shadow: 0 1px 2px rgba(60, 64, 67, 0.3), 0 1px 3px 1px rgba(60, 64, 67, 0.15);\n",
              "    fill: var(--button-hover-fill-color);\n",
              "  }\n",
              "\n",
              "  .colab-df-quickchart-complete:disabled,\n",
              "  .colab-df-quickchart-complete:disabled:hover {\n",
              "    background-color: var(--disabled-bg-color);\n",
              "    fill: var(--disabled-fill-color);\n",
              "    box-shadow: none;\n",
              "  }\n",
              "\n",
              "  .colab-df-spinner {\n",
              "    border: 2px solid var(--fill-color);\n",
              "    border-color: transparent;\n",
              "    border-bottom-color: var(--fill-color);\n",
              "    animation:\n",
              "      spin 1s steps(1) infinite;\n",
              "  }\n",
              "\n",
              "  @keyframes spin {\n",
              "    0% {\n",
              "      border-color: transparent;\n",
              "      border-bottom-color: var(--fill-color);\n",
              "      border-left-color: var(--fill-color);\n",
              "    }\n",
              "    20% {\n",
              "      border-color: transparent;\n",
              "      border-left-color: var(--fill-color);\n",
              "      border-top-color: var(--fill-color);\n",
              "    }\n",
              "    30% {\n",
              "      border-color: transparent;\n",
              "      border-left-color: var(--fill-color);\n",
              "      border-top-color: var(--fill-color);\n",
              "      border-right-color: var(--fill-color);\n",
              "    }\n",
              "    40% {\n",
              "      border-color: transparent;\n",
              "      border-right-color: var(--fill-color);\n",
              "      border-top-color: var(--fill-color);\n",
              "    }\n",
              "    60% {\n",
              "      border-color: transparent;\n",
              "      border-right-color: var(--fill-color);\n",
              "    }\n",
              "    80% {\n",
              "      border-color: transparent;\n",
              "      border-right-color: var(--fill-color);\n",
              "      border-bottom-color: var(--fill-color);\n",
              "    }\n",
              "    90% {\n",
              "      border-color: transparent;\n",
              "      border-bottom-color: var(--fill-color);\n",
              "    }\n",
              "  }\n",
              "</style>\n",
              "\n",
              "  <script>\n",
              "    async function quickchart(key) {\n",
              "      const quickchartButtonEl =\n",
              "        document.querySelector('#' + key + ' button');\n",
              "      quickchartButtonEl.disabled = true;  // To prevent multiple clicks.\n",
              "      quickchartButtonEl.classList.add('colab-df-spinner');\n",
              "      try {\n",
              "        const charts = await google.colab.kernel.invokeFunction(\n",
              "            'suggestCharts', [key], {});\n",
              "      } catch (error) {\n",
              "        console.error('Error during call to suggestCharts:', error);\n",
              "      }\n",
              "      quickchartButtonEl.classList.remove('colab-df-spinner');\n",
              "      quickchartButtonEl.classList.add('colab-df-quickchart-complete');\n",
              "    }\n",
              "    (() => {\n",
              "      let quickchartButtonEl =\n",
              "        document.querySelector('#df-90490fa5-33a4-4b8e-8192-66e121aa8b9c button');\n",
              "      quickchartButtonEl.style.display =\n",
              "        google.colab.kernel.accessAllowed ? 'block' : 'none';\n",
              "    })();\n",
              "  </script>\n",
              "</div>\n",
              "    </div>\n",
              "  </div>\n"
            ]
          },
          "metadata": {},
          "execution_count": 10
        }
      ]
    },
    {
      "cell_type": "markdown",
      "source": [
        "**Observation**\n",
        "\n",
        "* The row count is 158,390, which indicates the presence of missing values since the row are 161,863.\n",
        "* The mean and standard deviation are 9.37400e+03 & 7.689174e+05 respectively.\n",
        "* The IQR values(25%, 50%, and 75%) are 3.000000e+01, 7.600000e+01,and 2.340000e+02."
      ],
      "metadata": {
        "id": "kAB_qj4JDnXI"
      }
    },
    {
      "cell_type": "markdown",
      "source": [
        "**2.2) Data Cleaning**"
      ],
      "metadata": {
        "id": "RJe7ZKb0GJpG"
      }
    },
    {
      "cell_type": "markdown",
      "source": [
        "**2.2.1) Check for duplicates**"
      ],
      "metadata": {
        "id": "rHIkqst6GhmF"
      }
    },
    {
      "cell_type": "code",
      "source": [
        "# Check if there are duplicate rows or not; remove if present\n",
        "# Check the shape before we drop the duplicates\n",
        "\n",
        "combined_df.shape"
      ],
      "metadata": {
        "id": "7JMaeT5UGVAT",
        "colab": {
          "base_uri": "https://localhost:8080/"
        },
        "outputId": "4494f471-d397-46ba-8267-bce98ca10cc4"
      },
      "execution_count": null,
      "outputs": [
        {
          "output_type": "execute_result",
          "data": {
            "text/plain": [
              "(161863, 30)"
            ]
          },
          "metadata": {},
          "execution_count": 11
        }
      ]
    },
    {
      "cell_type": "markdown",
      "source": [
        "**Observation**\n",
        "\n",
        "* The initial rows are 161,863 and columns are 30"
      ],
      "metadata": {
        "id": "HzenQf7-Zqgu"
      }
    },
    {
      "cell_type": "code",
      "source": [
        "#Drop duplicate rows\n",
        "\n",
        "combined_df=combined_df.drop_duplicates()"
      ],
      "metadata": {
        "id": "VmZiTofyHXVt"
      },
      "execution_count": null,
      "outputs": []
    },
    {
      "cell_type": "code",
      "source": [
        "#Check the shape after dropping the duplicate rows\n",
        "combined_df.shape"
      ],
      "metadata": {
        "colab": {
          "base_uri": "https://localhost:8080/"
        },
        "id": "BgQJlXSlHq1Y",
        "outputId": "26f26d63-caec-41c3-a37e-1b489f54225c"
      },
      "execution_count": null,
      "outputs": [
        {
          "output_type": "execute_result",
          "data": {
            "text/plain": [
              "(152158, 30)"
            ]
          },
          "metadata": {},
          "execution_count": 13
        }
      ]
    },
    {
      "cell_type": "markdown",
      "source": [
        "**Observation**\n",
        "\n",
        "* 9,705 duplicate rows have been dropped.\n",
        "* The dataset now has 152,158 rows and 30 columns"
      ],
      "metadata": {
        "id": "jfBaTSGWIE1Q"
      }
    },
    {
      "cell_type": "markdown",
      "source": [
        "**2.2.2) Check for null values**"
      ],
      "metadata": {
        "id": "he9xt3FZGzqu"
      }
    },
    {
      "cell_type": "code",
      "source": [
        "#get the total number of null values in each column\n",
        "\n",
        "combined_df.isnull().sum()"
      ],
      "metadata": {
        "colab": {
          "base_uri": "https://localhost:8080/"
        },
        "id": "rjAj0fZbIkLg",
        "outputId": "21a04e21-a64f-4ba3-9676-71b481f6edb2"
      },
      "execution_count": null,
      "outputs": [
        {
          "output_type": "execute_result",
          "data": {
            "text/plain": [
              "NCT_Number                         0\n",
              "Study_Title                        0\n",
              "Study_URL                          0\n",
              "Acronym                       107363\n",
              "Study_Status                       0\n",
              "Brief_Summary                      0\n",
              "Study_Results                      0\n",
              "Conditions                         6\n",
              "Interventions                  15747\n",
              "Primary_Outcome_Measures        7945\n",
              "Secondary_Outcome_Measures     39453\n",
              "Other_Outcome_Measures        140007\n",
              "Sponsor                            0\n",
              "Collaborators                  94972\n",
              "Sex                              150\n",
              "Age                                0\n",
              "Phases                         74162\n",
              "Enrollment                      3369\n",
              "Funder_Type                        0\n",
              "Study_Type                         0\n",
              "Study_Design                     463\n",
              "Other_IDs                         20\n",
              "Start_Date                      2196\n",
              "Primary_Completion_Date         8077\n",
              "Completion_Date                 7159\n",
              "First_Posted                       0\n",
              "Results_First_Posted          132926\n",
              "Last_Update_Posted                 0\n",
              "Locations                      13534\n",
              "Study_Documents               142385\n",
              "dtype: int64"
            ]
          },
          "metadata": {},
          "execution_count": 14
        }
      ]
    },
    {
      "cell_type": "code",
      "source": [
        "object_cols=['Acronym','Interventions',\n",
        "       'Primary_Outcome_Measures', 'Secondary_Outcome_Measures',\n",
        "       'Other_Outcome_Measures', 'Collaborators', 'Sex',\n",
        "       'Phases', 'Enrollment', 'Study_Design',\n",
        "       'Other_IDs', 'Start_Date', 'Primary_Completion_Date', 'Completion_Date', 'Results_First_Posted'\n",
        "       'Locations', 'Study_Documents']"
      ],
      "metadata": {
        "id": "pjgGmeZYJJI2"
      },
      "execution_count": null,
      "outputs": []
    },
    {
      "cell_type": "markdown",
      "source": [
        "**Observation**\n",
        "\n",
        "* There are a lot of missing values in the columns highlighted above. Each column's null values will be handled differently. For the 'Enrollment' column,we will fill the null values with the mean."
      ],
      "metadata": {
        "id": "JqEU4OEcJQBM"
      }
    },
    {
      "cell_type": "code",
      "source": [
        "#For the ENROLLEMENT column Impute mean\n",
        "\n",
        "mean = combined_df['Enrollment'].mean()\n",
        "\n",
        "\n",
        "# Impute missing values with the mean\n",
        "combined_df['Enrollment'].fillna(mean, inplace=True)\n",
        "\n",
        "#ensure the change has been effected\n",
        "combined_df['Enrollment'].isnull().sum()"
      ],
      "metadata": {
        "colab": {
          "base_uri": "https://localhost:8080/"
        },
        "id": "bOQAk4OiLAgy",
        "outputId": "dc6c924c-5130-4dcb-fbf9-74edecf5ae4d"
      },
      "execution_count": null,
      "outputs": [
        {
          "output_type": "execute_result",
          "data": {
            "text/plain": [
              "0"
            ]
          },
          "metadata": {},
          "execution_count": 16
        }
      ]
    },
    {
      "cell_type": "markdown",
      "source": [
        "**Observation**\n",
        "\n",
        "* There are no missing values in the Enrollment column(imputed mean)\n",
        "* We proceed to change the data type into integer format"
      ],
      "metadata": {
        "id": "qqJ0RsxBLotA"
      }
    },
    {
      "cell_type": "code",
      "source": [
        "#change the Enrollement column into the correct datatype\n",
        "\n",
        "combined_df['Enrollment'] = combined_df['Enrollment'].round().astype(int)\n",
        "combined_df['Enrollment'].head(3)"
      ],
      "metadata": {
        "colab": {
          "base_uri": "https://localhost:8080/"
        },
        "id": "dEA33CXWk1tx",
        "outputId": "aa49d66b-8512-419c-e208-11f47fd86fac"
      },
      "execution_count": null,
      "outputs": [
        {
          "output_type": "execute_result",
          "data": {
            "text/plain": [
              "0    100\n",
              "1    500\n",
              "2    138\n",
              "Name: Enrollment, dtype: int64"
            ]
          },
          "metadata": {},
          "execution_count": 17
        }
      ]
    },
    {
      "cell_type": "markdown",
      "source": [
        "**Observation**\n",
        "\n",
        "* The Enrollement data type has been changed into integer since we are dealing with human subjects."
      ],
      "metadata": {
        "id": "guiS3gqKMZx6"
      }
    },
    {
      "cell_type": "code",
      "source": [
        "# Change the dates into datetime format\n",
        "\n",
        "#create a dictionary to store the date variables\n",
        "\n",
        "date_columns=['Start_Date','Primary_Completion_Date','Completion_Date',\n",
        "              'First_Posted','Results_First_Posted','Last_Update_Posted']\n",
        "\n",
        "#to avoid repetition,use a for loop function to change the datatypes to datetime\n",
        "for col in date_columns:\n",
        "  combined_df[col] = pd.to_datetime(combined_df[col])\n"
      ],
      "metadata": {
        "id": "TbLCOLQWn-2u"
      },
      "execution_count": null,
      "outputs": []
    },
    {
      "cell_type": "code",
      "source": [
        "combined_df.dtypes"
      ],
      "metadata": {
        "id": "sJsy8hI-P88G",
        "colab": {
          "base_uri": "https://localhost:8080/"
        },
        "outputId": "a13949da-d967-4223-ef7d-e5d68c19bde2"
      },
      "execution_count": null,
      "outputs": [
        {
          "output_type": "execute_result",
          "data": {
            "text/plain": [
              "NCT_Number                            object\n",
              "Study_Title                           object\n",
              "Study_URL                             object\n",
              "Acronym                               object\n",
              "Study_Status                          object\n",
              "Brief_Summary                         object\n",
              "Study_Results                         object\n",
              "Conditions                            object\n",
              "Interventions                         object\n",
              "Primary_Outcome_Measures              object\n",
              "Secondary_Outcome_Measures            object\n",
              "Other_Outcome_Measures                object\n",
              "Sponsor                               object\n",
              "Collaborators                         object\n",
              "Sex                                   object\n",
              "Age                                   object\n",
              "Phases                                object\n",
              "Enrollment                             int64\n",
              "Funder_Type                           object\n",
              "Study_Type                            object\n",
              "Study_Design                          object\n",
              "Other_IDs                             object\n",
              "Start_Date                    datetime64[ns]\n",
              "Primary_Completion_Date       datetime64[ns]\n",
              "Completion_Date               datetime64[ns]\n",
              "First_Posted                  datetime64[ns]\n",
              "Results_First_Posted          datetime64[ns]\n",
              "Last_Update_Posted            datetime64[ns]\n",
              "Locations                             object\n",
              "Study_Documents                       object\n",
              "dtype: object"
            ]
          },
          "metadata": {},
          "execution_count": 19
        }
      ]
    },
    {
      "cell_type": "markdown",
      "source": [
        "**Observation**\n",
        "\n",
        "* The dates have been converted to the datetime module, which provides classes for working with dates and time from the initial object data type."
      ],
      "metadata": {
        "id": "XBqxOte6bREE"
      }
    },
    {
      "cell_type": "code",
      "source": [
        "# Replace all the missing values with 'Missing' for columns in object datatype\n",
        "\n",
        "#create a dictionary to store these columns\n",
        "\n",
        "object_cols=['Acronym','Interventions',\n",
        "       'Primary_Outcome_Measures', 'Secondary_Outcome_Measures',\n",
        "       'Other_Outcome_Measures', 'Collaborators', 'Sex',\n",
        "       'Phases', 'Study_Design','Other_IDs','Locations', 'Study_Documents']\n",
        "for col in object_cols:\n",
        "    combined_df[col].fillna('Missing', inplace=True)\n",
        "\n"
      ],
      "metadata": {
        "id": "OGRAEBKjvWBL"
      },
      "execution_count": null,
      "outputs": []
    },
    {
      "cell_type": "code",
      "source": [
        "#Replace missing values with 'Missing' for 'Conditions' column\n",
        "combined_df.Conditions.fillna('Missing',inplace=True)"
      ],
      "metadata": {
        "id": "pQCCv6Dbb9TR"
      },
      "execution_count": null,
      "outputs": []
    },
    {
      "cell_type": "code",
      "source": [
        "#confirm\n",
        "combined_df.isnull().sum()"
      ],
      "metadata": {
        "colab": {
          "base_uri": "https://localhost:8080/"
        },
        "id": "PASiaNRKctFc",
        "outputId": "c0d0d21e-6319-4e9c-db22-0b732f400434"
      },
      "execution_count": null,
      "outputs": [
        {
          "output_type": "execute_result",
          "data": {
            "text/plain": [
              "NCT_Number                         0\n",
              "Study_Title                        0\n",
              "Study_URL                          0\n",
              "Acronym                            0\n",
              "Study_Status                       0\n",
              "Brief_Summary                      0\n",
              "Study_Results                      0\n",
              "Conditions                         0\n",
              "Interventions                      0\n",
              "Primary_Outcome_Measures           0\n",
              "Secondary_Outcome_Measures         0\n",
              "Other_Outcome_Measures             0\n",
              "Sponsor                            0\n",
              "Collaborators                      0\n",
              "Sex                                0\n",
              "Age                                0\n",
              "Phases                             0\n",
              "Enrollment                         0\n",
              "Funder_Type                        0\n",
              "Study_Type                         0\n",
              "Study_Design                       0\n",
              "Other_IDs                          0\n",
              "Start_Date                      2196\n",
              "Primary_Completion_Date         8077\n",
              "Completion_Date                 7159\n",
              "First_Posted                       0\n",
              "Results_First_Posted          132926\n",
              "Last_Update_Posted                 0\n",
              "Locations                          0\n",
              "Study_Documents                    0\n",
              "dtype: int64"
            ]
          },
          "metadata": {},
          "execution_count": 22
        }
      ]
    },
    {
      "cell_type": "markdown",
      "source": [
        "**Observation**\n",
        "\n",
        "* The are no null values in the categorical columns except for the date columns denoted by NAT"
      ],
      "metadata": {
        "id": "Pyp7O6YXdQPF"
      }
    },
    {
      "cell_type": "markdown",
      "source": [
        "### 3.1 Univariate Analysis\n",
        "\n",
        " It will involve the analysis of a single variable to understand its distribution, central tendency, spread, and other important properties using  popular libraries like Matplotlib, Seaborn, and Pandas\n",
        "\n",
        "\n"
      ],
      "metadata": {
        "id": "IyY04HAUzMCn"
      }
    },
    {
      "cell_type": "code",
      "source": [
        "# Horizontal bar of our target variable\n",
        "import matplotlib.pyplot as plt\n",
        "\n",
        "combined_df['Study_Results'].value_counts().plot(kind='bar', color='Blue')\n",
        "plt.xlabel('Count', fontsize= 10)\n",
        "plt.ylabel('Study_Results', fontsize= 10)\n",
        "plt.xticks(rotation = 45)\n",
        "plt.title('Do we have any results to study?', fontsize = 15);"
      ],
      "metadata": {
        "id": "Ndg4E0vdjae_",
        "colab": {
          "base_uri": "https://localhost:8080/",
          "height": 488
        },
        "outputId": "d843e54a-4796-41a6-b9c5-5dd98b5db568"
      },
      "execution_count": null,
      "outputs": [
        {
          "output_type": "display_data",
          "data": {
            "text/plain": [
              "<Figure size 640x480 with 1 Axes>"
            ],
            "image/png": "[encoded data removed]"
          },
          "metadata": {}
        }
      ]
    },
    {
      "cell_type": "markdown",
      "source": [
        "**Observation**\n",
        "\n",
        "* Only a small number of the clinical trials have the final study results."
      ],
      "metadata": {
        "id": "CVItHRbWkBNR"
      }
    },
    {
      "cell_type": "code",
      "source": [
        "#find unique values and their counts\n",
        "unique_values = combined_df['Study_Results'].value_counts()\n",
        "\n",
        "# Print unique values and their counts\n",
        "for value, count in unique_values.items():\n",
        "    print(f'Value: {value}, Count: {count}')"
      ],
      "metadata": {
        "id": "pmzjzxdPcU9I",
        "colab": {
          "base_uri": "https://localhost:8080/"
        },
        "outputId": "7ce87e51-48f1-4e1a-c69b-ff5fa29f57d6"
      },
      "execution_count": null,
      "outputs": [
        {
          "output_type": "stream",
          "name": "stdout",
          "text": [
            "Value: NO, Count: 132926\n",
            "Value: YES, Count: 19232\n"
          ]
        }
      ]
    },
    {
      "cell_type": "markdown",
      "source": [
        "**Observation**\n",
        "\n",
        "* The number of the clinical trials with study results are 19,232 while those without results  are 132,926."
      ],
      "metadata": {
        "id": "35x1cQ_KixzK"
      }
    },
    {
      "cell_type": "code",
      "source": [
        "# Target completion dates for the studies\n",
        "\n",
        "combined_df['Completion_Date'].dt.year.hist( bins=10, color='skyblue', edgecolor='black')\n",
        "\n"
      ],
      "metadata": {
        "colab": {
          "base_uri": "https://localhost:8080/",
          "height": 449
        },
        "id": "5f16RIaoIW20",
        "outputId": "79375f48-f1de-4985-ed34-5343ddea106e"
      },
      "execution_count": null,
      "outputs": [
        {
          "output_type": "execute_result",
          "data": {
            "text/plain": [
              "<Axes: >"
            ]
          },
          "metadata": {},
          "execution_count": 25
        },
        {
          "output_type": "display_data",
          "data": {
            "text/plain": [
              "<Figure size 640x480 with 1 Axes>"
            ],
            "image/png": "[encoded data removed]"
          },
          "metadata": {}
        }
      ]
    },
    {
      "cell_type": "markdown",
      "source": [
        "**Observation**\n",
        "\n",
        "* The studies were completed between 2000 and 2040."
      ],
      "metadata": {
        "id": "-CgU5unELnus"
      }
    },
    {
      "cell_type": "code",
      "source": [
        "#Pie chart showing the types of studies\n",
        "\n",
        "import seaborn as sns\n",
        "import matplotlib.pyplot as plt\n",
        "\n",
        "# The data\n",
        "labels = ['INTERVENTIONAL', 'OBSERVATIONAL', 'EXPANDED_ACCESS']\n",
        "sizes = [120468, 40896, 499]\n",
        "\n",
        "# Creating a pie chart using Seaborn\n",
        "plt.figure(figsize=(8, 6))\n",
        "\n",
        "sns.set_palette(\"pastel\")  # Set color palette\n",
        "\n",
        "Explode=[0.1,0,0] # Emphasize on a particular part\n",
        "\n",
        "plt.pie(sizes, labels=labels, explode=Explode, autopct='%1.1f%%', startangle=140, shadow=True)\n",
        "\n",
        "plt.title('A Pie Chart Showing the Types of Studies Conducted')\n",
        "plt.show()\n"
      ],
      "metadata": {
        "id": "phD8MalSHcOI",
        "colab": {
          "base_uri": "https://localhost:8080/",
          "height": 521
        },
        "outputId": "7389f4c8-b086-4985-84b6-f16c648b33f4"
      },
      "execution_count": null,
      "outputs": [
        {
          "output_type": "display_data",
          "data": {
            "text/plain": [
              "<Figure size 800x600 with 1 Axes>"
            ],
            "image/png": "[encoded data removed]"
          },
          "metadata": {}
        }
      ]
    },
    {
      "cell_type": "markdown",
      "source": [
        "**Observation**\n",
        "\n",
        " * 25.3% of the studies conducted were observational; in this; case the researchers observed the effect of a risk factor, diagnostic test, treatment or other intervention without trying to change who was or isn't exposed to it.\n",
        "\n",
        "\n",
        "*   74.4% of the studies were interventional; the research where potential drugs or procedures were done on the subjects.  \n",
        "\n",
        "*   Expanded access contributes 0.3% of the studies; where the subjects with life-threatening conditions were given access to the investigational product outside the clinical trials\n",
        "\n",
        "\n",
        "\n"
      ],
      "metadata": {
        "id": "s6-TYEBHAdu5"
      }
    },
    {
      "cell_type": "code",
      "source": [
        "#find unique values in the various clinical trial phases and their counts\n",
        "\n",
        "unique_valu = combined_df['Phases'].value_counts()\n",
        "unique_valu"
      ],
      "metadata": {
        "id": "hZqb1xRF5ABV",
        "colab": {
          "base_uri": "https://localhost:8080/"
        },
        "outputId": "927aef54-0544-4da9-d07d-5862c8adef1f"
      },
      "execution_count": null,
      "outputs": [
        {
          "output_type": "execute_result",
          "data": {
            "text/plain": [
              "Missing          74162\n",
              "PHASE2           29855\n",
              "PHASE1           16964\n",
              "PHASE3           12195\n",
              "PHASE1|PHASE2     8167\n",
              "PHASE4            6897\n",
              "PHASE2|PHASE3     2138\n",
              "EARLY_PHASE1      1780\n",
              "Name: Phases, dtype: int64"
            ]
          },
          "metadata": {},
          "execution_count": 27
        }
      ]
    },
    {
      "cell_type": "code",
      "source": [
        "# A histogram showing the distribution of subjects in the various trial phases\n",
        "import matplotlib.pyplot as plt\n",
        "\n",
        "value_counts = combined_df['Phases'].value_counts()\n",
        "sorted_value_counts = value_counts.sort_values(ascending=True)  # Sort in ascending order\n",
        "\n",
        "# Create a horizontal bar plot\n",
        "plt.barh(sorted_value_counts.index, sorted_value_counts.values, color='skyblue')\n",
        "\n",
        "# Annotate each bar with values (outside the bar)\n",
        "for index, value in enumerate(sorted_value_counts.values):\n",
        "    plt.text(value, index, str(value), ha='left', va='center')  # Place labels outside the bar on the right\n",
        "\n",
        "plt.xlabel('Count')\n",
        "plt.ylabel('Clinical Trial Phases')\n",
        "plt.title('Clinical Trial Phases')\n",
        "plt.xticks(rotation='horizontal')\n",
        "plt.show()\n"
      ],
      "metadata": {
        "id": "VOeDtw6mkXO_",
        "colab": {
          "base_uri": "https://localhost:8080/",
          "height": 472
        },
        "outputId": "3e6bb3a4-8ac1-4e99-9d29-97587fb26958"
      },
      "execution_count": null,
      "outputs": [
        {
          "output_type": "display_data",
          "data": {
            "text/plain": [
              "<Figure size 640x480 with 1 Axes>"
            ],
            "image/png": "[encoded data removed]"
          },
          "metadata": {}
        }
      ]
    },
    {
      "cell_type": "markdown",
      "source": [
        "* Most trials(29,855) are in the Phase 2 where the researchers aim to find out if the new treatment works well enough to be tested in a larger phase 3 trial\n",
        "* 16,964 trial studies are in Phase 1 where the aim is to determine the optimal dosage and method of administration.\n",
        "* 2,138 studies are in Phase 2|Phase 3, which provides a bridge between the initial efficacy and safety testing.\n",
        "* 12,195 studies are in Phase 3, a stage that is pivotal in determining  whether a new drug or treatment will be made available to the public.\n",
        "* Only 1,780 studies are in Phase 1 where the primary objective is to assess the safety and dosage tolerance of the intervention.\n",
        "* The number of studies with missing information on clinical phases are 74,162.\n"
      ],
      "metadata": {
        "id": "9GO9tPMoGHqn"
      }
    },
    {
      "cell_type": "code",
      "source": [
        "\n",
        "data = combined_df['Study_Status'].value_counts(normalize=True).sort_values(ascending=True)\n",
        "\n",
        "# Define the font size for labels\n",
        "label_fontsize = 12\n",
        "\n",
        "# Create a horizontal bar plot using Matplotlib\n",
        "plt.figure(figsize=(10, 6))\n",
        "bars = plt.barh(data.index, data.values, color='blue')\n",
        "\n",
        "# Annotate each bar with percentages (outside the bar) with custom font size\n",
        "for bar in bars:\n",
        "    width = bar.get_width()\n",
        "    plt.text(width, bar.get_y() + bar.get_height() / 2, f'{width:.2%}', ha='left', va='center', color='black', fontsize=label_fontsize)\n",
        "\n",
        "plt.xlabel('Frequency', fontsize=label_fontsize)\n",
        "plt.title('Clinical Trial Study Status', fontsize=label_fontsize)\n",
        "plt.xticks(rotation='horizontal', fontsize=label_fontsize)\n",
        "\n",
        "# Edit the font size of y-axis labels\n",
        "plt.yticks(fontsize=label_fontsize)\n",
        "\n",
        "plt.show()\n"
      ],
      "metadata": {
        "colab": {
          "base_uri": "https://localhost:8080/",
          "height": 572
        },
        "id": "OGUDjuS834DA",
        "outputId": "225f74b2-0fee-4e49-c1fc-0183751c5065"
      },
      "execution_count": null,
      "outputs": [
        {
          "output_type": "display_data",
          "data": {
            "text/plain": [
              "<Figure size 1000x600 with 1 Axes>"
            ],
            "image/png": "[encoded data removed]"
          },
          "metadata": {}
        }
      ]
    },
    {
      "cell_type": "markdown",
      "source": [
        "**Observation**\n",
        "\n",
        "* 46.57% of the trials were completed according to the protocol.\n",
        "* 16.94% of the clinical trials are actively recruiting participants who meet the study criteria.\n",
        "* Another 13.75% of the clinical trials have their status as unknown and this can happen for various reasons, such as data reporting delays or lack of available information.\n",
        "* 7.62% of the clinical trial studies were terminated before its planned completion, and this can happen due to safety concerns, lack of efficacy, or other reasons.\n",
        "* 6.16% of the trials are active but not recruiting; the trials are ongoing, but new participants are not being recruited or enrolled. Current participants continue to be monitored and treated.\n",
        "* 4.44% of the studies are yet to recruit participants.\n",
        "* 3.18% of the clinicals were withdrawn from the study; the trials have been stopped before planned enrollment begun.\n"
      ],
      "metadata": {
        "id": "Mec2t_jvth2U"
      }
    },
    {
      "cell_type": "code",
      "source": [
        "# A bar plot displaying the various sponsors of the clinical trial studies\n",
        "top_10_sponsors = combined_df['Sponsor'].value_counts().head(10).sort_values(ascending=True)\n",
        "\n",
        "# Create a horizontal bar chart for the top 10 sponsors\n",
        "plt.figure(figsize=(12, 6))\n",
        "top_10_sponsors.plot(kind='barh', color='skyblue')\n",
        "plt.xlabel('Count')\n",
        "plt.ylabel('Sponsor')\n",
        "plt.title('Top 10 Sponsors For The Clinical Trial Studies')\n",
        "plt.xticks(rotation='horizontal')\n",
        "plt.show()\n"
      ],
      "metadata": {
        "id": "YUbIPMXAxgb5",
        "colab": {
          "base_uri": "https://localhost:8080/",
          "height": 564
        },
        "outputId": "71705e62-0259-49a6-bfc1-4c03565018c5"
      },
      "execution_count": null,
      "outputs": [
        {
          "output_type": "display_data",
          "data": {
            "text/plain": [
              "<Figure size 1200x600 with 1 Axes>"
            ],
            "image/png": "[encoded data removed]"
          },
          "metadata": {}
        }
      ]
    },
    {
      "cell_type": "markdown",
      "source": [
        "**Observation**\n",
        "\n",
        "* The top 5 sponsors of these clinical trial studies are based in the United States of America: they are government agencies and hospita/healthcare systems.\n",
        "* The pharmaceutical companies(Novartis-Switzerland, Astrazeneca-U.K, Hoffman-La-Roche-Switzerland, and Pfizer-U.S.A) come in closely.\n"
      ],
      "metadata": {
        "id": "yy838m15wwYJ"
      }
    },
    {
      "cell_type": "code",
      "source": [
        "\n",
        "Bottom_5_sponsors = combined_df['Sponsor'].value_counts().tail(5)\n",
        "\n",
        "# Create a horizontal bar chart for the top 10 sponsors\n",
        "plt.figure(figsize=(10, 6))\n",
        "Bottom_5_sponsors.plot(kind='barh', color='skyblue')\n",
        "plt.xlabel('Count')\n",
        "plt.ylabel('Sponsor')\n",
        "plt.title('Bottom 5 Sponsors of Clinical Trials')\n",
        "plt.xticks(rotation='horizontal')\n",
        "plt.show()"
      ],
      "metadata": {
        "id": "0d0PTWrT4ptQ",
        "colab": {
          "base_uri": "https://localhost:8080/",
          "height": 564
        },
        "outputId": "7af7bb10-2fbd-4e7f-c1bc-b415365f9de4"
      },
      "execution_count": null,
      "outputs": [
        {
          "output_type": "display_data",
          "data": {
            "text/plain": [
              "<Figure size 1000x600 with 1 Axes>"
            ],
            "image/png": "[encoded data removed]"
          },
          "metadata": {}
        }
      ]
    },
    {
      "cell_type": "markdown",
      "source": [
        "**Observation**\n",
        "\n",
        "* Some university hospitals, private research universities, medical doctors, and biopharmaceuticals comprise the last 5 sponsors in the clinical trial studies."
      ],
      "metadata": {
        "id": "0eJD_CDF7Uxb"
      }
    },
    {
      "cell_type": "code",
      "source": [
        "# Top most studied conditions\n",
        "import pandas as pd\n",
        "import plotly.express as px\n",
        "\n",
        "# Group by 'Conditions' and count the occurrences, then sort and select the top 10\n",
        "top10 = combined_df['Conditions'].value_counts().nlargest(10)\n",
        "\n",
        "# Create a DataFrame with 'Conditions' and 'Total Trials' columns\n",
        "top10_df = pd.DataFrame({'Conditions': top10.index, 'Total Trials': top10.values})\n",
        "\n",
        "# Create the bar chart\n",
        "fig = px.bar(top10_df,\n",
        "             title='<b>The 10 Most Studied Conditions</b>',\n",
        "             x='Total Trials',\n",
        "             y='Conditions',\n",
        "             color='Total Trials',\n",
        "             color_continuous_scale=px.colors.qualitative.Pastel,\n",
        "             orientation='h',\n",
        "             height=700,\n",
        "             width=800)\n",
        "\n",
        "fig.update_layout(title_x=0.5, title_y=0.9, font=dict(size=14))\n",
        "fig.update_layout(showlegend=False)\n",
        "\n",
        "fig.show()\n"
      ],
      "metadata": {
        "colab": {
          "base_uri": "https://localhost:8080/",
          "height": 717
        },
        "id": "Vl_29nYg-S9z",
        "outputId": "9a991e44-2346-4e38-d04f-92d19e97dc8b"
      },
      "execution_count": null,
      "outputs": [
        {
          "output_type": "display_data",
          "data": {
            "text/html": [
              "<html>\n",
              "<head><meta charset=\"utf-8\" /></head>\n",
              "<body>\n",
              "    <div>            <script src=\"https://cdnjs.cloudflare.com/ajax/libs/mathjax/2.7.5/MathJax.js?config=TeX-AMS-MML_SVG\"></script><script type=\"text/javascript\">if (window.MathJax && window.MathJax.Hub && window.MathJax.Hub.Config) {window.MathJax.Hub.Config({SVG: {font: \"STIX-Web\"}});}</script>                <script type=\"text/javascript\">window.PlotlyConfig = {MathJaxConfig: 'local'};</script>\n",
              "        <script charset=\"utf-8\" src=\"https://cdn.plot.ly/plotly-2.24.1.min.js\"></script>                <div id=\"7fb5c4db-9841-491f-910a-d2450540730b\" class=\"plotly-graph-div\" style=\"height:700px; width:800px;\"></div>            <script type=\"text/javascript\">                                    window.PLOTLYENV=window.PLOTLYENV || {};                                    if (document.getElementById(\"7fb5c4db-9841-491f-910a-d2450540730b\")) {                    Plotly.newPlot(                        \"7fb5c4db-9841-491f-910a-d2450540730b\",                        [{\"alignmentgroup\":\"True\",\"hovertemplate\":\"Total Trials=%{marker.color}\\u003cbr\\u003eConditions=%{y}\\u003cextra\\u003e\\u003c\\u002fextra\\u003e\",\"legendgroup\":\"\",\"marker\":{\"color\":[4454,2603,2092,1601,1489,1484,1433,1396,1371,1349],\"coloraxis\":\"coloraxis\",\"pattern\":{\"shape\":\"\"}},\"name\":\"\",\"offsetgroup\":\"\",\"orientation\":\"h\",\"showlegend\":false,\"textposition\":\"auto\",\"x\":[4454,2603,2092,1601,1489,1484,1433,1396,1371,1349],\"xaxis\":\"x\",\"y\":[\"Breast Cancer\",\"Prostate Cancer\",\"HIV Infections\",\"Coronary Artery Disease\",\"Heart Failure\",\"COVID-19\",\"Cancer\",\"Colorectal Cancer\",\"Lung Cancer\",\"Multiple Myeloma\"],\"yaxis\":\"y\",\"type\":\"bar\"}],                        {\"template\":{\"data\":{\"histogram2dcontour\":[{\"type\":\"histogram2dcontour\",\"colorbar\":{\"outlinewidth\":0,\"ticks\":\"\"},\"colorscale\":[[0.0,\"#0d0887\"],[0.1111111111111111,\"#46039f\"],[0.2222222222222222,\"#7201a8\"],[0.3333333333333333,\"#9c179e\"],[0.4444444444444444,\"#bd3786\"],[0.5555555555555556,\"#d8576b\"],[0.6666666666666666,\"#ed7953\"],[0.7777777777777778,\"#fb9f3a\"],[0.8888888888888888,\"#fdca26\"],[1.0,\"#f0f921\"]]}],\"choropleth\":[{\"type\":\"choropleth\",\"colorbar\":{\"outlinewidth\":0,\"ticks\":\"\"}}],\"histogram2d\":[{\"type\":\"histogram2d\",\"colorbar\":{\"outlinewidth\":0,\"ticks\":\"\"},\"colorscale\":[[0.0,\"#0d0887\"],[0.1111111111111111,\"#46039f\"],[0.2222222222222222,\"#7201a8\"],[0.3333333333333333,\"#9c179e\"],[0.4444444444444444,\"#bd3786\"],[0.5555555555555556,\"#d8576b\"],[0.6666666666666666,\"#ed7953\"],[0.7777777777777778,\"#fb9f3a\"],[0.8888888888888888,\"#fdca26\"],[1.0,\"#f0f921\"]]}],\"heatmap\":[{\"type\":\"heatmap\",\"colorbar\":{\"outlinewidth\":0,\"ticks\":\"\"},\"colorscale\":[[0.0,\"#0d0887\"],[0.1111111111111111,\"#46039f\"],[0.2222222222222222,\"#7201a8\"],[0.3333333333333333,\"#9c179e\"],[0.4444444444444444,\"#bd3786\"],[0.5555555555555556,\"#d8576b\"],[0.6666666666666666,\"#ed7953\"],[0.7777777777777778,\"#fb9f3a\"],[0.8888888888888888,\"#fdca26\"],[1.0,\"#f0f921\"]]}],\"heatmapgl\":[{\"type\":\"heatmapgl\",\"colorbar\":{\"outlinewidth\":0,\"ticks\":\"\"},\"colorscale\":[[0.0,\"#0d0887\"],[0.1111111111111111,\"#46039f\"],[0.2222222222222222,\"#7201a8\"],[0.3333333333333333,\"#9c179e\"],[0.4444444444444444,\"#bd3786\"],[0.5555555555555556,\"#d8576b\"],[0.6666666666666666,\"#ed7953\"],[0.7777777777777778,\"#fb9f3a\"],[0.8888888888888888,\"#fdca26\"],[1.0,\"#f0f921\"]]}],\"contourcarpet\":[{\"type\":\"contourcarpet\",\"colorbar\":{\"outlinewidth\":0,\"ticks\":\"\"}}],\"contour\":[{\"type\":\"contour\",\"colorbar\":{\"outlinewidth\":0,\"ticks\":\"\"},\"colorscale\":[[0.0,\"#0d0887\"],[0.1111111111111111,\"#46039f\"],[0.2222222222222222,\"#7201a8\"],[0.3333333333333333,\"#9c179e\"],[0.4444444444444444,\"#bd3786\"],[0.5555555555555556,\"#d8576b\"],[0.6666666666666666,\"#ed7953\"],[0.7777777777777778,\"#fb9f3a\"],[0.8888888888888888,\"#fdca26\"],[1.0,\"#f0f921\"]]}],\"surface\":[{\"type\":\"surface\",\"colorbar\":{\"outlinewidth\":0,\"ticks\":\"\"},\"colorscale\":[[0.0,\"#0d0887\"],[0.1111111111111111,\"#46039f\"],[0.2222222222222222,\"#7201a8\"],[0.3333333333333333,\"#9c179e\"],[0.4444444444444444,\"#bd3786\"],[0.5555555555555556,\"#d8576b\"],[0.6666666666666666,\"#ed7953\"],[0.7777777777777778,\"#fb9f3a\"],[0.8888888888888888,\"#fdca26\"],[1.0,\"#f0f921\"]]}],\"mesh3d\":[{\"type\":\"mesh3d\",\"colorbar\":{\"outlinewidth\":0,\"ticks\":\"\"}}],\"scatter\":[{\"fillpattern\":{\"fillmode\":\"overlay\",\"size\":10,\"solidity\":0.2},\"type\":\"scatter\"}],\"parcoords\":[{\"type\":\"parcoords\",\"line\":{\"colorbar\":{\"outlinewidth\":0,\"ticks\":\"\"}}}],\"scatterpolargl\":[{\"type\":\"scatterpolargl\",\"marker\":{\"colorbar\":{\"outlinewidth\":0,\"ticks\":\"\"}}}],\"bar\":[{\"error_x\":{\"color\":\"#2a3f5f\"},\"error_y\":{\"color\":\"#2a3f5f\"},\"marker\":{\"line\":{\"color\":\"#E5ECF6\",\"width\":0.5},\"pattern\":{\"fillmode\":\"overlay\",\"size\":10,\"solidity\":0.2}},\"type\":\"bar\"}],\"scattergeo\":[{\"type\":\"scattergeo\",\"marker\":{\"colorbar\":{\"outlinewidth\":0,\"ticks\":\"\"}}}],\"scatterpolar\":[{\"type\":\"scatterpolar\",\"marker\":{\"colorbar\":{\"outlinewidth\":0,\"ticks\":\"\"}}}],\"histogram\":[{\"marker\":{\"pattern\":{\"fillmode\":\"overlay\",\"size\":10,\"solidity\":0.2}},\"type\":\"histogram\"}],\"scattergl\":[{\"type\":\"scattergl\",\"marker\":{\"colorbar\":{\"outlinewidth\":0,\"ticks\":\"\"}}}],\"scatter3d\":[{\"type\":\"scatter3d\",\"line\":{\"colorbar\":{\"outlinewidth\":0,\"ticks\":\"\"}},\"marker\":{\"colorbar\":{\"outlinewidth\":0,\"ticks\":\"\"}}}],\"scattermapbox\":[{\"type\":\"scattermapbox\",\"marker\":{\"colorbar\":{\"outlinewidth\":0,\"ticks\":\"\"}}}],\"scatterternary\":[{\"type\":\"scatterternary\",\"marker\":{\"colorbar\":{\"outlinewidth\":0,\"ticks\":\"\"}}}],\"scattercarpet\":[{\"type\":\"scattercarpet\",\"marker\":{\"colorbar\":{\"outlinewidth\":0,\"ticks\":\"\"}}}],\"carpet\":[{\"aaxis\":{\"endlinecolor\":\"#2a3f5f\",\"gridcolor\":\"white\",\"linecolor\":\"white\",\"minorgridcolor\":\"white\",\"startlinecolor\":\"#2a3f5f\"},\"baxis\":{\"endlinecolor\":\"#2a3f5f\",\"gridcolor\":\"white\",\"linecolor\":\"white\",\"minorgridcolor\":\"white\",\"startlinecolor\":\"#2a3f5f\"},\"type\":\"carpet\"}],\"table\":[{\"cells\":{\"fill\":{\"color\":\"#EBF0F8\"},\"line\":{\"color\":\"white\"}},\"header\":{\"fill\":{\"color\":\"#C8D4E3\"},\"line\":{\"color\":\"white\"}},\"type\":\"table\"}],\"barpolar\":[{\"marker\":{\"line\":{\"color\":\"#E5ECF6\",\"width\":0.5},\"pattern\":{\"fillmode\":\"overlay\",\"size\":10,\"solidity\":0.2}},\"type\":\"barpolar\"}],\"pie\":[{\"automargin\":true,\"type\":\"pie\"}]},\"layout\":{\"autotypenumbers\":\"strict\",\"colorway\":[\"#636efa\",\"#EF553B\",\"#00cc96\",\"#ab63fa\",\"#FFA15A\",\"#19d3f3\",\"#FF6692\",\"#B6E880\",\"#FF97FF\",\"#FECB52\"],\"font\":{\"color\":\"#2a3f5f\"},\"hovermode\":\"closest\",\"hoverlabel\":{\"align\":\"left\"},\"paper_bgcolor\":\"white\",\"plot_bgcolor\":\"#E5ECF6\",\"polar\":{\"bgcolor\":\"#E5ECF6\",\"angularaxis\":{\"gridcolor\":\"white\",\"linecolor\":\"white\",\"ticks\":\"\"},\"radialaxis\":{\"gridcolor\":\"white\",\"linecolor\":\"white\",\"ticks\":\"\"}},\"ternary\":{\"bgcolor\":\"#E5ECF6\",\"aaxis\":{\"gridcolor\":\"white\",\"linecolor\":\"white\",\"ticks\":\"\"},\"baxis\":{\"gridcolor\":\"white\",\"linecolor\":\"white\",\"ticks\":\"\"},\"caxis\":{\"gridcolor\":\"white\",\"linecolor\":\"white\",\"ticks\":\"\"}},\"coloraxis\":{\"colorbar\":{\"outlinewidth\":0,\"ticks\":\"\"}},\"colorscale\":{\"sequential\":[[0.0,\"#0d0887\"],[0.1111111111111111,\"#46039f\"],[0.2222222222222222,\"#7201a8\"],[0.3333333333333333,\"#9c179e\"],[0.4444444444444444,\"#bd3786\"],[0.5555555555555556,\"#d8576b\"],[0.6666666666666666,\"#ed7953\"],[0.7777777777777778,\"#fb9f3a\"],[0.8888888888888888,\"#fdca26\"],[1.0,\"#f0f921\"]],\"sequentialminus\":[[0.0,\"#0d0887\"],[0.1111111111111111,\"#46039f\"],[0.2222222222222222,\"#7201a8\"],[0.3333333333333333,\"#9c179e\"],[0.4444444444444444,\"#bd3786\"],[0.5555555555555556,\"#d8576b\"],[0.6666666666666666,\"#ed7953\"],[0.7777777777777778,\"#fb9f3a\"],[0.8888888888888888,\"#fdca26\"],[1.0,\"#f0f921\"]],\"diverging\":[[0,\"#8e0152\"],[0.1,\"#c51b7d\"],[0.2,\"#de77ae\"],[0.3,\"#f1b6da\"],[0.4,\"#fde0ef\"],[0.5,\"#f7f7f7\"],[0.6,\"#e6f5d0\"],[0.7,\"#b8e186\"],[0.8,\"#7fbc41\"],[0.9,\"#4d9221\"],[1,\"#276419\"]]},\"xaxis\":{\"gridcolor\":\"white\",\"linecolor\":\"white\",\"ticks\":\"\",\"title\":{\"standoff\":15},\"zerolinecolor\":\"white\",\"automargin\":true,\"zerolinewidth\":2},\"yaxis\":{\"gridcolor\":\"white\",\"linecolor\":\"white\",\"ticks\":\"\",\"title\":{\"standoff\":15},\"zerolinecolor\":\"white\",\"automargin\":true,\"zerolinewidth\":2},\"scene\":{\"xaxis\":{\"backgroundcolor\":\"#E5ECF6\",\"gridcolor\":\"white\",\"linecolor\":\"white\",\"showbackground\":true,\"ticks\":\"\",\"zerolinecolor\":\"white\",\"gridwidth\":2},\"yaxis\":{\"backgroundcolor\":\"#E5ECF6\",\"gridcolor\":\"white\",\"linecolor\":\"white\",\"showbackground\":true,\"ticks\":\"\",\"zerolinecolor\":\"white\",\"gridwidth\":2},\"zaxis\":{\"backgroundcolor\":\"#E5ECF6\",\"gridcolor\":\"white\",\"linecolor\":\"white\",\"showbackground\":true,\"ticks\":\"\",\"zerolinecolor\":\"white\",\"gridwidth\":2}},\"shapedefaults\":{\"line\":{\"color\":\"#2a3f5f\"}},\"annotationdefaults\":{\"arrowcolor\":\"#2a3f5f\",\"arrowhead\":0,\"arrowwidth\":1},\"geo\":{\"bgcolor\":\"white\",\"landcolor\":\"#E5ECF6\",\"subunitcolor\":\"white\",\"showland\":true,\"showlakes\":true,\"lakecolor\":\"white\"},\"title\":{\"x\":0.05},\"mapbox\":{\"style\":\"light\"}}},\"xaxis\":{\"anchor\":\"y\",\"domain\":[0.0,1.0],\"title\":{\"text\":\"Total Trials\"}},\"yaxis\":{\"anchor\":\"x\",\"domain\":[0.0,1.0],\"title\":{\"text\":\"Conditions\"}},\"coloraxis\":{\"colorbar\":{\"title\":{\"text\":\"Total Trials\"}},\"colorscale\":[[0.0,\"rgb(102, 197, 204)\"],[0.1,\"rgb(246, 207, 113)\"],[0.2,\"rgb(248, 156, 116)\"],[0.3,\"rgb(220, 176, 242)\"],[0.4,\"rgb(135, 197, 95)\"],[0.5,\"rgb(158, 185, 243)\"],[0.6,\"rgb(254, 136, 177)\"],[0.7,\"rgb(201, 219, 116)\"],[0.8,\"rgb(139, 224, 164)\"],[0.9,\"rgb(180, 151, 231)\"],[1.0,\"rgb(179, 179, 179)\"]]},\"legend\":{\"tracegroupgap\":0},\"title\":{\"text\":\"\\u003cb\\u003eThe 10 Most Studied Conditions\\u003c\\u002fb\\u003e\",\"x\":0.5,\"y\":0.9},\"barmode\":\"relative\",\"height\":700,\"width\":800,\"font\":{\"size\":14},\"showlegend\":false},                        {\"responsive\": true}                    ).then(function(){\n",
              "                            \n",
              "var gd = document.getElementById('7fb5c4db-9841-491f-910a-d2450540730b');\n",
              "var x = new MutationObserver(function (mutations, observer) {{\n",
              "        var display = window.getComputedStyle(gd).display;\n",
              "        if (!display || display === 'none') {{\n",
              "            console.log([gd, 'removed!']);\n",
              "            Plotly.purge(gd);\n",
              "            observer.disconnect();\n",
              "        }}\n",
              "}});\n",
              "\n",
              "// Listen for the removal of the full notebook cells\n",
              "var notebookContainer = gd.closest('#notebook-container');\n",
              "if (notebookContainer) {{\n",
              "    x.observe(notebookContainer, {childList: true});\n",
              "}}\n",
              "\n",
              "// Listen for the clearing of the current output cell\n",
              "var outputEl = gd.closest('.output');\n",
              "if (outputEl) {{\n",
              "    x.observe(outputEl, {childList: true});\n",
              "}}\n",
              "\n",
              "                        })                };                            </script>        </div>\n",
              "</body>\n",
              "</html>"
            ]
          },
          "metadata": {}
        }
      ]
    },
    {
      "cell_type": "markdown",
      "source": [
        "**Observation**\n",
        "\n",
        "* Six of the top 10 conditions in trial are on cancer. The studied cancer types are that of the breast, prostate, colorectal, lungs, and bones.\n",
        "* The other 4 diseases are HIV, Covid-19, Heart Failure, and Coronary Artery Disease."
      ],
      "metadata": {
        "id": "YhKXGBJm4ruC"
      }
    },
    {
      "cell_type": "code",
      "source": [
        "\n",
        "# Age of the study participants\n",
        "\n",
        "import matplotlib.pyplot as plt\n",
        "import seaborn as sns\n",
        "\n",
        "# Set a custom color palette for the plot\n",
        "custom_palette = sns.color_palette(\"Blues\", n_colors=len(combined_df['Age'].unique()))\n",
        "\n",
        "plt.figure(figsize=(10, 8))\n",
        "ax = sns.barplot(x=combined_df['Age'].value_counts().values,\n",
        "                y=combined_df['Age'].value_counts().index,\n",
        "                palette=custom_palette)\n",
        "\n",
        "plt.xlabel('Frequency', fontsize=14)\n",
        "plt.ylabel('Age', fontsize=5)\n",
        "plt.title('Age of The Participants', fontsize=16)\n",
        "plt.grid(axis='y', linestyle='--', alpha=0.6)\n",
        "\n",
        "plt.yticks(fontsize=12)\n",
        "plt.xticks(fontsize=12)\n",
        "plt.show()\n"
      ],
      "metadata": {
        "colab": {
          "base_uri": "https://localhost:8080/"
        },
        "id": "C9ce2vSaQhV5",
        "outputId": "610d5177-6c2e-4dd1-80f4-13d57bd150f6"
      },
      "execution_count": null,
      "outputs": [
        {
          "output_type": "display_data",
          "data": {
            "text/plain": [
              "<Figure size 1000x800 with 1 Axes>"
            ],
            "image/png": "[encoded data removed]"
          },
          "metadata": {}
        }
      ]
    },
    {
      "cell_type": "markdown",
      "source": [
        "**Observation**\n",
        "\n",
        "* Most of participants are of the category \"Adults and Older Adults\". \"Adults\" are individuals between the ages of 18 and 64 years old and the \"Older adults\" refer to individuals who are usually 65 years old or above.\n",
        "* Clinical trials include older adults to understand how treatments affect this age group, especially since the prevalence of many diseases, including cancer and chronic conditions, increases with age."
      ],
      "metadata": {
        "id": "9ZEGg_Nn9vjw"
      }
    },
    {
      "cell_type": "code",
      "source": [
        "\n",
        "location_column = 'Locations'\n",
        "\n",
        "# Get the top 5 locations by frequency\n",
        "top_locations = combined_df[location_column].value_counts().head(5).index\n",
        "\n",
        "# Filter the dataset to include only the top 5 locations\n",
        "filtered_df = combined_df[combined_df[location_column].isin(top_locations)]\n",
        "\n",
        "# Set the font size for the plot\n",
        "sns.set(font_scale=2.5)\n",
        "\n",
        "# Create a count plot for the top 5 locations with location names on the y-axis\n",
        "plt.figure(figsize=(25, 15))\n",
        "sns.countplot(data=filtered_df, y=location_column, order=top_locations, palette='viridis')\n",
        "plt.title(f'Distribution of Top 5 Locations in Clinical Trials')\n",
        "plt.xlabel('Count')\n",
        "plt.ylabel(location_column)\n",
        "\n",
        "plt.show()\n",
        "\n"
      ],
      "metadata": {
        "colab": {
          "base_uri": "https://localhost:8080/"
        },
        "id": "LnAgUn10wOS_",
        "outputId": "25c8edf1-dc5f-4b17-ec1f-606798a7378b"
      },
      "execution_count": null,
      "outputs": [
        {
          "output_type": "display_data",
          "data": {
            "text/plain": [
              "<Figure size 2500x1500 with 1 Axes>"
            ],
            "image/png": "[encoded data removed]"
          },
          "metadata": {}
        }
      ]
    },
    {
      "cell_type": "markdown",
      "source": [
        "**Observation**\n",
        "*   The data is missing Location data for most of the studies.\n",
        "*   Most of the studies were conducted at the M D Anderson Cancer Center,Houston, Texas in the US.\n",
        "\n"
      ],
      "metadata": {
        "id": "mxucOry11Z5C"
      }
    },
    {
      "cell_type": "markdown",
      "source": [
        "### 3.2 Bivariate Analysis###\n",
        "\n",
        " It will involve the simultaneous analysis of two variables ( independent and dependent variables) to determine the empirical relationship between them."
      ],
      "metadata": {
        "id": "m7cmmz-FXjNn"
      }
    },
    {
      "cell_type": "code",
      "source": [
        "# A comparison of the study study by the type of study\n",
        "\n",
        "import matplotlib.pyplot as plt\n",
        "import seaborn as sns\n",
        "\n",
        "plt.figure(figsize=(12, 6))\n",
        "sns.countplot(data=combined_df, y='Study_Status', hue='Study_Type')\n",
        "\n",
        "plt.title('Comparison of Study Status by Study Type', fontsize=14)\n",
        "plt.xlabel('Count', fontsize=12)\n",
        "plt.ylabel('Study Status', fontsize=12)\n",
        "plt.xticks(rotation=80, fontsize=10)\n",
        "plt.yticks(fontsize=10)\n",
        "plt.legend(title='Study Type', title_fontsize=10, fontsize=10,loc='lower right')\n",
        "plt.show()\n",
        "\n",
        "\n"
      ],
      "metadata": {
        "colab": {
          "base_uri": "https://localhost:8080/"
        },
        "id": "saEjVG08TAee",
        "outputId": "66fcdaed-b234-4f92-ad9d-92ad8e6481a5"
      },
      "execution_count": null,
      "outputs": [
        {
          "output_type": "display_data",
          "data": {
            "text/plain": [
              "<Figure size 1200x600 with 1 Axes>"
            ],
            "image/png": "[encoded data removed]"
          },
          "metadata": {}
        }
      ]
    },
    {
      "cell_type": "markdown",
      "source": [
        "**Observations**\n",
        "\n",
        "* Most of the clinical trial studies are interventional in nature followed by the observational ones.\n",
        "* Most of the completed and currently recruiting clinical trials are interventional.\n",
        "* The **completed interventional trials** confirm the effectiveness and safety of specific interventions, guiding medical practice, while **completed observational trials** offer valuable insights into real-world health patterns, influencing public health strategies and suggesting areas for future investigation.\n"
      ],
      "metadata": {
        "id": "WnNusF5HCBCU"
      }
    },
    {
      "cell_type": "code",
      "source": [
        "\n",
        "# Calculate the mean enrollment by study type\n",
        "mean_enrollment_by_study_type = combined_df.groupby('Study_Type')['Enrollment'].mean().reset_index()\n",
        "\n",
        "# Sort the data in descending order by mean enrollment\n",
        "mean_enrollment_by_study_type = mean_enrollment_by_study_type.sort_values('Enrollment', ascending=False)\n",
        "\n",
        "plt.figure(figsize=(12, 6))\n",
        "\n",
        "# Create a barplot with a custom color palette\n",
        "sns.barplot(data=mean_enrollment_by_study_type, x='Enrollment', y='Study_Type', palette='viridis')\n",
        "\n",
        "plt.title('Comparison of Mean Enrollment by Study Type', fontsize=16)\n",
        "plt.xlabel('Mean Enrollment', fontsize=14)\n",
        "plt.ylabel('Study Type', fontsize=14)\n",
        "plt.xticks(fontsize=12)\n",
        "plt.yticks(fontsize=12)\n",
        "plt.show()\n"
      ],
      "metadata": {
        "colab": {
          "base_uri": "https://localhost:8080/"
        },
        "id": "cB-28FN4VxG8",
        "outputId": "ec8de8d3-a2d5-491e-b9bb-7b7c709b20b5"
      },
      "execution_count": null,
      "outputs": [
        {
          "output_type": "display_data",
          "data": {
            "text/plain": [
              "<Figure size 1200x600 with 1 Axes>"
            ],
            "image/png": "[encoded data removed]"
          },
          "metadata": {}
        }
      ]
    },
    {
      "cell_type": "markdown",
      "source": [
        "**Observation**\n",
        "\n",
        "\n",
        "\n",
        "\n",
        "*   The number of participants enrolled in the Observational studies is higher than Expanded Access and Interventional methods of study.\n",
        "*   Interventional studies enrolled less particpants.\n",
        "\n",
        "\n",
        "\n",
        "\n"
      ],
      "metadata": {
        "id": "vS35VG8kh7tz"
      }
    },
    {
      "cell_type": "markdown",
      "source": [
        "##**4. Implementing The Solution**\n",
        "\n",
        "Modeling in this phase will include selecting a machine learning technique;designing the test; building the model and assessing model that will predict whether a clinical trial will be completed or terminated."
      ],
      "metadata": {
        "id": "_uuAyG9LlaTW"
      }
    },
    {
      "cell_type": "markdown",
      "source": [
        "### 4.1 Data Pre-Processing"
      ],
      "metadata": {
        "id": "GYK_cmCGrbSy"
      }
    },
    {
      "cell_type": "code",
      "source": [
        "# Import the required libraries\n",
        "from sklearn.ensemble import RandomForestClassifier\n",
        "from sklearn.preprocessing import MinMaxScaler\n",
        "from sklearn.svm import SVC\n",
        "from xgboost import XGBClassifier\n",
        "from sklearn.model_selection import train_test_split\n",
        "from sklearn.metrics import accuracy_score\n",
        "import numpy as np\n",
        "import pandas as pd\n",
        "\n"
      ],
      "metadata": {
        "id": "lesOo78pnt1C"
      },
      "execution_count": null,
      "outputs": []
    },
    {
      "cell_type": "code",
      "source": [
        "# Select the Y variable; in this case it is the study_status\n",
        "\n",
        "combined_df.Study_Status.value_counts()"
      ],
      "metadata": {
        "colab": {
          "base_uri": "https://localhost:8080/"
        },
        "id": "47YQ1Gc7Ipjf",
        "outputId": "64b7e770-1925-492e-c558-d015c98af1fa"
      },
      "execution_count": null,
      "outputs": [
        {
          "output_type": "execute_result",
          "data": {
            "text/plain": [
              "COMPLETED                    70866\n",
              "RECRUITING                   25776\n",
              "UNKNOWN                      20926\n",
              "TERMINATED                   11594\n",
              "ACTIVE_NOT_RECRUITING         9380\n",
              "NOT_YET_RECRUITING            6757\n",
              "WITHDRAWN                     4845\n",
              "ENROLLING_BY_INVITATION        923\n",
              "SUSPENDED                      628\n",
              "NO_LONGER_AVAILABLE            232\n",
              "AVAILABLE                      120\n",
              "APPROVED_FOR_MARKETING          99\n",
              "TEMPORARILY_NOT_AVAILABLE       12\n",
              "Name: Study_Status, dtype: int64"
            ]
          },
          "metadata": {},
          "execution_count": 38
        }
      ]
    },
    {
      "cell_type": "code",
      "source": [
        "#filter the study status to get only the completed and Terminated clinical trial studies\n",
        "\n",
        "# STATUS is the new dataframe with COMPLETED and TERMINATED studies\n",
        "\n",
        "import re\n",
        "status= combined_df[combined_df['Study_Status'].str.contains(r'^(COMPLETED|TERMINATED)', case=False, na=False, regex=True)]\n",
        "\n",
        "#previewing\n",
        "status.head(5)\n",
        "\n"
      ],
      "metadata": {
        "colab": {
          "base_uri": "https://localhost:8080/"
        },
        "id": "nEiUmfujKGXv",
        "outputId": "b12384ab-ab4d-4ecb-97c3-930f24b0b524"
      },
      "execution_count": null,
      "outputs": [
        {
          "output_type": "stream",
          "name": "stderr",
          "text": [
            "<ipython-input-39-c676e3d3a2db>:6: UserWarning:\n",
            "\n",
            "This pattern is interpreted as a regular expression, and has match groups. To actually get the groups, use str.extract.\n",
            "\n"
          ]
        },
        {
          "output_type": "execute_result",
          "data": {
            "text/plain": [
              "    NCT_Number                                        Study_Title  \\\n",
              "1  NCT00914225  Effect of Bednets and a Water Purification Dev...   \n",
              "4  NCT02557425  Prophylaxis Against Malaria to Enhance Child D...   \n",
              "5  NCT02905019  A Safety and Efficacy Study of R21 +/- ChAd63/...   \n",
              "8  NCT02556242  Targeted Indoor Residual Spraying Against Malaria   \n",
              "9  NCT00259142  Acceptability and Cost Effectiveness of Home B...   \n",
              "\n",
              "                                      Study_URL  Acronym Study_Status  \\\n",
              "1  https://clinicaltrials.gov/study/NCT00914225      ITN    COMPLETED   \n",
              "4  https://clinicaltrials.gov/study/NCT02557425  PROTECT    COMPLETED   \n",
              "5  https://clinicaltrials.gov/study/NCT02905019  Missing    COMPLETED   \n",
              "8  https://clinicaltrials.gov/study/NCT02556242     TIRS    COMPLETED   \n",
              "9  https://clinicaltrials.gov/study/NCT00259142  Missing   TERMINATED   \n",
              "\n",
              "                                       Brief_Summary Study_Results  \\\n",
              "1  In many areas of the world most severely affec...            NO   \n",
              "4  Each year, \\~85.3 million pregnant women are a...            NO   \n",
              "5  The purpose of this study is to assess the saf...            NO   \n",
              "8  Since 2000, annual numbers of malaria cases in...            NO   \n",
              "9  Malaria remains a major cause of morbidity and...            NO   \n",
              "\n",
              "                                          Conditions  \\\n",
              "1  HIV Infections|Human Immunodeficiency Virus|Ma...   \n",
              "4                     Neurobehavioral Manifestations   \n",
              "5                                            Malaria   \n",
              "8                                            Malaria   \n",
              "9                              Fever|Anaemia|Malaria   \n",
              "\n",
              "                                       Interventions  \\\n",
              "1              OTHER: Bednets and Water Purification   \n",
              "4                  OTHER: No intervention in PROTECT   \n",
              "5  BIOLOGICAL: R21 with Matrix-M1|BIOLOGICAL: ChA...   \n",
              "8  OTHER: Targeted indoor residual spraying|OTHER...   \n",
              "9      DRUG: Chloroquine, sulphadoxine-pyrimethamine   \n",
              "\n",
              "                            Primary_Outcome_Measures  ...  \\\n",
              "1  To determine the effect of LLIN and a simple m...  ...   \n",
              "4  Z-scores for Overall cognitive ability, 12 mon...  ...   \n",
              "5  Efficacy of adjuvanted R21 at two different do...  ...   \n",
              "8  Malaria incidence, by routine passive case det...  ...   \n",
              "9                           See detailed description  ...   \n",
              "\n",
              "                                        Study_Design         Other_IDs  \\\n",
              "1          Observational Model: |Time Perspective: p  35464-B|SSC#1554   \n",
              "4          Observational Model: |Time Perspective: p        1506994146   \n",
              "5  Allocation: RANDOMIZED|Intervention Model: PAR...            VAC065   \n",
              "8  Allocation: RANDOMIZED|Intervention Model: PAR...        EPIDZC8610   \n",
              "9  Allocation: NON_RANDOMIZED|Intervention Model:...    UGA.5.2RNA2005   \n",
              "\n",
              "  Start_Date Primary_Completion_Date Completion_Date First_Posted  \\\n",
              "1 2009-09-01              2011-12-01      2011-12-01   2009-06-04   \n",
              "4 2015-10-01              2021-08-05      2021-08-05   2015-09-23   \n",
              "5 2016-08-01              2017-12-21      2017-12-21   2016-09-19   \n",
              "8 2015-10-01              2017-06-01      2017-07-01   2015-09-22   \n",
              "9 2005-11-01              2005-11-01      2005-11-01   2005-11-29   \n",
              "\n",
              "  Results_First_Posted  Last_Update_Posted  \\\n",
              "1                  NaT          2015-05-29   \n",
              "4                  NaT          2021-08-25   \n",
              "5                  NaT          2018-06-13   \n",
              "8                  NaT          2020-07-23   \n",
              "9                  NaT          2015-05-13   \n",
              "\n",
              "                                           Locations Study_Documents  \n",
              "1  Kisii Provincial Hospital, Kisii, Kenya|Kisumu...         Missing  \n",
              "4           Tororo District Hospital, Tororo, Uganda         Missing  \n",
              "5  NIHR Wellcome Trust Clinical Research Facility...         Missing  \n",
              "8  Provincial Malaria Control Programme, Tzaneen,...         Missing  \n",
              "9                  Kayunga District, Kayunga, Uganda         Missing  \n",
              "\n",
              "[5 rows x 30 columns]"
            ],
            "text/html": [
              "\n",
              "  <div id=\"df-be9eabe0-f8bd-41fa-b281-3c8c6c30c0e6\" class=\"colab-df-container\">\n",
              "    <div>\n",
              "<style scoped>\n",
              "    .dataframe tbody tr th:only-of-type {\n",
              "        vertical-align: middle;\n",
              "    }\n",
              "\n",
              "    .dataframe tbody tr th {\n",
              "        vertical-align: top;\n",
              "    }\n",
              "\n",
              "    .dataframe thead th {\n",
              "        text-align: right;\n",
              "    }\n",
              "</style>\n",
              "<table border=\"1\" class=\"dataframe\">\n",
              "  <thead>\n",
              "    <tr style=\"text-align: right;\">\n",
              "      <th></th>\n",
              "      <th>NCT_Number</th>\n",
              "      <th>Study_Title</th>\n",
              "      <th>Study_URL</th>\n",
              "      <th>Acronym</th>\n",
              "      <th>Study_Status</th>\n",
              "      <th>Brief_Summary</th>\n",
              "      <th>Study_Results</th>\n",
              "      <th>Conditions</th>\n",
              "      <th>Interventions</th>\n",
              "      <th>Primary_Outcome_Measures</th>\n",
              "      <th>...</th>\n",
              "      <th>Study_Design</th>\n",
              "      <th>Other_IDs</th>\n",
              "      <th>Start_Date</th>\n",
              "      <th>Primary_Completion_Date</th>\n",
              "      <th>Completion_Date</th>\n",
              "      <th>First_Posted</th>\n",
              "      <th>Results_First_Posted</th>\n",
              "      <th>Last_Update_Posted</th>\n",
              "      <th>Locations</th>\n",
              "      <th>Study_Documents</th>\n",
              "    </tr>\n",
              "  </thead>\n",
              "  <tbody>\n",
              "    <tr>\n",
              "      <th>1</th>\n",
              "      <td>NCT00914225</td>\n",
              "      <td>Effect of Bednets and a Water Purification Dev...</td>\n",
              "      <td>https://clinicaltrials.gov/study/NCT00914225</td>\n",
              "      <td>ITN</td>\n",
              "      <td>COMPLETED</td>\n",
              "      <td>In many areas of the world most severely affec...</td>\n",
              "      <td>NO</td>\n",
              "      <td>HIV Infections|Human Immunodeficiency Virus|Ma...</td>\n",
              "      <td>OTHER: Bednets and Water Purification</td>\n",
              "      <td>To determine the effect of LLIN and a simple m...</td>\n",
              "      <td>...</td>\n",
              "      <td>Observational Model: |Time Perspective: p</td>\n",
              "      <td>35464-B|SSC#1554</td>\n",
              "      <td>2009-09-01</td>\n",
              "      <td>2011-12-01</td>\n",
              "      <td>2011-12-01</td>\n",
              "      <td>2009-06-04</td>\n",
              "      <td>NaT</td>\n",
              "      <td>2015-05-29</td>\n",
              "      <td>Kisii Provincial Hospital, Kisii, Kenya|Kisumu...</td>\n",
              "      <td>Missing</td>\n",
              "    </tr>\n",
              "    <tr>\n",
              "      <th>4</th>\n",
              "      <td>NCT02557425</td>\n",
              "      <td>Prophylaxis Against Malaria to Enhance Child D...</td>\n",
              "      <td>https://clinicaltrials.gov/study/NCT02557425</td>\n",
              "      <td>PROTECT</td>\n",
              "      <td>COMPLETED</td>\n",
              "      <td>Each year, \\~85.3 million pregnant women are a...</td>\n",
              "      <td>NO</td>\n",
              "      <td>Neurobehavioral Manifestations</td>\n",
              "      <td>OTHER: No intervention in PROTECT</td>\n",
              "      <td>Z-scores for Overall cognitive ability, 12 mon...</td>\n",
              "      <td>...</td>\n",
              "      <td>Observational Model: |Time Perspective: p</td>\n",
              "      <td>1506994146</td>\n",
              "      <td>2015-10-01</td>\n",
              "      <td>2021-08-05</td>\n",
              "      <td>2021-08-05</td>\n",
              "      <td>2015-09-23</td>\n",
              "      <td>NaT</td>\n",
              "      <td>2021-08-25</td>\n",
              "      <td>Tororo District Hospital, Tororo, Uganda</td>\n",
              "      <td>Missing</td>\n",
              "    </tr>\n",
              "    <tr>\n",
              "      <th>5</th>\n",
              "      <td>NCT02905019</td>\n",
              "      <td>A Safety and Efficacy Study of R21 +/- ChAd63/...</td>\n",
              "      <td>https://clinicaltrials.gov/study/NCT02905019</td>\n",
              "      <td>Missing</td>\n",
              "      <td>COMPLETED</td>\n",
              "      <td>The purpose of this study is to assess the saf...</td>\n",
              "      <td>NO</td>\n",
              "      <td>Malaria</td>\n",
              "      <td>BIOLOGICAL: R21 with Matrix-M1|BIOLOGICAL: ChA...</td>\n",
              "      <td>Efficacy of adjuvanted R21 at two different do...</td>\n",
              "      <td>...</td>\n",
              "      <td>Allocation: RANDOMIZED|Intervention Model: PAR...</td>\n",
              "      <td>VAC065</td>\n",
              "      <td>2016-08-01</td>\n",
              "      <td>2017-12-21</td>\n",
              "      <td>2017-12-21</td>\n",
              "      <td>2016-09-19</td>\n",
              "      <td>NaT</td>\n",
              "      <td>2018-06-13</td>\n",
              "      <td>NIHR Wellcome Trust Clinical Research Facility...</td>\n",
              "      <td>Missing</td>\n",
              "    </tr>\n",
              "    <tr>\n",
              "      <th>8</th>\n",
              "      <td>NCT02556242</td>\n",
              "      <td>Targeted Indoor Residual Spraying Against Malaria</td>\n",
              "      <td>https://clinicaltrials.gov/study/NCT02556242</td>\n",
              "      <td>TIRS</td>\n",
              "      <td>COMPLETED</td>\n",
              "      <td>Since 2000, annual numbers of malaria cases in...</td>\n",
              "      <td>NO</td>\n",
              "      <td>Malaria</td>\n",
              "      <td>OTHER: Targeted indoor residual spraying|OTHER...</td>\n",
              "      <td>Malaria incidence, by routine passive case det...</td>\n",
              "      <td>...</td>\n",
              "      <td>Allocation: RANDOMIZED|Intervention Model: PAR...</td>\n",
              "      <td>EPIDZC8610</td>\n",
              "      <td>2015-10-01</td>\n",
              "      <td>2017-06-01</td>\n",
              "      <td>2017-07-01</td>\n",
              "      <td>2015-09-22</td>\n",
              "      <td>NaT</td>\n",
              "      <td>2020-07-23</td>\n",
              "      <td>Provincial Malaria Control Programme, Tzaneen,...</td>\n",
              "      <td>Missing</td>\n",
              "    </tr>\n",
              "    <tr>\n",
              "      <th>9</th>\n",
              "      <td>NCT00259142</td>\n",
              "      <td>Acceptability and Cost Effectiveness of Home B...</td>\n",
              "      <td>https://clinicaltrials.gov/study/NCT00259142</td>\n",
              "      <td>Missing</td>\n",
              "      <td>TERMINATED</td>\n",
              "      <td>Malaria remains a major cause of morbidity and...</td>\n",
              "      <td>NO</td>\n",
              "      <td>Fever|Anaemia|Malaria</td>\n",
              "      <td>DRUG: Chloroquine, sulphadoxine-pyrimethamine</td>\n",
              "      <td>See detailed description</td>\n",
              "      <td>...</td>\n",
              "      <td>Allocation: NON_RANDOMIZED|Intervention Model:...</td>\n",
              "      <td>UGA.5.2RNA2005</td>\n",
              "      <td>2005-11-01</td>\n",
              "      <td>2005-11-01</td>\n",
              "      <td>2005-11-01</td>\n",
              "      <td>2005-11-29</td>\n",
              "      <td>NaT</td>\n",
              "      <td>2015-05-13</td>\n",
              "      <td>Kayunga District, Kayunga, Uganda</td>\n",
              "      <td>Missing</td>\n",
              "    </tr>\n",
              "  </tbody>\n",
              "</table>\n",
              "<p>5 rows × 30 columns</p>\n",
              "</div>\n",
              "    <div class=\"colab-df-buttons\">\n",
              "\n",
              "  <div class=\"colab-df-container\">\n",
              "    <button class=\"colab-df-convert\" onclick=\"convertToInteractive('df-be9eabe0-f8bd-41fa-b281-3c8c6c30c0e6')\"\n",
              "            title=\"Convert this dataframe to an interactive table.\"\n",
              "            style=\"display:none;\">\n",
              "\n",
              "  <svg xmlns=\"http://www.w3.org/2000/svg\" height=\"24px\" viewBox=\"0 -960 960 960\">\n",
              "    <path d=\"M120-120v-720h720v720H120Zm60-500h600v-160H180v160Zm220 220h160v-160H400v160Zm0 220h160v-160H400v160ZM180-400h160v-160H180v160Zm440 0h160v-160H620v160ZM180-180h160v-160H180v160Zm440 0h160v-160H620v160Z\"/>\n",
              "  </svg>\n",
              "    </button>\n",
              "\n",
              "  <style>\n",
              "    .colab-df-container {\n",
              "      display:flex;\n",
              "      gap: 12px;\n",
              "    }\n",
              "\n",
              "    .colab-df-convert {\n",
              "      background-color: #E8F0FE;\n",
              "      border: none;\n",
              "      border-radius: 50%;\n",
              "      cursor: pointer;\n",
              "      display: none;\n",
              "      fill: #1967D2;\n",
              "      height: 32px;\n",
              "      padding: 0 0 0 0;\n",
              "      width: 32px;\n",
              "    }\n",
              "\n",
              "    .colab-df-convert:hover {\n",
              "      background-color: #E2EBFA;\n",
              "      box-shadow: 0px 1px 2px rgba(60, 64, 67, 0.3), 0px 1px 3px 1px rgba(60, 64, 67, 0.15);\n",
              "      fill: #174EA6;\n",
              "    }\n",
              "\n",
              "    .colab-df-buttons div {\n",
              "      margin-bottom: 4px;\n",
              "    }\n",
              "\n",
              "    [theme=dark] .colab-df-convert {\n",
              "      background-color: #3B4455;\n",
              "      fill: #D2E3FC;\n",
              "    }\n",
              "\n",
              "    [theme=dark] .colab-df-convert:hover {\n",
              "      background-color: #434B5C;\n",
              "      box-shadow: 0px 1px 3px 1px rgba(0, 0, 0, 0.15);\n",
              "      filter: drop-shadow(0px 1px 2px rgba(0, 0, 0, 0.3));\n",
              "      fill: #FFFFFF;\n",
              "    }\n",
              "  </style>\n",
              "\n",
              "    <script>\n",
              "      const buttonEl =\n",
              "        document.querySelector('#df-be9eabe0-f8bd-41fa-b281-3c8c6c30c0e6 button.colab-df-convert');\n",
              "      buttonEl.style.display =\n",
              "        google.colab.kernel.accessAllowed ? 'block' : 'none';\n",
              "\n",
              "      async function convertToInteractive(key) {\n",
              "        const element = document.querySelector('#df-be9eabe0-f8bd-41fa-b281-3c8c6c30c0e6');\n",
              "        const dataTable =\n",
              "          await google.colab.kernel.invokeFunction('convertToInteractive',\n",
              "                                                    [key], {});\n",
              "        if (!dataTable) return;\n",
              "\n",
              "        const docLinkHtml = 'Like what you see? Visit the ' +\n",
              "          '<a target=\"_blank\" href=https://colab.research.google.com/notebooks/data_table.ipynb>data table notebook</a>'\n",
              "          + ' to learn more about interactive tables.';\n",
              "        element.innerHTML = '';\n",
              "        dataTable['output_type'] = 'display_data';\n",
              "        await google.colab.output.renderOutput(dataTable, element);\n",
              "        const docLink = document.createElement('div');\n",
              "        docLink.innerHTML = docLinkHtml;\n",
              "        element.appendChild(docLink);\n",
              "      }\n",
              "    </script>\n",
              "  </div>\n",
              "\n",
              "\n",
              "<div id=\"df-708a4ec6-56e7-4055-a46f-0fa38437ca8c\">\n",
              "  <button class=\"colab-df-quickchart\" onclick=\"quickchart('df-708a4ec6-56e7-4055-a46f-0fa38437ca8c')\"\n",
              "            title=\"Suggest charts.\"\n",
              "            style=\"display:none;\">\n",
              "\n",
              "<svg xmlns=\"http://www.w3.org/2000/svg\" height=\"24px\"viewBox=\"0 0 24 24\"\n",
              "     width=\"24px\">\n",
              "    <g>\n",
              "        <path d=\"M19 3H5c-1.1 0-2 .9-2 2v14c0 1.1.9 2 2 2h14c1.1 0 2-.9 2-2V5c0-1.1-.9-2-2-2zM9 17H7v-7h2v7zm4 0h-2V7h2v10zm4 0h-2v-4h2v4z\"/>\n",
              "    </g>\n",
              "</svg>\n",
              "  </button>\n",
              "\n",
              "<style>\n",
              "  .colab-df-quickchart {\n",
              "      --bg-color: #E8F0FE;\n",
              "      --fill-color: #1967D2;\n",
              "      --hover-bg-color: #E2EBFA;\n",
              "      --hover-fill-color: #174EA6;\n",
              "      --disabled-fill-color: #AAA;\n",
              "      --disabled-bg-color: #DDD;\n",
              "  }\n",
              "\n",
              "  [theme=dark] .colab-df-quickchart {\n",
              "      --bg-color: #3B4455;\n",
              "      --fill-color: #D2E3FC;\n",
              "      --hover-bg-color: #434B5C;\n",
              "      --hover-fill-color: #FFFFFF;\n",
              "      --disabled-bg-color: #3B4455;\n",
              "      --disabled-fill-color: #666;\n",
              "  }\n",
              "\n",
              "  .colab-df-quickchart {\n",
              "    background-color: var(--bg-color);\n",
              "    border: none;\n",
              "    border-radius: 50%;\n",
              "    cursor: pointer;\n",
              "    display: none;\n",
              "    fill: var(--fill-color);\n",
              "    height: 32px;\n",
              "    padding: 0;\n",
              "    width: 32px;\n",
              "  }\n",
              "\n",
              "  .colab-df-quickchart:hover {\n",
              "    background-color: var(--hover-bg-color);\n",
              "    box-shadow: 0 1px 2px rgba(60, 64, 67, 0.3), 0 1px 3px 1px rgba(60, 64, 67, 0.15);\n",
              "    fill: var(--button-hover-fill-color);\n",
              "  }\n",
              "\n",
              "  .colab-df-quickchart-complete:disabled,\n",
              "  .colab-df-quickchart-complete:disabled:hover {\n",
              "    background-color: var(--disabled-bg-color);\n",
              "    fill: var(--disabled-fill-color);\n",
              "    box-shadow: none;\n",
              "  }\n",
              "\n",
              "  .colab-df-spinner {\n",
              "    border: 2px solid var(--fill-color);\n",
              "    border-color: transparent;\n",
              "    border-bottom-color: var(--fill-color);\n",
              "    animation:\n",
              "      spin 1s steps(1) infinite;\n",
              "  }\n",
              "\n",
              "  @keyframes spin {\n",
              "    0% {\n",
              "      border-color: transparent;\n",
              "      border-bottom-color: var(--fill-color);\n",
              "      border-left-color: var(--fill-color);\n",
              "    }\n",
              "    20% {\n",
              "      border-color: transparent;\n",
              "      border-left-color: var(--fill-color);\n",
              "      border-top-color: var(--fill-color);\n",
              "    }\n",
              "    30% {\n",
              "      border-color: transparent;\n",
              "      border-left-color: var(--fill-color);\n",
              "      border-top-color: var(--fill-color);\n",
              "      border-right-color: var(--fill-color);\n",
              "    }\n",
              "    40% {\n",
              "      border-color: transparent;\n",
              "      border-right-color: var(--fill-color);\n",
              "      border-top-color: var(--fill-color);\n",
              "    }\n",
              "    60% {\n",
              "      border-color: transparent;\n",
              "      border-right-color: var(--fill-color);\n",
              "    }\n",
              "    80% {\n",
              "      border-color: transparent;\n",
              "      border-right-color: var(--fill-color);\n",
              "      border-bottom-color: var(--fill-color);\n",
              "    }\n",
              "    90% {\n",
              "      border-color: transparent;\n",
              "      border-bottom-color: var(--fill-color);\n",
              "    }\n",
              "  }\n",
              "</style>\n",
              "\n",
              "  <script>\n",
              "    async function quickchart(key) {\n",
              "      const quickchartButtonEl =\n",
              "        document.querySelector('#' + key + ' button');\n",
              "      quickchartButtonEl.disabled = true;  // To prevent multiple clicks.\n",
              "      quickchartButtonEl.classList.add('colab-df-spinner');\n",
              "      try {\n",
              "        const charts = await google.colab.kernel.invokeFunction(\n",
              "            'suggestCharts', [key], {});\n",
              "      } catch (error) {\n",
              "        console.error('Error during call to suggestCharts:', error);\n",
              "      }\n",
              "      quickchartButtonEl.classList.remove('colab-df-spinner');\n",
              "      quickchartButtonEl.classList.add('colab-df-quickchart-complete');\n",
              "    }\n",
              "    (() => {\n",
              "      let quickchartButtonEl =\n",
              "        document.querySelector('#df-708a4ec6-56e7-4055-a46f-0fa38437ca8c button');\n",
              "      quickchartButtonEl.style.display =\n",
              "        google.colab.kernel.accessAllowed ? 'block' : 'none';\n",
              "    })();\n",
              "  </script>\n",
              "</div>\n",
              "    </div>\n",
              "  </div>\n"
            ]
          },
          "metadata": {},
          "execution_count": 39
        }
      ]
    },
    {
      "cell_type": "code",
      "source": [
        "status.Study_Status.value_counts()"
      ],
      "metadata": {
        "colab": {
          "base_uri": "https://localhost:8080/"
        },
        "id": "3YG3kaZ3X4vk",
        "outputId": "8b26f8af-a33e-4ecf-c990-0b1888dfffd0"
      },
      "execution_count": null,
      "outputs": [
        {
          "output_type": "execute_result",
          "data": {
            "text/plain": [
              "COMPLETED     70866\n",
              "TERMINATED    11594\n",
              "Name: Study_Status, dtype: int64"
            ]
          },
          "metadata": {},
          "execution_count": 40
        }
      ]
    },
    {
      "cell_type": "markdown",
      "source": [
        "**Observation**\n",
        "\n",
        "* The dataset above has only the studies that were completed or terminated."
      ],
      "metadata": {
        "id": "rVWC2pYbm5n4"
      }
    },
    {
      "cell_type": "code",
      "source": [
        "#checking the shape\n",
        "status.shape"
      ],
      "metadata": {
        "colab": {
          "base_uri": "https://localhost:8080/"
        },
        "id": "m6VGblb7LXmf",
        "outputId": "b19b3183-26bc-46f8-cc44-dcf29f20e21f"
      },
      "execution_count": null,
      "outputs": [
        {
          "output_type": "execute_result",
          "data": {
            "text/plain": [
              "(82460, 30)"
            ]
          },
          "metadata": {},
          "execution_count": 41
        }
      ]
    },
    {
      "cell_type": "markdown",
      "source": [
        "**Observation**\n",
        "\n",
        "* The working dataset now has 82,460 rows and 30 columns"
      ],
      "metadata": {
        "id": "clAhXbT8nJ7u"
      }
    },
    {
      "cell_type": "code",
      "source": [
        "#let's encode the categorical features i.e convert them to numerical values\n",
        "from sklearn.preprocessing import LabelEncoder\n",
        "\n",
        "# Function to label encode the categorical variables\n",
        "def encode_categorical_features(dataframe):\n",
        "    encoded_dataframe = dataframe.copy()  # Create a copy of the original DataFrame\n",
        "\n",
        "    for column in dataframe.columns:\n",
        "        if dataframe[column].dtype == 'object':\n",
        "            encoder = LabelEncoder()\n",
        "            encoded_dataframe[column] = encoder.fit_transform(dataframe[column])\n",
        "\n",
        "    return encoded_dataframe\n",
        "\n",
        "# Example usage:\n",
        "encoded_status = encode_categorical_features(status)\n"
      ],
      "metadata": {
        "id": "ArTVNCbDSKNf"
      },
      "execution_count": null,
      "outputs": []
    },
    {
      "cell_type": "code",
      "source": [
        "# Print the top 5 encoded rows\n",
        "\n",
        "encoded_status.head(5)"
      ],
      "metadata": {
        "colab": {
          "base_uri": "https://localhost:8080/"
        },
        "id": "UH2P21vLSlqQ",
        "outputId": "438fe3d4-2939-4375-a2c8-2d0aa6f70559"
      },
      "execution_count": null,
      "outputs": [
        {
          "output_type": "execute_result",
          "data": {
            "text/plain": [
              "   NCT_Number  Study_Title  Study_URL  Acronym  Study_Status  Brief_Summary  \\\n",
              "1       25641        26950      25641     8802             0          13041   \n",
              "4       53695        58539      53695    13372             0           9779   \n",
              "5       58530         4076      58530    10737             0          46353   \n",
              "8       53678        73294      53678    17132             0          30017   \n",
              "9       11204         9080      11204    10737             1          15916   \n",
              "\n",
              "   Study_Results  Conditions  Interventions  Primary_Outcome_Measures  ...  \\\n",
              "1              0       16071          49275                     65611  ...   \n",
              "4              0       24723          52162                     69680  ...   \n",
              "5              0       22008           7832                     18134  ...   \n",
              "8              0       22008          53926                     28346  ...   \n",
              "9              0       14753          24603                     57738  ...   \n",
              "\n",
              "   Study_Design  Other_IDs  Start_Date  Primary_Completion_Date  \\\n",
              "1           849      21794  2009-09-01               2011-12-01   \n",
              "4           849       9939  2015-10-01               2021-08-05   \n",
              "5           561      79357  2016-08-01               2017-12-21   \n",
              "8           527      45779  2015-10-01               2017-06-01   \n",
              "9           226      78032  2005-11-01               2005-11-01   \n",
              "\n",
              "   Completion_Date  First_Posted  Results_First_Posted  Last_Update_Posted  \\\n",
              "1       2011-12-01    2009-06-04                   NaT          2015-05-29   \n",
              "4       2021-08-05    2015-09-23                   NaT          2021-08-25   \n",
              "5       2017-12-21    2016-09-19                   NaT          2018-06-13   \n",
              "8       2017-07-01    2015-09-22                   NaT          2020-07-23   \n",
              "9       2005-11-01    2005-11-29                   NaT          2015-05-13   \n",
              "\n",
              "   Locations  Study_Documents  \n",
              "1      25263               10  \n",
              "4      43766               10  \n",
              "5      30639               10  \n",
              "8      35338               10  \n",
              "9      24967               10  \n",
              "\n",
              "[5 rows x 30 columns]"
            ],
            "text/html": [
              "\n",
              "  <div id=\"df-76503b67-54ef-41e3-a4ec-5e6f8bc119c5\" class=\"colab-df-container\">\n",
              "    <div>\n",
              "<style scoped>\n",
              "    .dataframe tbody tr th:only-of-type {\n",
              "        vertical-align: middle;\n",
              "    }\n",
              "\n",
              "    .dataframe tbody tr th {\n",
              "        vertical-align: top;\n",
              "    }\n",
              "\n",
              "    .dataframe thead th {\n",
              "        text-align: right;\n",
              "    }\n",
              "</style>\n",
              "<table border=\"1\" class=\"dataframe\">\n",
              "  <thead>\n",
              "    <tr style=\"text-align: right;\">\n",
              "      <th></th>\n",
              "      <th>NCT_Number</th>\n",
              "      <th>Study_Title</th>\n",
              "      <th>Study_URL</th>\n",
              "      <th>Acronym</th>\n",
              "      <th>Study_Status</th>\n",
              "      <th>Brief_Summary</th>\n",
              "      <th>Study_Results</th>\n",
              "      <th>Conditions</th>\n",
              "      <th>Interventions</th>\n",
              "      <th>Primary_Outcome_Measures</th>\n",
              "      <th>...</th>\n",
              "      <th>Study_Design</th>\n",
              "      <th>Other_IDs</th>\n",
              "      <th>Start_Date</th>\n",
              "      <th>Primary_Completion_Date</th>\n",
              "      <th>Completion_Date</th>\n",
              "      <th>First_Posted</th>\n",
              "      <th>Results_First_Posted</th>\n",
              "      <th>Last_Update_Posted</th>\n",
              "      <th>Locations</th>\n",
              "      <th>Study_Documents</th>\n",
              "    </tr>\n",
              "  </thead>\n",
              "  <tbody>\n",
              "    <tr>\n",
              "      <th>1</th>\n",
              "      <td>25641</td>\n",
              "      <td>26950</td>\n",
              "      <td>25641</td>\n",
              "      <td>8802</td>\n",
              "      <td>0</td>\n",
              "      <td>13041</td>\n",
              "      <td>0</td>\n",
              "      <td>16071</td>\n",
              "      <td>49275</td>\n",
              "      <td>65611</td>\n",
              "      <td>...</td>\n",
              "      <td>849</td>\n",
              "      <td>21794</td>\n",
              "      <td>2009-09-01</td>\n",
              "      <td>2011-12-01</td>\n",
              "      <td>2011-12-01</td>\n",
              "      <td>2009-06-04</td>\n",
              "      <td>NaT</td>\n",
              "      <td>2015-05-29</td>\n",
              "      <td>25263</td>\n",
              "      <td>10</td>\n",
              "    </tr>\n",
              "    <tr>\n",
              "      <th>4</th>\n",
              "      <td>53695</td>\n",
              "      <td>58539</td>\n",
              "      <td>53695</td>\n",
              "      <td>13372</td>\n",
              "      <td>0</td>\n",
              "      <td>9779</td>\n",
              "      <td>0</td>\n",
              "      <td>24723</td>\n",
              "      <td>52162</td>\n",
              "      <td>69680</td>\n",
              "      <td>...</td>\n",
              "      <td>849</td>\n",
              "      <td>9939</td>\n",
              "      <td>2015-10-01</td>\n",
              "      <td>2021-08-05</td>\n",
              "      <td>2021-08-05</td>\n",
              "      <td>2015-09-23</td>\n",
              "      <td>NaT</td>\n",
              "      <td>2021-08-25</td>\n",
              "      <td>43766</td>\n",
              "      <td>10</td>\n",
              "    </tr>\n",
              "    <tr>\n",
              "      <th>5</th>\n",
              "      <td>58530</td>\n",
              "      <td>4076</td>\n",
              "      <td>58530</td>\n",
              "      <td>10737</td>\n",
              "      <td>0</td>\n",
              "      <td>46353</td>\n",
              "      <td>0</td>\n",
              "      <td>22008</td>\n",
              "      <td>7832</td>\n",
              "      <td>18134</td>\n",
              "      <td>...</td>\n",
              "      <td>561</td>\n",
              "      <td>79357</td>\n",
              "      <td>2016-08-01</td>\n",
              "      <td>2017-12-21</td>\n",
              "      <td>2017-12-21</td>\n",
              "      <td>2016-09-19</td>\n",
              "      <td>NaT</td>\n",
              "      <td>2018-06-13</td>\n",
              "      <td>30639</td>\n",
              "      <td>10</td>\n",
              "    </tr>\n",
              "    <tr>\n",
              "      <th>8</th>\n",
              "      <td>53678</td>\n",
              "      <td>73294</td>\n",
              "      <td>53678</td>\n",
              "      <td>17132</td>\n",
              "      <td>0</td>\n",
              "      <td>30017</td>\n",
              "      <td>0</td>\n",
              "      <td>22008</td>\n",
              "      <td>53926</td>\n",
              "      <td>28346</td>\n",
              "      <td>...</td>\n",
              "      <td>527</td>\n",
              "      <td>45779</td>\n",
              "      <td>2015-10-01</td>\n",
              "      <td>2017-06-01</td>\n",
              "      <td>2017-07-01</td>\n",
              "      <td>2015-09-22</td>\n",
              "      <td>NaT</td>\n",
              "      <td>2020-07-23</td>\n",
              "      <td>35338</td>\n",
              "      <td>10</td>\n",
              "    </tr>\n",
              "    <tr>\n",
              "      <th>9</th>\n",
              "      <td>11204</td>\n",
              "      <td>9080</td>\n",
              "      <td>11204</td>\n",
              "      <td>10737</td>\n",
              "      <td>1</td>\n",
              "      <td>15916</td>\n",
              "      <td>0</td>\n",
              "      <td>14753</td>\n",
              "      <td>24603</td>\n",
              "      <td>57738</td>\n",
              "      <td>...</td>\n",
              "      <td>226</td>\n",
              "      <td>78032</td>\n",
              "      <td>2005-11-01</td>\n",
              "      <td>2005-11-01</td>\n",
              "      <td>2005-11-01</td>\n",
              "      <td>2005-11-29</td>\n",
              "      <td>NaT</td>\n",
              "      <td>2015-05-13</td>\n",
              "      <td>24967</td>\n",
              "      <td>10</td>\n",
              "    </tr>\n",
              "  </tbody>\n",
              "</table>\n",
              "<p>5 rows × 30 columns</p>\n",
              "</div>\n",
              "    <div class=\"colab-df-buttons\">\n",
              "\n",
              "  <div class=\"colab-df-container\">\n",
              "    <button class=\"colab-df-convert\" onclick=\"convertToInteractive('df-76503b67-54ef-41e3-a4ec-5e6f8bc119c5')\"\n",
              "            title=\"Convert this dataframe to an interactive table.\"\n",
              "            style=\"display:none;\">\n",
              "\n",
              "  <svg xmlns=\"http://www.w3.org/2000/svg\" height=\"24px\" viewBox=\"0 -960 960 960\">\n",
              "    <path d=\"M120-120v-720h720v720H120Zm60-500h600v-160H180v160Zm220 220h160v-160H400v160Zm0 220h160v-160H400v160ZM180-400h160v-160H180v160Zm440 0h160v-160H620v160ZM180-180h160v-160H180v160Zm440 0h160v-160H620v160Z\"/>\n",
              "  </svg>\n",
              "    </button>\n",
              "\n",
              "  <style>\n",
              "    .colab-df-container {\n",
              "      display:flex;\n",
              "      gap: 12px;\n",
              "    }\n",
              "\n",
              "    .colab-df-convert {\n",
              "      background-color: #E8F0FE;\n",
              "      border: none;\n",
              "      border-radius: 50%;\n",
              "      cursor: pointer;\n",
              "      display: none;\n",
              "      fill: #1967D2;\n",
              "      height: 32px;\n",
              "      padding: 0 0 0 0;\n",
              "      width: 32px;\n",
              "    }\n",
              "\n",
              "    .colab-df-convert:hover {\n",
              "      background-color: #E2EBFA;\n",
              "      box-shadow: 0px 1px 2px rgba(60, 64, 67, 0.3), 0px 1px 3px 1px rgba(60, 64, 67, 0.15);\n",
              "      fill: #174EA6;\n",
              "    }\n",
              "\n",
              "    .colab-df-buttons div {\n",
              "      margin-bottom: 4px;\n",
              "    }\n",
              "\n",
              "    [theme=dark] .colab-df-convert {\n",
              "      background-color: #3B4455;\n",
              "      fill: #D2E3FC;\n",
              "    }\n",
              "\n",
              "    [theme=dark] .colab-df-convert:hover {\n",
              "      background-color: #434B5C;\n",
              "      box-shadow: 0px 1px 3px 1px rgba(0, 0, 0, 0.15);\n",
              "      filter: drop-shadow(0px 1px 2px rgba(0, 0, 0, 0.3));\n",
              "      fill: #FFFFFF;\n",
              "    }\n",
              "  </style>\n",
              "\n",
              "    <script>\n",
              "      const buttonEl =\n",
              "        document.querySelector('#df-76503b67-54ef-41e3-a4ec-5e6f8bc119c5 button.colab-df-convert');\n",
              "      buttonEl.style.display =\n",
              "        google.colab.kernel.accessAllowed ? 'block' : 'none';\n",
              "\n",
              "      async function convertToInteractive(key) {\n",
              "        const element = document.querySelector('#df-76503b67-54ef-41e3-a4ec-5e6f8bc119c5');\n",
              "        const dataTable =\n",
              "          await google.colab.kernel.invokeFunction('convertToInteractive',\n",
              "                                                    [key], {});\n",
              "        if (!dataTable) return;\n",
              "\n",
              "        const docLinkHtml = 'Like what you see? Visit the ' +\n",
              "          '<a target=\"_blank\" href=https://colab.research.google.com/notebooks/data_table.ipynb>data table notebook</a>'\n",
              "          + ' to learn more about interactive tables.';\n",
              "        element.innerHTML = '';\n",
              "        dataTable['output_type'] = 'display_data';\n",
              "        await google.colab.output.renderOutput(dataTable, element);\n",
              "        const docLink = document.createElement('div');\n",
              "        docLink.innerHTML = docLinkHtml;\n",
              "        element.appendChild(docLink);\n",
              "      }\n",
              "    </script>\n",
              "  </div>\n",
              "\n",
              "\n",
              "<div id=\"df-17a3ae3f-0b5e-42d6-ba34-5d9660c00291\">\n",
              "  <button class=\"colab-df-quickchart\" onclick=\"quickchart('df-17a3ae3f-0b5e-42d6-ba34-5d9660c00291')\"\n",
              "            title=\"Suggest charts.\"\n",
              "            style=\"display:none;\">\n",
              "\n",
              "<svg xmlns=\"http://www.w3.org/2000/svg\" height=\"24px\"viewBox=\"0 0 24 24\"\n",
              "     width=\"24px\">\n",
              "    <g>\n",
              "        <path d=\"M19 3H5c-1.1 0-2 .9-2 2v14c0 1.1.9 2 2 2h14c1.1 0 2-.9 2-2V5c0-1.1-.9-2-2-2zM9 17H7v-7h2v7zm4 0h-2V7h2v10zm4 0h-2v-4h2v4z\"/>\n",
              "    </g>\n",
              "</svg>\n",
              "  </button>\n",
              "\n",
              "<style>\n",
              "  .colab-df-quickchart {\n",
              "      --bg-color: #E8F0FE;\n",
              "      --fill-color: #1967D2;\n",
              "      --hover-bg-color: #E2EBFA;\n",
              "      --hover-fill-color: #174EA6;\n",
              "      --disabled-fill-color: #AAA;\n",
              "      --disabled-bg-color: #DDD;\n",
              "  }\n",
              "\n",
              "  [theme=dark] .colab-df-quickchart {\n",
              "      --bg-color: #3B4455;\n",
              "      --fill-color: #D2E3FC;\n",
              "      --hover-bg-color: #434B5C;\n",
              "      --hover-fill-color: #FFFFFF;\n",
              "      --disabled-bg-color: #3B4455;\n",
              "      --disabled-fill-color: #666;\n",
              "  }\n",
              "\n",
              "  .colab-df-quickchart {\n",
              "    background-color: var(--bg-color);\n",
              "    border: none;\n",
              "    border-radius: 50%;\n",
              "    cursor: pointer;\n",
              "    display: none;\n",
              "    fill: var(--fill-color);\n",
              "    height: 32px;\n",
              "    padding: 0;\n",
              "    width: 32px;\n",
              "  }\n",
              "\n",
              "  .colab-df-quickchart:hover {\n",
              "    background-color: var(--hover-bg-color);\n",
              "    box-shadow: 0 1px 2px rgba(60, 64, 67, 0.3), 0 1px 3px 1px rgba(60, 64, 67, 0.15);\n",
              "    fill: var(--button-hover-fill-color);\n",
              "  }\n",
              "\n",
              "  .colab-df-quickchart-complete:disabled,\n",
              "  .colab-df-quickchart-complete:disabled:hover {\n",
              "    background-color: var(--disabled-bg-color);\n",
              "    fill: var(--disabled-fill-color);\n",
              "    box-shadow: none;\n",
              "  }\n",
              "\n",
              "  .colab-df-spinner {\n",
              "    border: 2px solid var(--fill-color);\n",
              "    border-color: transparent;\n",
              "    border-bottom-color: var(--fill-color);\n",
              "    animation:\n",
              "      spin 1s steps(1) infinite;\n",
              "  }\n",
              "\n",
              "  @keyframes spin {\n",
              "    0% {\n",
              "      border-color: transparent;\n",
              "      border-bottom-color: var(--fill-color);\n",
              "      border-left-color: var(--fill-color);\n",
              "    }\n",
              "    20% {\n",
              "      border-color: transparent;\n",
              "      border-left-color: var(--fill-color);\n",
              "      border-top-color: var(--fill-color);\n",
              "    }\n",
              "    30% {\n",
              "      border-color: transparent;\n",
              "      border-left-color: var(--fill-color);\n",
              "      border-top-color: var(--fill-color);\n",
              "      border-right-color: var(--fill-color);\n",
              "    }\n",
              "    40% {\n",
              "      border-color: transparent;\n",
              "      border-right-color: var(--fill-color);\n",
              "      border-top-color: var(--fill-color);\n",
              "    }\n",
              "    60% {\n",
              "      border-color: transparent;\n",
              "      border-right-color: var(--fill-color);\n",
              "    }\n",
              "    80% {\n",
              "      border-color: transparent;\n",
              "      border-right-color: var(--fill-color);\n",
              "      border-bottom-color: var(--fill-color);\n",
              "    }\n",
              "    90% {\n",
              "      border-color: transparent;\n",
              "      border-bottom-color: var(--fill-color);\n",
              "    }\n",
              "  }\n",
              "</style>\n",
              "\n",
              "  <script>\n",
              "    async function quickchart(key) {\n",
              "      const quickchartButtonEl =\n",
              "        document.querySelector('#' + key + ' button');\n",
              "      quickchartButtonEl.disabled = true;  // To prevent multiple clicks.\n",
              "      quickchartButtonEl.classList.add('colab-df-spinner');\n",
              "      try {\n",
              "        const charts = await google.colab.kernel.invokeFunction(\n",
              "            'suggestCharts', [key], {});\n",
              "      } catch (error) {\n",
              "        console.error('Error during call to suggestCharts:', error);\n",
              "      }\n",
              "      quickchartButtonEl.classList.remove('colab-df-spinner');\n",
              "      quickchartButtonEl.classList.add('colab-df-quickchart-complete');\n",
              "    }\n",
              "    (() => {\n",
              "      let quickchartButtonEl =\n",
              "        document.querySelector('#df-17a3ae3f-0b5e-42d6-ba34-5d9660c00291 button');\n",
              "      quickchartButtonEl.style.display =\n",
              "        google.colab.kernel.accessAllowed ? 'block' : 'none';\n",
              "    })();\n",
              "  </script>\n",
              "</div>\n",
              "    </div>\n",
              "  </div>\n"
            ]
          },
          "metadata": {},
          "execution_count": 43
        }
      ]
    },
    {
      "cell_type": "markdown",
      "source": [
        "**Observation**\n",
        "\n",
        "* The new dataframe called **encoded_status** contains numerical values. Label Encoding assigns a unique numerical value to each category in a categorical variable, essentially converting the categories into integers."
      ],
      "metadata": {
        "id": "JfR-CfEKo2h6"
      }
    },
    {
      "cell_type": "code",
      "source": [
        "# List of columns to drop\n",
        "columns_to_drop = ['Study_URL', 'Acronym', 'Brief_Summary', 'Primary_Outcome_Measures','Secondary_Outcome_Measures','Other_Outcome_Measures','Other_IDs','Results_First_Posted','Study_Documents']\n",
        "\n",
        "# Drop the specified columns\n",
        "encoded_status.drop(columns=columns_to_drop, inplace=True)\n"
      ],
      "metadata": {
        "id": "9Zdulvg1rP8N"
      },
      "execution_count": null,
      "outputs": []
    },
    {
      "cell_type": "code",
      "source": [
        "#Drop the dates in datetime format\n",
        "\n",
        "df = pd.DataFrame(encoded_status)\n",
        "\n",
        "\n",
        "df.drop(columns=['Start_Date','Primary_Completion_Date','Completion_Date','First_Posted','Last_Update_Posted'], axis=1, inplace=True)\n",
        "\n",
        "df.shape\n"
      ],
      "metadata": {
        "colab": {
          "base_uri": "https://localhost:8080/"
        },
        "id": "QGERtVVPA0xk",
        "outputId": "943f62b8-99cd-4ca4-be17-fc6de583a5c5"
      },
      "execution_count": null,
      "outputs": [
        {
          "output_type": "execute_result",
          "data": {
            "text/plain": [
              "(82460, 16)"
            ]
          },
          "metadata": {},
          "execution_count": 45
        }
      ]
    },
    {
      "cell_type": "markdown",
      "source": [
        "**Observation**\n",
        "\n",
        "* The dataframe named df will be used for modelling. It has 16 columns, and 82,460 rows"
      ],
      "metadata": {
        "id": "yWstPqveCHLC"
      }
    },
    {
      "cell_type": "markdown",
      "source": [
        "**Split data into X and y**"
      ],
      "metadata": {
        "id": "zAo2g7E5vEIQ"
      }
    },
    {
      "cell_type": "code",
      "source": [
        "target='Study_Status'\n",
        "\n",
        "y=df[target]\n",
        "X=df.drop(target,axis=1)\n",
        "\n",
        "#Split into X_train, X_test, y_train, y_test\n",
        "X_train, X_test, y_train, y_test = train_test_split(X,y, test_size = 0.2, random_state = 0)\n",
        "\n",
        "#scaling using MinMax scaler which  scales features to a specified range, usually [0, 1]\n",
        "\n",
        "# X-train(fit,transform)----- scales the data, and the result is stored in a DataFrame.\n",
        "training_scaler = MinMaxScaler().fit(X_train)\n",
        "training_set = training_scaler.transform(X_train)\n",
        "\n",
        "#X_TEST(FIT,TRANSFORM)\n",
        "testing_scaler = MinMaxScaler().fit(X_test)\n",
        "testing_set = testing_scaler.transform(X_test)\n"
      ],
      "metadata": {
        "id": "WibciN97A_wW"
      },
      "execution_count": null,
      "outputs": []
    },
    {
      "cell_type": "code",
      "source": [
        "# Check our X(independent) features\n",
        "\n",
        "X.head(3)"
      ],
      "metadata": {
        "colab": {
          "base_uri": "https://localhost:8080/"
        },
        "id": "CNYiwf44BdTq",
        "outputId": "e9a2292c-310a-4802-8b7e-23aa464c61d8"
      },
      "execution_count": null,
      "outputs": [
        {
          "output_type": "execute_result",
          "data": {
            "text/plain": [
              "   NCT_Number  Study_Title  Study_Results  Conditions  Interventions  Sponsor  \\\n",
              "1       25641        26950              0       16071          49275     9777   \n",
              "4       53695        58539              0       24723          52162     4282   \n",
              "5       58530         4076              0       22008           7832     9689   \n",
              "\n",
              "   Collaborators  Sex  Age  Phases  Enrollment  Funder_Type  Study_Type  \\\n",
              "1           5938    0    1       1         500            5           1   \n",
              "4           6455    0    2       1         272            5           1   \n",
              "5           7190    0    0       3          63            5           0   \n",
              "\n",
              "   Study_Design  Locations  \n",
              "1           849      25263  \n",
              "4           849      43766  \n",
              "5           561      30639  "
            ],
            "text/html": [
              "\n",
              "  <div id=\"df-df4f4c87-96c2-4523-81a7-25ca7d595547\" class=\"colab-df-container\">\n",
              "    <div>\n",
              "<style scoped>\n",
              "    .dataframe tbody tr th:only-of-type {\n",
              "        vertical-align: middle;\n",
              "    }\n",
              "\n",
              "    .dataframe tbody tr th {\n",
              "        vertical-align: top;\n",
              "    }\n",
              "\n",
              "    .dataframe thead th {\n",
              "        text-align: right;\n",
              "    }\n",
              "</style>\n",
              "<table border=\"1\" class=\"dataframe\">\n",
              "  <thead>\n",
              "    <tr style=\"text-align: right;\">\n",
              "      <th></th>\n",
              "      <th>NCT_Number</th>\n",
              "      <th>Study_Title</th>\n",
              "      <th>Study_Results</th>\n",
              "      <th>Conditions</th>\n",
              "      <th>Interventions</th>\n",
              "      <th>Sponsor</th>\n",
              "      <th>Collaborators</th>\n",
              "      <th>Sex</th>\n",
              "      <th>Age</th>\n",
              "      <th>Phases</th>\n",
              "      <th>Enrollment</th>\n",
              "      <th>Funder_Type</th>\n",
              "      <th>Study_Type</th>\n",
              "      <th>Study_Design</th>\n",
              "      <th>Locations</th>\n",
              "    </tr>\n",
              "  </thead>\n",
              "  <tbody>\n",
              "    <tr>\n",
              "      <th>1</th>\n",
              "      <td>25641</td>\n",
              "      <td>26950</td>\n",
              "      <td>0</td>\n",
              "      <td>16071</td>\n",
              "      <td>49275</td>\n",
              "      <td>9777</td>\n",
              "      <td>5938</td>\n",
              "      <td>0</td>\n",
              "      <td>1</td>\n",
              "      <td>1</td>\n",
              "      <td>500</td>\n",
              "      <td>5</td>\n",
              "      <td>1</td>\n",
              "      <td>849</td>\n",
              "      <td>25263</td>\n",
              "    </tr>\n",
              "    <tr>\n",
              "      <th>4</th>\n",
              "      <td>53695</td>\n",
              "      <td>58539</td>\n",
              "      <td>0</td>\n",
              "      <td>24723</td>\n",
              "      <td>52162</td>\n",
              "      <td>4282</td>\n",
              "      <td>6455</td>\n",
              "      <td>0</td>\n",
              "      <td>2</td>\n",
              "      <td>1</td>\n",
              "      <td>272</td>\n",
              "      <td>5</td>\n",
              "      <td>1</td>\n",
              "      <td>849</td>\n",
              "      <td>43766</td>\n",
              "    </tr>\n",
              "    <tr>\n",
              "      <th>5</th>\n",
              "      <td>58530</td>\n",
              "      <td>4076</td>\n",
              "      <td>0</td>\n",
              "      <td>22008</td>\n",
              "      <td>7832</td>\n",
              "      <td>9689</td>\n",
              "      <td>7190</td>\n",
              "      <td>0</td>\n",
              "      <td>0</td>\n",
              "      <td>3</td>\n",
              "      <td>63</td>\n",
              "      <td>5</td>\n",
              "      <td>0</td>\n",
              "      <td>561</td>\n",
              "      <td>30639</td>\n",
              "    </tr>\n",
              "  </tbody>\n",
              "</table>\n",
              "</div>\n",
              "    <div class=\"colab-df-buttons\">\n",
              "\n",
              "  <div class=\"colab-df-container\">\n",
              "    <button class=\"colab-df-convert\" onclick=\"convertToInteractive('df-df4f4c87-96c2-4523-81a7-25ca7d595547')\"\n",
              "            title=\"Convert this dataframe to an interactive table.\"\n",
              "            style=\"display:none;\">\n",
              "\n",
              "  <svg xmlns=\"http://www.w3.org/2000/svg\" height=\"24px\" viewBox=\"0 -960 960 960\">\n",
              "    <path d=\"M120-120v-720h720v720H120Zm60-500h600v-160H180v160Zm220 220h160v-160H400v160Zm0 220h160v-160H400v160ZM180-400h160v-160H180v160Zm440 0h160v-160H620v160ZM180-180h160v-160H180v160Zm440 0h160v-160H620v160Z\"/>\n",
              "  </svg>\n",
              "    </button>\n",
              "\n",
              "  <style>\n",
              "    .colab-df-container {\n",
              "      display:flex;\n",
              "      gap: 12px;\n",
              "    }\n",
              "\n",
              "    .colab-df-convert {\n",
              "      background-color: #E8F0FE;\n",
              "      border: none;\n",
              "      border-radius: 50%;\n",
              "      cursor: pointer;\n",
              "      display: none;\n",
              "      fill: #1967D2;\n",
              "      height: 32px;\n",
              "      padding: 0 0 0 0;\n",
              "      width: 32px;\n",
              "    }\n",
              "\n",
              "    .colab-df-convert:hover {\n",
              "      background-color: #E2EBFA;\n",
              "      box-shadow: 0px 1px 2px rgba(60, 64, 67, 0.3), 0px 1px 3px 1px rgba(60, 64, 67, 0.15);\n",
              "      fill: #174EA6;\n",
              "    }\n",
              "\n",
              "    .colab-df-buttons div {\n",
              "      margin-bottom: 4px;\n",
              "    }\n",
              "\n",
              "    [theme=dark] .colab-df-convert {\n",
              "      background-color: #3B4455;\n",
              "      fill: #D2E3FC;\n",
              "    }\n",
              "\n",
              "    [theme=dark] .colab-df-convert:hover {\n",
              "      background-color: #434B5C;\n",
              "      box-shadow: 0px 1px 3px 1px rgba(0, 0, 0, 0.15);\n",
              "      filter: drop-shadow(0px 1px 2px rgba(0, 0, 0, 0.3));\n",
              "      fill: #FFFFFF;\n",
              "    }\n",
              "  </style>\n",
              "\n",
              "    <script>\n",
              "      const buttonEl =\n",
              "        document.querySelector('#df-df4f4c87-96c2-4523-81a7-25ca7d595547 button.colab-df-convert');\n",
              "      buttonEl.style.display =\n",
              "        google.colab.kernel.accessAllowed ? 'block' : 'none';\n",
              "\n",
              "      async function convertToInteractive(key) {\n",
              "        const element = document.querySelector('#df-df4f4c87-96c2-4523-81a7-25ca7d595547');\n",
              "        const dataTable =\n",
              "          await google.colab.kernel.invokeFunction('convertToInteractive',\n",
              "                                                    [key], {});\n",
              "        if (!dataTable) return;\n",
              "\n",
              "        const docLinkHtml = 'Like what you see? Visit the ' +\n",
              "          '<a target=\"_blank\" href=https://colab.research.google.com/notebooks/data_table.ipynb>data table notebook</a>'\n",
              "          + ' to learn more about interactive tables.';\n",
              "        element.innerHTML = '';\n",
              "        dataTable['output_type'] = 'display_data';\n",
              "        await google.colab.output.renderOutput(dataTable, element);\n",
              "        const docLink = document.createElement('div');\n",
              "        docLink.innerHTML = docLinkHtml;\n",
              "        element.appendChild(docLink);\n",
              "      }\n",
              "    </script>\n",
              "  </div>\n",
              "\n",
              "\n",
              "<div id=\"df-7a1eba70-c4cb-4bd5-807c-8110b9e3041f\">\n",
              "  <button class=\"colab-df-quickchart\" onclick=\"quickchart('df-7a1eba70-c4cb-4bd5-807c-8110b9e3041f')\"\n",
              "            title=\"Suggest charts.\"\n",
              "            style=\"display:none;\">\n",
              "\n",
              "<svg xmlns=\"http://www.w3.org/2000/svg\" height=\"24px\"viewBox=\"0 0 24 24\"\n",
              "     width=\"24px\">\n",
              "    <g>\n",
              "        <path d=\"M19 3H5c-1.1 0-2 .9-2 2v14c0 1.1.9 2 2 2h14c1.1 0 2-.9 2-2V5c0-1.1-.9-2-2-2zM9 17H7v-7h2v7zm4 0h-2V7h2v10zm4 0h-2v-4h2v4z\"/>\n",
              "    </g>\n",
              "</svg>\n",
              "  </button>\n",
              "\n",
              "<style>\n",
              "  .colab-df-quickchart {\n",
              "      --bg-color: #E8F0FE;\n",
              "      --fill-color: #1967D2;\n",
              "      --hover-bg-color: #E2EBFA;\n",
              "      --hover-fill-color: #174EA6;\n",
              "      --disabled-fill-color: #AAA;\n",
              "      --disabled-bg-color: #DDD;\n",
              "  }\n",
              "\n",
              "  [theme=dark] .colab-df-quickchart {\n",
              "      --bg-color: #3B4455;\n",
              "      --fill-color: #D2E3FC;\n",
              "      --hover-bg-color: #434B5C;\n",
              "      --hover-fill-color: #FFFFFF;\n",
              "      --disabled-bg-color: #3B4455;\n",
              "      --disabled-fill-color: #666;\n",
              "  }\n",
              "\n",
              "  .colab-df-quickchart {\n",
              "    background-color: var(--bg-color);\n",
              "    border: none;\n",
              "    border-radius: 50%;\n",
              "    cursor: pointer;\n",
              "    display: none;\n",
              "    fill: var(--fill-color);\n",
              "    height: 32px;\n",
              "    padding: 0;\n",
              "    width: 32px;\n",
              "  }\n",
              "\n",
              "  .colab-df-quickchart:hover {\n",
              "    background-color: var(--hover-bg-color);\n",
              "    box-shadow: 0 1px 2px rgba(60, 64, 67, 0.3), 0 1px 3px 1px rgba(60, 64, 67, 0.15);\n",
              "    fill: var(--button-hover-fill-color);\n",
              "  }\n",
              "\n",
              "  .colab-df-quickchart-complete:disabled,\n",
              "  .colab-df-quickchart-complete:disabled:hover {\n",
              "    background-color: var(--disabled-bg-color);\n",
              "    fill: var(--disabled-fill-color);\n",
              "    box-shadow: none;\n",
              "  }\n",
              "\n",
              "  .colab-df-spinner {\n",
              "    border: 2px solid var(--fill-color);\n",
              "    border-color: transparent;\n",
              "    border-bottom-color: var(--fill-color);\n",
              "    animation:\n",
              "      spin 1s steps(1) infinite;\n",
              "  }\n",
              "\n",
              "  @keyframes spin {\n",
              "    0% {\n",
              "      border-color: transparent;\n",
              "      border-bottom-color: var(--fill-color);\n",
              "      border-left-color: var(--fill-color);\n",
              "    }\n",
              "    20% {\n",
              "      border-color: transparent;\n",
              "      border-left-color: var(--fill-color);\n",
              "      border-top-color: var(--fill-color);\n",
              "    }\n",
              "    30% {\n",
              "      border-color: transparent;\n",
              "      border-left-color: var(--fill-color);\n",
              "      border-top-color: var(--fill-color);\n",
              "      border-right-color: var(--fill-color);\n",
              "    }\n",
              "    40% {\n",
              "      border-color: transparent;\n",
              "      border-right-color: var(--fill-color);\n",
              "      border-top-color: var(--fill-color);\n",
              "    }\n",
              "    60% {\n",
              "      border-color: transparent;\n",
              "      border-right-color: var(--fill-color);\n",
              "    }\n",
              "    80% {\n",
              "      border-color: transparent;\n",
              "      border-right-color: var(--fill-color);\n",
              "      border-bottom-color: var(--fill-color);\n",
              "    }\n",
              "    90% {\n",
              "      border-color: transparent;\n",
              "      border-bottom-color: var(--fill-color);\n",
              "    }\n",
              "  }\n",
              "</style>\n",
              "\n",
              "  <script>\n",
              "    async function quickchart(key) {\n",
              "      const quickchartButtonEl =\n",
              "        document.querySelector('#' + key + ' button');\n",
              "      quickchartButtonEl.disabled = true;  // To prevent multiple clicks.\n",
              "      quickchartButtonEl.classList.add('colab-df-spinner');\n",
              "      try {\n",
              "        const charts = await google.colab.kernel.invokeFunction(\n",
              "            'suggestCharts', [key], {});\n",
              "      } catch (error) {\n",
              "        console.error('Error during call to suggestCharts:', error);\n",
              "      }\n",
              "      quickchartButtonEl.classList.remove('colab-df-spinner');\n",
              "      quickchartButtonEl.classList.add('colab-df-quickchart-complete');\n",
              "    }\n",
              "    (() => {\n",
              "      let quickchartButtonEl =\n",
              "        document.querySelector('#df-7a1eba70-c4cb-4bd5-807c-8110b9e3041f button');\n",
              "      quickchartButtonEl.style.display =\n",
              "        google.colab.kernel.accessAllowed ? 'block' : 'none';\n",
              "    })();\n",
              "  </script>\n",
              "</div>\n",
              "    </div>\n",
              "  </div>\n"
            ]
          },
          "metadata": {},
          "execution_count": 47
        }
      ]
    },
    {
      "cell_type": "markdown",
      "source": [
        "**Observation**\n",
        "\n",
        "* Has 15 columns except for the **Study_Status** column; our dependent variable"
      ],
      "metadata": {
        "id": "99SBfONlvxZ7"
      }
    },
    {
      "cell_type": "code",
      "source": [
        "# Check the y features\n",
        "y.head(6)"
      ],
      "metadata": {
        "colab": {
          "base_uri": "https://localhost:8080/"
        },
        "id": "mcVKvnM5x0Rn",
        "outputId": "7c859e02-dd40-46ec-ed71-c44cfbd73baf"
      },
      "execution_count": null,
      "outputs": [
        {
          "output_type": "execute_result",
          "data": {
            "text/plain": [
              "1     0\n",
              "4     0\n",
              "5     0\n",
              "8     0\n",
              "9     1\n",
              "10    0\n",
              "Name: Study_Status, dtype: int64"
            ]
          },
          "metadata": {},
          "execution_count": 48
        }
      ]
    },
    {
      "cell_type": "markdown",
      "source": [
        "**Observation**\n",
        "\n",
        "Our binary target variable is the **Study_Status** column; ie y variable"
      ],
      "metadata": {
        "id": "lb4UeoRIyDYz"
      }
    },
    {
      "cell_type": "code",
      "source": [
        "X_train.shape"
      ],
      "metadata": {
        "colab": {
          "base_uri": "https://localhost:8080/"
        },
        "id": "OAi5Xd3mD5YS",
        "outputId": "b50af70f-0366-4023-b146-6ee2c85eea2f"
      },
      "execution_count": null,
      "outputs": [
        {
          "output_type": "execute_result",
          "data": {
            "text/plain": [
              "(65968, 15)"
            ]
          },
          "metadata": {},
          "execution_count": 49
        }
      ]
    },
    {
      "cell_type": "markdown",
      "source": [
        "**Observation**\n",
        "\n",
        "* 65,968 independent variable equals the 80% (80/20% split) that will be used for training."
      ],
      "metadata": {
        "id": "1qZRJfljGE9q"
      }
    },
    {
      "cell_type": "code",
      "source": [
        "X_test.shape"
      ],
      "metadata": {
        "colab": {
          "base_uri": "https://localhost:8080/"
        },
        "id": "bNXSURjxEAu6",
        "outputId": "033ffe2e-3d5a-4793-cb8c-bd48087bcae0"
      },
      "execution_count": null,
      "outputs": [
        {
          "output_type": "execute_result",
          "data": {
            "text/plain": [
              "(16492, 15)"
            ]
          },
          "metadata": {},
          "execution_count": 50
        }
      ]
    },
    {
      "cell_type": "markdown",
      "source": [
        "**Observation**\n",
        "\n",
        "* The 20% that will be used for test are 16,492 independent features"
      ],
      "metadata": {
        "id": "lqCrK-niGfe9"
      }
    },
    {
      "cell_type": "markdown",
      "source": [
        "\n",
        "###4.2 Modelling\n",
        "\n",
        "Will be utilizing XGBoost, a powerful gradient boosting algorithm, for the modeling task.\n",
        "\n",
        "XGBoost is known for its speed, efficiency, and effectiveness in handling both classification(in our case) and regression problems. It employs boosting techniques to create a robust ensemble of decision trees, iteratively correcting errors and enhancing accuracy. It is capable of handling large datasets while maintaining model performances.\n",
        "\n",
        "XGBoost can handle imbalanced data, but it will require additional tuning to effectively address the class imbalance.\n",
        "\n",
        ">"
      ],
      "metadata": {
        "id": "9_tAoP9jroDa"
      }
    },
    {
      "cell_type": "code",
      "source": [
        "#Develop  a predictive model using XGboost; an optimized gradient boosting algorithm\n",
        "\n",
        "from sklearn.metrics import classification_report, confusion_matrix\n",
        "\n",
        "from xgboost import XGBClassifier\n",
        "\n",
        "model = XGBClassifier()\n",
        "model.fit(X_train, y_train)\n",
        "\n",
        "# make predictions for test data\n",
        "y_pred = model.predict(X_test)\n",
        "predictions = [round(value) for value in y_pred]\n",
        "\n",
        "# evaluate predictions\n",
        "accuracy = accuracy_score(y_test, predictions)\n",
        "print(\"Accuracy: %.2f%%\" % (accuracy * 100.0))\n",
        "from sklearn.metrics import classification_report, confusion_matrix\n",
        "\n",
        "print(confusion_matrix(y_test,predictions))\n",
        "print(classification_report(y_test, predictions))"
      ],
      "metadata": {
        "colab": {
          "base_uri": "https://localhost:8080/"
        },
        "id": "-EL-QwYkMNnA",
        "outputId": "12da1446-7560-4f02-9f2a-67029541ef00"
      },
      "execution_count": null,
      "outputs": [
        {
          "output_type": "stream",
          "name": "stdout",
          "text": [
            "Accuracy: 88.26%\n",
            "[[13827   348]\n",
            " [ 1588   729]]\n",
            "              precision    recall  f1-score   support\n",
            "\n",
            "           0       0.90      0.98      0.93     14175\n",
            "           1       0.68      0.31      0.43      2317\n",
            "\n",
            "    accuracy                           0.88     16492\n",
            "   macro avg       0.79      0.65      0.68     16492\n",
            "weighted avg       0.87      0.88      0.86     16492\n",
            "\n"
          ]
        }
      ]
    },
    {
      "cell_type": "markdown",
      "source": [
        "\n",
        "**Observation**\n",
        "*   Our model correctly predicts that 13915 studies were completed and  757 studies were terminated.\n",
        "*   On the other hand,it makes 317 predictions about studies being completed while in real sense they were terminated. It wrongly predicts that 1501 studies were terminated yet they were completed.\n",
        "\n",
        "\n",
        "*   Going by the F1 Score, the model is 94% right about the 0 class which represents 'COMPLETED' and 45% right about class 1 which represents 'TERMINATED'.\n",
        "*   It gives us an overall accuracy of 89%.\n",
        "\n",
        "\n",
        "\n"
      ],
      "metadata": {
        "id": "3S351CJVq2Ko"
      }
    },
    {
      "cell_type": "markdown",
      "source": [
        "**Tune the XGboost model**"
      ],
      "metadata": {
        "id": "rUJMxF97sGMA"
      }
    },
    {
      "cell_type": "code",
      "source": [
        "import xgboost as xgb\n",
        "from sklearn.metrics import accuracy_score\n",
        "from sklearn.model_selection import train_test_split\n",
        "from sklearn.metrics import classification_report, confusion_matrix\n",
        "\n",
        "# Our features in X and labels in y\n",
        "X_train, X_test, y_train, y_test = train_test_split(X, y, test_size=0.2, random_state=42)\n",
        "\n",
        "# Use XGBoost DMatrix, an interface that is optimized for both memory efficiency and training speed.\n",
        "dtrain = xgb.DMatrix(X_train, label=y_train)\n",
        "dtest = xgb.DMatrix(X_test, label=y_test)\n",
        "\n",
        "# Set hyperparameters\n",
        "params = {\n",
        "    'objective': 'binary:logistic',  # for our binary classification problem\n",
        "    'max_depth': 3, #  limits the maximum depth of each decision tree in the ensemble\n",
        "    'learning_rate': 0.1, #  the model's weights are updated by 10% of their current value during each iteration\n",
        "    'eval_metric': 'logloss' # quantifies the accuracy of a classifier by penalizing false classifications\n",
        "}\n",
        "# Train the model\n",
        "num_rounds = 100  # Number of boosting rounds (iterations)\n",
        "xgb_model = xgb.train(params, dtrain, num_rounds, evals=[(dtest, 'eval')])\n",
        "\n",
        "# Make predictions on the test data\n",
        "y_pred = xgb_model.predict(dtest)\n",
        "\n",
        "# Convert probabilities to binary predictions (0 or 1)\n",
        "predictions = [1 if pred > 0.5 else 0 for pred in y_pred]\n",
        "\n",
        "# Evaluate the model\n",
        "accuracy = accuracy_score(y_test, predictions)\n",
        "print(\"Accuracy: %.2f%%\" % (accuracy * 100.0))\n",
        "from sklearn.metrics import classification_report, confusion_matrix\n",
        "\n",
        "print(confusion_matrix(y_test,predictions))\n",
        "print(classification_report(y_test, predictions))\n"
      ],
      "metadata": {
        "colab": {
          "base_uri": "https://localhost:8080/"
        },
        "id": "5n-RuhJWozY5",
        "outputId": "cf00f972-a052-4468-ae28-bdd9891d8601"
      },
      "execution_count": null,
      "outputs": [
        {
          "output_type": "stream",
          "name": "stdout",
          "text": [
            "[0]\teval-logloss:0.39390\n",
            "[1]\teval-logloss:0.38141\n",
            "[2]\teval-logloss:0.37142\n",
            "[3]\teval-logloss:0.36340\n",
            "[4]\teval-logloss:0.35664\n",
            "[5]\teval-logloss:0.35101\n",
            "[6]\teval-logloss:0.34622\n",
            "[7]\teval-logloss:0.34197\n",
            "[8]\teval-logloss:0.33850\n",
            "[9]\teval-logloss:0.33553\n",
            "[10]\teval-logloss:0.33291\n",
            "[11]\teval-logloss:0.33070\n",
            "[12]\teval-logloss:0.32874\n",
            "[13]\teval-logloss:0.32707\n",
            "[14]\teval-logloss:0.32557\n",
            "[15]\teval-logloss:0.32416\n",
            "[16]\teval-logloss:0.32297\n",
            "[17]\teval-logloss:0.32186\n",
            "[18]\teval-logloss:0.32090\n",
            "[19]\teval-logloss:0.32014\n",
            "[20]\teval-logloss:0.31942\n",
            "[21]\teval-logloss:0.31879\n",
            "[22]\teval-logloss:0.31827\n",
            "[23]\teval-logloss:0.31767\n",
            "[24]\teval-logloss:0.31728\n",
            "[25]\teval-logloss:0.31671\n",
            "[26]\teval-logloss:0.31618\n",
            "[27]\teval-logloss:0.31578\n",
            "[28]\teval-logloss:0.31522\n",
            "[29]\teval-logloss:0.31493\n",
            "[30]\teval-logloss:0.31466\n",
            "[31]\teval-logloss:0.31437\n",
            "[32]\teval-logloss:0.31419\n",
            "[33]\teval-logloss:0.31382\n",
            "[34]\teval-logloss:0.31358\n",
            "[35]\teval-logloss:0.31328\n",
            "[36]\teval-logloss:0.31316\n",
            "[37]\teval-logloss:0.31286\n",
            "[38]\teval-logloss:0.31251\n",
            "[39]\teval-logloss:0.31227\n",
            "[40]\teval-logloss:0.31208\n",
            "[41]\teval-logloss:0.31173\n",
            "[42]\teval-logloss:0.31153\n",
            "[43]\teval-logloss:0.31143\n",
            "[44]\teval-logloss:0.31120\n",
            "[45]\teval-logloss:0.31095\n",
            "[46]\teval-logloss:0.31082\n",
            "[47]\teval-logloss:0.31071\n",
            "[48]\teval-logloss:0.31038\n",
            "[49]\teval-logloss:0.31025\n",
            "[50]\teval-logloss:0.31019\n",
            "[51]\teval-logloss:0.31009\n",
            "[52]\teval-logloss:0.30986\n",
            "[53]\teval-logloss:0.30972\n",
            "[54]\teval-logloss:0.30961\n",
            "[55]\teval-logloss:0.30953\n",
            "[56]\teval-logloss:0.30934\n",
            "[57]\teval-logloss:0.30914\n",
            "[58]\teval-logloss:0.30897\n",
            "[59]\teval-logloss:0.30878\n",
            "[60]\teval-logloss:0.30876\n",
            "[61]\teval-logloss:0.30866\n",
            "[62]\teval-logloss:0.30845\n",
            "[63]\teval-logloss:0.30826\n",
            "[64]\teval-logloss:0.30810\n",
            "[65]\teval-logloss:0.30804\n",
            "[66]\teval-logloss:0.30798\n",
            "[67]\teval-logloss:0.30780\n",
            "[68]\teval-logloss:0.30764\n",
            "[69]\teval-logloss:0.30755\n",
            "[70]\teval-logloss:0.30746\n",
            "[71]\teval-logloss:0.30731\n",
            "[72]\teval-logloss:0.30718\n",
            "[73]\teval-logloss:0.30711\n",
            "[74]\teval-logloss:0.30708\n",
            "[75]\teval-logloss:0.30705\n",
            "[76]\teval-logloss:0.30697\n",
            "[77]\teval-logloss:0.30682\n",
            "[78]\teval-logloss:0.30676\n",
            "[79]\teval-logloss:0.30666\n",
            "[80]\teval-logloss:0.30662\n",
            "[81]\teval-logloss:0.30651\n",
            "[82]\teval-logloss:0.30638\n",
            "[83]\teval-logloss:0.30626\n",
            "[84]\teval-logloss:0.30615\n",
            "[85]\teval-logloss:0.30606\n",
            "[86]\teval-logloss:0.30599\n",
            "[87]\teval-logloss:0.30595\n",
            "[88]\teval-logloss:0.30585\n",
            "[89]\teval-logloss:0.30577\n",
            "[90]\teval-logloss:0.30571\n",
            "[91]\teval-logloss:0.30568\n",
            "[92]\teval-logloss:0.30552\n",
            "[93]\teval-logloss:0.30533\n",
            "[94]\teval-logloss:0.30523\n",
            "[95]\teval-logloss:0.30519\n",
            "[96]\teval-logloss:0.30518\n",
            "[97]\teval-logloss:0.30513\n",
            "[98]\teval-logloss:0.30508\n",
            "[99]\teval-logloss:0.30505\n",
            "Accuracy: 88.92%\n",
            "[[13991   241]\n",
            " [ 1587   673]]\n",
            "              precision    recall  f1-score   support\n",
            "\n",
            "           0       0.90      0.98      0.94     14232\n",
            "           1       0.74      0.30      0.42      2260\n",
            "\n",
            "    accuracy                           0.89     16492\n",
            "   macro avg       0.82      0.64      0.68     16492\n",
            "weighted avg       0.88      0.89      0.87     16492\n",
            "\n"
          ]
        }
      ]
    },
    {
      "cell_type": "markdown",
      "source": [
        "## **5. Challenging the Solution**"
      ],
      "metadata": {
        "id": "p0ulKFDcr6LI"
      }
    },
    {
      "cell_type": "code",
      "source": [
        "# Use a different ML technique and compare with XGboost; in this case we use Random Forest\n",
        "\n",
        "\n",
        "from imblearn.over_sampling import RandomOverSampler\n",
        "from sklearn.ensemble import RandomForestClassifier\n",
        "from sklearn.model_selection import train_test_split\n",
        "from sklearn.metrics import classification_report, accuracy_score\n",
        "from sklearn.metrics import classification_report, confusion_matrix\n",
        "\n",
        "\n",
        "# Split the dataset into training and testing sets\n",
        "X_train, X_test, y_train, y_test = train_test_split(X, y, test_size=0.2, random_state=42)\n",
        "\n",
        "# Perform oversampling on the training data using RandomOverSampler\n",
        "oversampler = RandomOverSampler(random_state=42)\n",
        "X_train_resampled, y_train_resampled = oversampler.fit_resample(X_train, y_train)\n",
        "\n",
        "# Create a Random Forest classifier\n",
        "rf_classifier = RandomForestClassifier(random_state=42)\n",
        "\n",
        "# Train the Random Forest classifier on the oversampled data\n",
        "rf_classifier.fit(X_train_resampled, y_train_resampled)\n",
        "\n",
        "# Make predictions on the test data\n",
        "y_pred = rf_classifier.predict(X_test)\n",
        "\n",
        "# Evaluate the model\n",
        "accuracy = accuracy_score(y_test, y_pred)\n",
        "print(\"Accuracy: %.2f%%\" % (accuracy * 100.0))\n",
        "\n",
        "# Print classification report\n",
        "print(\"Classification Report:\")\n",
        "print(classification_report(y_test, y_pred))\n",
        "\n",
        "from sklearn.metrics import accuracy_score,roc_auc_score,roc_curve\n",
        "\n",
        "sns.heatmap(confusion_matrix(y_test,y_pred), annot=True, fmt='d')\n",
        "\n",
        "\n"
      ],
      "metadata": {
        "colab": {
          "base_uri": "https://localhost:8080/"
        },
        "id": "ammmdT560kQe",
        "outputId": "3fdf1747-3e61-41da-a5fd-cc4bf4e9ff5c"
      },
      "execution_count": null,
      "outputs": [
        {
          "output_type": "stream",
          "name": "stdout",
          "text": [
            "Accuracy: 88.62%\n",
            "Classification Report:\n",
            "              precision    recall  f1-score   support\n",
            "\n",
            "           0       0.91      0.97      0.94     14232\n",
            "           1       0.65      0.37      0.47      2260\n",
            "\n",
            "    accuracy                           0.89     16492\n",
            "   macro avg       0.78      0.67      0.70     16492\n",
            "weighted avg       0.87      0.89      0.87     16492\n",
            "\n"
          ]
        },
        {
          "output_type": "execute_result",
          "data": {
            "text/plain": [
              "<Axes: >"
            ]
          },
          "metadata": {},
          "execution_count": 53
        },
        {
          "output_type": "display_data",
          "data": {
            "text/plain": [
              "<Figure size 640x480 with 2 Axes>"
            ],
            "image/png": "[encoded data removed]"
          },
          "metadata": {}
        }
      ]
    },
    {
      "cell_type": "markdown",
      "source": [
        "**Observation**\n",
        "\n",
        "\n",
        "*   Random forest model gives us an overal accuracy score of 88.39%. It correctly predicts that 13721 studies were completed while 856 were terminated.\n",
        "*  It also makes wrong prections that 431 studies were completed yet they were terminated and 1484 studies were terminated yet they were completed.\n",
        "\n"
      ],
      "metadata": {
        "id": "4asfVdwltNjM"
      }
    },
    {
      "cell_type": "markdown",
      "source": [
        "##**6.Conclusion**"
      ],
      "metadata": {
        "id": "KAiYWAlmQW-y"
      }
    },
    {
      "cell_type": "markdown",
      "source": [
        "\n",
        "\n",
        "*   There are various research approaches that are employed in clinical trials. The most commonly used accordng to the analysis is the Interventional type of study.\n",
        "\n",
        "\n",
        "*  The data reveals a predominant focus on adult and older adult participants, with limited representation of children and a gap in older adult involvement in clinical studies. Ensuring a more inclusive age distribution in research is crucial for comprehensive medical advancements.\n",
        "\n",
        "\n",
        "\n",
        "*  In our exploration, we identified a select group of diseases that have garnered the most attention in clinical studies. These include Cancer related diseases,HIV/AIDS,Heart disease and COVID-19. This knowledge helps direct healthcare resources and research efforts to areas where they are most needed.\n",
        "\n",
        "\n",
        "*   Our analysis highlighted the key sponsors who are driving clinical research.They include, National Cancer Institute, M.D Anderson Cancer Center,Memorial Sloan Kettering Cancer Center among others. Understanding these major stakeholders is crucial for assessing the funding and resource allocation in medical research.\n",
        "*   Investigating the statuses of registered clinical studies, gave insights into the progress and success rates of ongoing research endeavors, which allows us to identify areas of potential improvement.\n",
        "\n",
        "\n",
        "\n",
        "*   From the analysis, United States has emerged as a prominent hub for clinical studies.This geographic pattern reflects the presence of well-established research institutions, robust healthcare infrastructure, and patient populations conducive to clinical trials. While these hubs drive innovation, it also underscores the need for equitable distribution of research opportunities to ensure that medical advancements benefit a broader and more diverse population.\n",
        "*   The data shows that many studies are done, which is good for progress. Some are still looking for participants, showing ongoing research. But there are also some we don't know much about, and some that got stopped. This tells us that clinical research can be uncertain, and it's important to find out why some studies don't go as planned to improve future trials.\n",
        "\n",
        "\n",
        "\n",
        "* The predictive model we developed to forecast whether a clinical study is likely to be completed or terminated offers valuable insights into the factors influencing the outcome of these studies. By successfully utilizing this model, we gain a better understanding of the determinants that contribute to the successful completion of trials or their premature termination. This knowledge can guide stakeholders in making informed decisions and optimizing resources to increase the chances of successful clinical studies, ultimately advancing medical research and healthcare.\n",
        "\n",
        "\n",
        "\n",
        "\n",
        "\n",
        "\n",
        "\n",
        "\n"
      ],
      "metadata": {
        "id": "hqGVQXamQt6i"
      }
    },
    {
      "cell_type": "markdown",
      "source": [
        "## 7.**Recomendation**"
      ],
      "metadata": {
        "id": "hrA4Ggezn_Li"
      }
    },
    {
      "cell_type": "markdown",
      "source": [
        "\n",
        "\n",
        "\n",
        "\n",
        "*   Given the prominence of cancer-related diseases, HIV/AIDS, heart disease, and COVID-19 in clinical studies, it is crucial to continue investing in research and allocating resources to these areas. Additionally, ensuring accessible and affordable healthcare for these conditions is essential for better health outcomes.\n",
        "*   There is need for more collaboration with major sponsors in the clinical trials for impactful partnerships and funding hence successful clinical trials.\n",
        "\n",
        "\n",
        "*   For areas with ongoing research, maintaining a system that monitors the progress and success rates of clinical studies is essential. Periodic reviews and quality assessments can help identify and address any issues, ensuring more efficient and successful trials.\n",
        "*   While established research hubs are important, it's vital to promote a more balanced distribution of clinical studies to benefit a broader population. Encouraging research institutions in less prominent regions can help in achieving a more equitable spread of medical advancements.\n",
        "\n",
        "\n",
        "* For studies with unknown or terminated statuses, there is a need for in-depth analysis to understand the reasons behind these outcomes. This analysis can guide future research efforts, ensuring a more efficient use of resources and better planning.  \n",
        "*  Harness the power of predictive modelling as a pivotal tool in clinical trials. By integrating predictive modeling into the decision-making process, we can significantly enhance our ability to foresee study outcomes. This not only helps us avoid costly project stalls and untimely terminations but also enables us to allocate funds more effectively, maximizing the impact of our investments.\n",
        "\n",
        "\n",
        "\n",
        "\n",
        "\n",
        "\n"
      ],
      "metadata": {
        "id": "m3jChoYQozLI"
      }
    }
  ]
}